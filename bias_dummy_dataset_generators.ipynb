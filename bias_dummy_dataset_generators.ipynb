{
 "cells": [
  {
   "cell_type": "code",
   "execution_count": 1,
   "metadata": {},
   "outputs": [],
   "source": [
    "import pandas as pd\n",
    "import numpy as np\n",
    "import matplotlib.pyplot as plt\n",
    "pd.set_option('display.max_columns', None)\n",
    "pd.set_option('display.max_rows', None)\n",
    "plt.style.use('ggplot')"
   ]
  },
  {
   "cell_type": "code",
   "execution_count": null,
   "metadata": {},
   "outputs": [],
   "source": [
    "# Create array of predicted values on entire test set\n",
    "y_pred = rf_fitted.predict(X_test)\n",
    "\n",
    "# Make df of predictions with predicted and true columns to be used for comparison\n",
    "analysis = X_test.copy() \n",
    "analysis['Pred Approval'] = y_pred\n",
    "analysis['Actual Approval'] = y_test"
   ]
  },
  {
   "cell_type": "code",
   "execution_count": null,
   "metadata": {},
   "outputs": [],
   "source": [
    "# Create DFs with indices of black applicants and white applicants, respectively. Because I am pulling records\n",
    "# by race, I need to keep the True and Predicted values attached to these rows. No longer doing any prediction. \n",
    "black = analysis[analysis['Race of Applicant or Borrower: 1_3.0'] == 1]\n",
    "white = analysis[analysis['Race of Applicant or Borrower: 1_5.0'] == 1]\n",
    "print(f'Num black applicants: {black[\"Income\"].count()}')\n",
    "print(f'Num white applicants: {white[\"Income\"].count()}')"
   ]
  }
 ],
 "metadata": {
  "kernelspec": {
   "display_name": "Python 3",
   "language": "python",
   "name": "python3"
  },
  "language_info": {
   "codemirror_mode": {
    "name": "ipython",
    "version": 3
   },
   "file_extension": ".py",
   "mimetype": "text/x-python",
   "name": "python",
   "nbconvert_exporter": "python",
   "pygments_lexer": "ipython3",
   "version": "3.7.7"
  }
 },
 "nbformat": 4,
 "nbformat_minor": 4
}
