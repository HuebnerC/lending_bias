{
 "cells": [
  {
   "cell_type": "code",
   "execution_count": 3,
   "metadata": {},
   "outputs": [],
   "source": []
  },
  {
   "cell_type": "code",
   "execution_count": 1,
   "metadata": {},
   "outputs": [
    {
     "name": "stdout",
     "output_type": "stream",
     "text": [
      "Writing example_html_only.html\n"
     ]
    }
   ],
   "source": [
    "\n",
    "%%writefile example_html_only.html\n",
    "\n",
    "<!DOCTYPE html>\n",
    "<html>\n",
    "    <head>\n",
    "        <meta charset=\"utf-8\">\n",
    "        <title>Page Title</title>\n",
    "    </head>\n",
    "    <body>\n",
    "    <!-- page content below -->\n",
    "        <h1>My Page</h1>\n",
    "        <p>\n",
    "            All the things I want to say.  \n",
    "        </p>\n",
    "        <p style=\"color: purple; text-align: right;\">\n",
    "            My right-aligned purple text.\n",
    "        </p>\n",
    "        <p style=\"font-family: courier; color: blue; text-align: center; font-size:150%;\">\n",
    "            <b>My bold blue centered text in Courier font at 1.5x size.</b>\n",
    "        </p>\n",
    "        <h2>This was just HTML.  \n",
    "    </body>\n",
    "</html>"
   ]
  },
  {
   "cell_type": "code",
   "execution_count": 6,
   "metadata": {},
   "outputs": [
    {
     "name": "stdout",
     "output_type": "stream",
     "text": [
      "Overwriting flask_ex1.py\n"
     ]
    }
   ],
   "source": [
    "%%writefile flask_ex1.py\n",
    "from flask import Flask\n",
    "# initialize the Flask app, note that all routing blocks use @app\n",
    "app = Flask(__name__)  # instantiate a flask app object\n",
    "\n",
    "# routing blocks - note there is only one in this case - @app.route('/') \n",
    "\n",
    "# home page - the first place your app will go\n",
    "@app.route('/', methods = ['GET', 'POST'])  # GET is the default, more about GET and POST below\n",
    "# the function below will be executed at the host and port followed by '/' \n",
    "# the name of the function that will be executed at '/'. Its name is arbitrary.\n",
    "def index():\n",
    "    return 'Hello!'\n",
    "\n",
    "# no more routing blocks\n",
    "\n",
    "if __name__ == '__main__':\n",
    "    app.run(host='0.0.0.0', port=8080, debug=True)\n",
    "    # the combination of host and port are where we look for it in our browser\n",
    "    # e.g. http://0.0.0.0:8080/\n",
    "    # setting debug=True to see error messages - wouldn't do this on a final deployed app"
   ]
  },
  {
   "cell_type": "code",
   "execution_count": 5,
   "metadata": {},
   "outputs": [
    {
     "name": "stdout",
     "output_type": "stream",
     "text": [
      "Writing flask_ex2.py\n"
     ]
    }
   ],
   "source": [
    "%%writefile flask_ex2.py\n",
    "\n",
    "from flask import Flask\n",
    "app = Flask(__name__)\n",
    "\n",
    "# first routing block\n",
    "@app.route('/') # if no methods specified, default is 'GET'\n",
    "def index():\n",
    "    display_str = 'Hello!'\n",
    "    # code below makes a button to go to the '/rainbow' block\n",
    "    go_to_rainbow_html = '''\n",
    "        <form action=\"/rainbow\" >\n",
    "            <input type=\"submit\" value = \"Go to rainbow\"/>\n",
    "        </form>\n",
    "    '''\n",
    "    # html that gets returned\n",
    "    return display_str + go_to_rainbow_html\n",
    "\n",
    "\n",
    "# second routing block\n",
    "@app.route('/rainbow') # if no methods specified, default is 'GET'\n",
    "def rainbow():\n",
    "    colors = ['red', 'orange', 'yellow', 'green', 'blue', 'purple']\n",
    "    color_divs = []\n",
    "    for i in range(20):\n",
    "        color = colors[i % len(colors)]\n",
    "        # making html string that makes colors\n",
    "        div = '''<div style=\"background-color: {0};\n",
    "                             color: white;\n",
    "                             text-align: center;\">\n",
    "                     {1}\n",
    "                 </div>'''.format(color, '*' * 100)\n",
    "        color_divs.append(div)\n",
    "    \n",
    "    # make html that gives us a button to go back to the home page\n",
    "    go_to_home_html = '''\n",
    "        <form action=\"/\" >\n",
    "            <input type=\"submit\" value = \"Go home\"/>\n",
    "        </form>\n",
    "    '''\n",
    "    # combine them for final html\n",
    "    return '''\n",
    "            <!DOCTYPE html>\n",
    "            <html>\n",
    "                <head>\n",
    "                    <meta charset=\"utf-8\">\n",
    "                    <title>Rainbow</title>\n",
    "                </head>\n",
    "                <body>{0}</body>\n",
    "            </html>\n",
    "            '''.format('\\n'.join(color_divs)) + go_to_home_html\n",
    "\n",
    "if __name__ == '__main__':\n",
    "    app.run(host='0.0.0.0', port=8080, debug=True)"
   ]
  },
  {
   "cell_type": "code",
   "execution_count": 7,
   "metadata": {},
   "outputs": [
    {
     "name": "stdout",
     "output_type": "stream",
     "text": [
      "Writing flask_ex3.py\n"
     ]
    }
   ],
   "source": [
    "%%writefile flask_ex3.py\n",
    "\n",
    "from collections import Counter\n",
    "from flask import Flask, request\n",
    "app = Flask(__name__)\n",
    "\n",
    "# formatting dictionary keys and values to be displayed in html\n",
    "def dict_to_html(d):\n",
    "    return '<br>'.join('{0}: {1}'.format(k, d[k]) for k in sorted(d))\n",
    "\n",
    "\n",
    "# Form page to submit text\n",
    "@app.route('/')\n",
    "def submission_page():\n",
    "    # in this form, method = 'POST' means that data entered into\n",
    "    # the 'user_input' variable will be sent to the /word_counter routing\n",
    "    # block when the 'Enter text' submit button is pressed\n",
    "    return '''\n",
    "        <form action=\"/word_counter\" method='POST' >\n",
    "            <input type=\"text\" name=\"user_input\" />\n",
    "            <input type=\"submit\" value = 'Enter text'/>\n",
    "        </form>\n",
    "        '''\n",
    "\n",
    "\n",
    "# My word counter app\n",
    "# this routing block accepts data in variable 'user_input' from the form\n",
    "# and then processes it on the server and returns word counts to the browser\n",
    "@app.route('/word_counter', methods=['GET', 'POST'])\n",
    "def word_counter():\n",
    "    text = str(request.form['user_input']) #gets the value entered in the input type=\"text\", name=\"user_input\"\n",
    "    word_counts = Counter(text.lower().split())\n",
    "    \n",
    "    # formatted output string\n",
    "    page = 'There are {0} words.<br><br>Individual word counts:<br> {1}'\n",
    "    \n",
    "    # make html that gives us a button to go back to the home page\n",
    "    go_to_home_html = '''\n",
    "        <form action=\"/\" >\n",
    "            <input type=\"submit\" value = \"Enter more text\"/>\n",
    "        </form>\n",
    "    '''\n",
    "    \n",
    "    return page.format(len(word_counts), dict_to_html(word_counts)) + go_to_home_html\n",
    "\n",
    "\n",
    "if __name__ == '__main__':\n",
    "    app.run(host='0.0.0.0', port=8080, debug=True)"
   ]
  },
  {
   "cell_type": "code",
   "execution_count": 8,
   "metadata": {},
   "outputs": [
    {
     "name": "stdout",
     "output_type": "stream",
     "text": [
      "Writing flask_ex4.py\n"
     ]
    }
   ],
   "source": [
    "%%writefile flask_ex4.py\n",
    "\n",
    "from random import random\n",
    "import matplotlib\n",
    "from matplotlib.figure import Figure\n",
    "matplotlib.use('Agg')\n",
    "from io import BytesIO\n",
    "from flask import Flask\n",
    "app = Flask(__name__)\n",
    "\n",
    "@app.route('/')\n",
    "def index():\n",
    "    # img in the html specifies the presence of an image\n",
    "    # however, the src of the image is a routing block instead of\n",
    "    # a .jpg or .png\n",
    "    return '''\n",
    "        <h2>Here's my plot!</h2>\n",
    "        <img src='/plot.png'>\n",
    "        '''\n",
    "\n",
    "@app.route('/plot.png')\n",
    "def get_graph():\n",
    "    fig = Figure()\n",
    "    ax = fig.subplots()\n",
    "    n = 10\n",
    "    ax.plot(range(n), [random() for i in range(n)])\n",
    "    image = BytesIO()\n",
    "    fig.savefig(image)  #the plot is saved\n",
    "    return image.getvalue(), 200, {'Content-Type': 'image/png'}\n",
    "\n",
    "\n",
    "if __name__ == '__main__':\n",
    "    app.run(host='0.0.0.0', port=8080, debug=True)"
   ]
  },
  {
   "cell_type": "code",
   "execution_count": 9,
   "metadata": {},
   "outputs": [
    {
     "name": "stdout",
     "output_type": "stream",
     "text": [
      "Writing templates/table.html\n"
     ]
    }
   ],
   "source": [
    "%%writefile templates/table.html\n",
    "\n",
    "<html>\n",
    "<head>\n",
    "<!-- CSS style -->\n",
    "<style>\n",
    "table, th, td {\n",
    "    border: 1px solid black;\n",
    "    border-collapse: collapse;\n",
    "}\n",
    "th, td {\n",
    "    padding: 15px;\n",
    "}\n",
    "table.center {\n",
    "    margin-left:auto; \n",
    "    margin-right:auto;\n",
    "}\n",
    "</style>\n",
    "</head>\n",
    "<body>\n",
    "<table class=\"center\">\n",
    "  <thead>\n",
    "    <th>x</th>\n",
    "    <th>y</th>\n",
    "  </thead>\n",
    "  <tbody>\n",
    "    <!-- Here is where the data passed into the template gets inserted -->\n",
    "    {% for x, y in data %}\n",
    "      <tr>\n",
    "        <td>{{ x }}</td>\n",
    "        <td>{{ y }}</td>\n",
    "      </tr>\n",
    "    {% endfor %}\n",
    "  </tbody>\n",
    "</table>"
   ]
  },
  {
   "cell_type": "code",
   "execution_count": 10,
   "metadata": {},
   "outputs": [
    {
     "name": "stdout",
     "output_type": "stream",
     "text": [
      "Writing flask_ex5.py\n"
     ]
    }
   ],
   "source": [
    "%%writefile flask_ex5.py\n",
    "\n",
    "from flask import Flask, render_template\n",
    "from random import random\n",
    "app = Flask(__name__)\n",
    "\n",
    "\n",
    "@app.route('/')\n",
    "def index():\n",
    "    n = 10\n",
    "    x = range(n)\n",
    "    y = [round(random(),3) for i in x]\n",
    "    # table.html is an existing file in the templates folder\n",
    "    # isn't this nice, no html here!\n",
    "    return render_template('table.html', data=zip(x, y))  # using Jinja here, the render_template call\n",
    "\n",
    "if __name__ == '__main__':\n",
    "    app.run(host='0.0.0.0', port=8080, debug=True)"
   ]
  },
  {
   "cell_type": "code",
   "execution_count": 11,
   "metadata": {},
   "outputs": [
    {
     "ename": "FileNotFoundError",
     "evalue": "[Errno 2] No such file or directory: 'data/model_logreg.pkl'",
     "output_type": "error",
     "traceback": [
      "\u001b[0;31m---------------------------------------------------------------------------\u001b[0m",
      "\u001b[0;31mFileNotFoundError\u001b[0m                         Traceback (most recent call last)",
      "\u001b[0;32m<ipython-input-11-1448eb81b509>\u001b[0m in \u001b[0;36m<module>\u001b[0;34m\u001b[0m\n\u001b[1;32m      9\u001b[0m \u001b[0;34m\u001b[0m\u001b[0m\n\u001b[1;32m     10\u001b[0m \u001b[0;31m# load the pickled model\u001b[0m\u001b[0;34m\u001b[0m\u001b[0;34m\u001b[0m\u001b[0;34m\u001b[0m\u001b[0m\n\u001b[0;32m---> 11\u001b[0;31m \u001b[0;32mwith\u001b[0m \u001b[0mopen\u001b[0m\u001b[0;34m(\u001b[0m\u001b[0;34m'data/model_logreg.pkl'\u001b[0m\u001b[0;34m,\u001b[0m \u001b[0;34m'rb'\u001b[0m\u001b[0;34m)\u001b[0m \u001b[0;32mas\u001b[0m \u001b[0mf\u001b[0m\u001b[0;34m:\u001b[0m\u001b[0;34m\u001b[0m\u001b[0;34m\u001b[0m\u001b[0m\n\u001b[0m\u001b[1;32m     12\u001b[0m     \u001b[0mmodel\u001b[0m \u001b[0;34m=\u001b[0m \u001b[0mpickle\u001b[0m\u001b[0;34m.\u001b[0m\u001b[0mload\u001b[0m\u001b[0;34m(\u001b[0m\u001b[0mf\u001b[0m\u001b[0;34m)\u001b[0m\u001b[0;34m\u001b[0m\u001b[0;34m\u001b[0m\u001b[0m\n\u001b[1;32m     13\u001b[0m \u001b[0;34m\u001b[0m\u001b[0m\n",
      "\u001b[0;31mFileNotFoundError\u001b[0m: [Errno 2] No such file or directory: 'data/model_logreg.pkl'"
     ]
    }
   ],
   "source": [
    "\n",
    "from flask import Flask, request\n",
    "import pickle\n",
    "import numpy as np\n",
    "import matplotlib.pyplot as plt\n",
    "from io import BytesIO\n",
    "\n",
    "# Initialize app\n",
    "app = Flask(__name__)\n",
    "\n",
    "# load the pickled model\n",
    "with open('data/model_logreg.pkl', 'rb') as f:\n",
    "    model = pickle.load(f)\n",
    "\n",
    "# load the pickled training data to display with prediction\n",
    "with open('data/trainXY.pkl', 'rb') as f:\n",
    "    trainXY = pickle.load(f)\n",
    "\n",
    "trainX = trainXY[:,:2]\n",
    "trainY = trainXY[:,2]\n",
    "\n",
    "# Home page with form on it to submit new data\n",
    "@app.route('/')\n",
    "def get_new_data():\n",
    "    return '''\n",
    "        <form action=\"/predict\" method='POST'>\n",
    "          Sepal length (4.0 - 9.0):<br>\n",
    "          <input type=\"text\" name=\"length\"> \n",
    "          <br>\n",
    "          Sepal width (1.0 - 5.0):<br>\n",
    "          <input type=\"text\" name=\"width\"> \n",
    "          <br><br>\n",
    "          <input type=\"submit\" value=\"Submit for class prediction\">\n",
    "        </form>\n",
    "        '''\n",
    "\n",
    "@app.route('/predict', methods = [\"GET\", \"POST\"])\n",
    "def predict():\n",
    "    # request the text from the form \n",
    "    length = float(request.form['length'])\n",
    "    width = float(request.form['width'])\n",
    "    X_n = np.array([[length, width]])\n",
    "    \n",
    "    # predict on the new data\n",
    "    Y_pred = model.predict(X_n)\n",
    "\n",
    "    # for plotting \n",
    "    X_0 = trainX[trainY == 0] # class 0\n",
    "    X_1 = trainX[trainY == 1] # class 1\n",
    "    X_2 = trainX[trainY == 2] # class 2\n",
    "    \n",
    "    # color-coding prediction \n",
    "    if Y_pred[0] == 0:\n",
    "        cp = 'b'\n",
    "    elif Y_pred[0] == 1:\n",
    "        cp = 'r'\n",
    "    else:\n",
    "        cp = 'g'\n",
    "\n",
    "    if plt:\n",
    "        plt.clf() # clears the figure when browser back arrow used to enter new data\n",
    "\n",
    "    plt.scatter(X_0[:, 0], X_0[:, 1], c='b', edgecolors='k', label = 'class 0')\n",
    "    plt.scatter(X_1[:, 0], X_1[:, 1], c='r', edgecolors='k', label = 'class 1')\n",
    "    plt.scatter(X_2[:, 0], X_2[:, 1], c='g', edgecolors='k', label = 'class 2')\n",
    "    plt.scatter(X_n[:, 0], X_n[:, 1], c=cp, edgecolors='k', marker = 'd', \\\n",
    "        s=100, label = 'prediction')\n",
    "    plt.xlabel('Sepal length')\n",
    "    plt.ylabel('Sepal width')\n",
    "    plt.title('Prediction plotted with training data')\n",
    "    plt.legend()\n",
    "        \n",
    "    image = BytesIO()\n",
    "    plt.savefig(image)\n",
    "    out = image.getvalue(), 200, {'Content-Type': 'image/png'}\n",
    "    return out\n",
    "\n",
    "if __name__ == '__main__':\n",
    "    app.run(host='0.0.0.0', port=8080, debug=True)"
   ]
  },
  {
   "cell_type": "code",
   "execution_count": null,
   "metadata": {},
   "outputs": [],
   "source": []
  }
 ],
 "metadata": {
  "kernelspec": {
   "display_name": "Python 3",
   "language": "python",
   "name": "python3"
  },
  "language_info": {
   "codemirror_mode": {
    "name": "ipython",
    "version": 3
   },
   "file_extension": ".py",
   "mimetype": "text/x-python",
   "name": "python",
   "nbconvert_exporter": "python",
   "pygments_lexer": "ipython3",
   "version": "3.7.7"
  }
 },
 "nbformat": 4,
 "nbformat_minor": 4
}
