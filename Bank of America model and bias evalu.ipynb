{
 "cells": [
  {
   "cell_type": "code",
   "execution_count": 4,
   "metadata": {},
   "outputs": [],
   "source": [
    "import pandas as pd\n",
    "import numpy as np\n",
    "import matplotlib.pyplot as plt\n",
    "from sklearn.model_selection import train_test_split\n",
    "from sklearn.model_selection import StratifiedKFold, KFold\n",
    "import pickle\n",
    "from sklearn.pipeline import Pipeline\n",
    "from sklearn.linear_model import LogisticRegression, SGDClassifier\n",
    "from sklearn.model_selection import KFold, GridSearchCV\n",
    "from sklearn.preprocessing import StandardScaler\n",
    "from sklearn.ensemble import RandomForestClassifier, GradientBoostingClassifier\n",
    "from sklearn.metrics import accuracy_score, mean_squared_error, f1_score, confusion_matrix, precision_score, recall_score, roc_auc_score, roc_curve\n",
    "from imblearn.under_sampling import RandomUnderSampler\n",
    "import seaborn as sns\n",
    "from sklearn.preprocessing import OrdinalEncoder\n",
    "pd.set_option('display.max_columns', None)\n",
    "pd.set_option('display.max_rows', None)\n",
    "plt.style.use('ggplot')"
   ]
  },
  {
   "cell_type": "code",
   "execution_count": 5,
   "metadata": {},
   "outputs": [
    {
     "name": "stderr",
     "output_type": "stream",
     "text": [
      "/Users/carlahuebner/opt/anaconda3/lib/python3.7/site-packages/IPython/core/interactiveshell.py:3072: DtypeWarning: Columns (43) have mixed types.Specify dtype option on import or set low_memory=False.\n",
      "  interactivity=interactivity, compiler=compiler, result=result)\n"
     ]
    }
   ],
   "source": [
    "# Load the data and create a copy to use to verify preprocessing steps\n",
    "quicken_df = pd.read_csv('data/bank_of_america.csv')\n",
    "check_df = quicken_df.copy()\n",
    "# Pull Census Tract dictionary from different notebook\n",
    "%store -r FIPS_dict"
   ]
  },
  {
   "cell_type": "code",
   "execution_count": 6,
   "metadata": {},
   "outputs": [],
   "source": [
    "# Initialize dictionary to store bank information\n",
    "boa_dict_keys = ['Lender', 'Likelihood of Approval', 'Certainty of Prediction', 'Approval Threshold', 'Black applicant error rate', \n",
    "                                         'Asian applicant error rate', 'Hispanic applicant error rate', \n",
    "                                         'Female applicant error rate']\n",
    "boa_dict={}\n",
    "boa_dict['Lender'] = 'Bank of America'"
   ]
  },
  {
   "cell_type": "markdown",
   "metadata": {},
   "source": [
    "# Step 1: Drop Perfect Predictors, Census added columns, irrelevant columns"
   ]
  },
  {
   "cell_type": "code",
   "execution_count": 7,
   "metadata": {},
   "outputs": [],
   "source": [
    "confirmed_perfect_pred = ['denial_reason-1', 'denial_reason-2', 'denial_reason-3', 'purchaser_type', 'preapproval', \n",
    "                       'interest_rate', 'rate_spread', 'hoepa_status', 'total_loan_costs', 'origination_charges', \n",
    "                       'discount_points', 'lender_credits', 'initially_payable_to_institution', 'denial_reason-4',\n",
    "                        'total_points_and_fees']\n",
    "quicken_df = quicken_df.drop(confirmed_perfect_pred, axis=1)"
   ]
  },
  {
   "cell_type": "code",
   "execution_count": 8,
   "metadata": {},
   "outputs": [],
   "source": [
    "census_appended = ['tract_minority_population_percent', 'tract_population', 'ffiec_msa_md_median_family_income',\n",
    "                  'tract_to_msa_income_percentage', 'tract_owner_occupied_units', 'tract_one_to_four_family_homes',\n",
    "                  'tract_median_age_of_housing_units']\n",
    "quicken_df = quicken_df.drop(census_appended, axis=1)"
   ]
  },
  {
   "cell_type": "code",
   "execution_count": 9,
   "metadata": {},
   "outputs": [],
   "source": [
    "drop_irrelevant = ['state_code', 'county_code', 'open-end_line_of_credit', 'manufactured_home_land_property_interest', \n",
    "                  'manufactured_home_secured_property_type', 'co-applicant_credit_score_type', 'applicant_ethnicity-2',\n",
    "                  'applicant_ethnicity-3', 'applicant_ethnicity-4', 'co-applicant_ethnicity-1', 'co-applicant_ethnicity-2',\n",
    "                  'co-applicant_ethnicity-3', 'co-applicant_ethnicity-4', 'co-applicant_ethnicity_observed',\n",
    "                  'applicant_race-2', 'applicant_race-3', 'applicant_race-4', 'applicant_race-5', \n",
    "                  'co-applicant_race-1', 'co-applicant_race-2', 'co-applicant_race-3', 'co-applicant_race-4', \n",
    "                  'co-applicant_race-5', 'co-applicant_race_observed', 'co-applicant_sex', 'applicant_sex_observed',\n",
    "                  'co-applicant_sex_observed', 'co-applicant_age', 'applicant_age_above_62', 'co-applicant_age_above_62',\n",
    "                  'submission_of_application', 'derived_loan_product_type', 'interest_only_payment', 'applicant_ethnicity-1',\n",
    "                  'applicant_race-1', 'applicant_sex', 'derived_msa-md', 'applicant_ethnicity-5', \n",
    "                  'co-applicant_ethnicity-5', 'activity_year', 'lei', 'multifamily_affordable_units', \n",
    "                  'aus-2', 'aus-3', 'aus-4', 'aus-5']\n",
    "quicken_df = quicken_df.drop(drop_irrelevant, axis=1)"
   ]
  },
  {
   "cell_type": "code",
   "execution_count": 10,
   "metadata": {},
   "outputs": [],
   "source": [
    "# drop features that would be difficult or impossible to gather from user input\n",
    "drop_impossible = ['negative_amortization', 'balloon_payment', 'applicant_ethnicity_observed', \n",
    "                   'applicant_race_observed', 'aus-1', 'other_nonamortizing_features', 'applicant_credit_score_type',\n",
    "                  'intro_rate_period']\n",
    "quicken_df = quicken_df.drop(drop_impossible, axis=1)"
   ]
  },
  {
   "cell_type": "markdown",
   "metadata": {},
   "source": [
    "# Step 2: Condense High Cardinality Columns"
   ]
  },
  {
   "cell_type": "code",
   "execution_count": 11,
   "metadata": {},
   "outputs": [],
   "source": [
    "# action taken\n",
    "quicken_df = quicken_df[~quicken_df['action_taken'].isin([4,5,7,8])]\n",
    "quicken_df['action_taken'] = quicken_df['action_taken'].map(lambda x: 0 if x ==3 else 1)"
   ]
  },
  {
   "cell_type": "markdown",
   "metadata": {},
   "source": [
    "# Step 3: Select loans that meet the following criteria, then drop those variables\n",
    "* Loan Purpose: Home purchase (no refi, home improvement, etc)\n",
    "* Lien Status: 1st liens only\n",
    "* Reverse Mortgage: exclude\n",
    "* Business/commercial: exclude\n",
    "* Only principal, single family homes"
   ]
  },
  {
   "cell_type": "code",
   "execution_count": 12,
   "metadata": {},
   "outputs": [],
   "source": [
    "quicken_df = quicken_df[quicken_df['loan_purpose'] == 1]\n",
    "quicken_df = quicken_df[quicken_df['lien_status'] == 1]\n",
    "quicken_df = quicken_df[quicken_df['reverse_mortgage'] == 2]\n",
    "quicken_df = quicken_df[quicken_df['business_or_commercial_purpose'] == 2]\n",
    "quicken_df = quicken_df[(quicken_df['total_units'] == '1') | (quicken_df['total_units'] == 1)]\n",
    "quicken_df = quicken_df[quicken_df['occupancy_type'] == 1]"
   ]
  },
  {
   "cell_type": "code",
   "execution_count": 13,
   "metadata": {},
   "outputs": [],
   "source": [
    "drop_after_subselection = ['loan_purpose', 'lien_status', 'reverse_mortgage', 'business_or_commercial_purpose', \n",
    "                          'total_units', 'occupancy_type']\n",
    "quicken_df = quicken_df.drop(drop_after_subselection, axis=1)"
   ]
  },
  {
   "cell_type": "markdown",
   "metadata": {},
   "source": [
    "# Step 4: Ensure all null values are coded the same way, or drop if very few nulls\n"
   ]
  },
  {
   "cell_type": "code",
   "execution_count": 14,
   "metadata": {},
   "outputs": [],
   "source": [
    "quicken_df = quicken_df[quicken_df['conforming_loan_limit'] != 'U']\n"
   ]
  },
  {
   "cell_type": "code",
   "execution_count": 15,
   "metadata": {},
   "outputs": [],
   "source": [
    "age_na_lst = [8888, '8888', '9999', 9999]\n",
    "quicken_df['applicant_age'] = quicken_df['applicant_age'].apply(lambda x: np.nan if x in age_na_lst else x)"
   ]
  },
  {
   "cell_type": "markdown",
   "metadata": {},
   "source": [
    "# Step 5: Variable Encoding\n",
    "* Dropped nan before encoding, or ignored\n",
    "* DIR - Debt-to-income ratio\n",
    "* Age (dropped 908 nan)\n",
    "* Census Tract"
   ]
  },
  {
   "cell_type": "code",
   "execution_count": 16,
   "metadata": {},
   "outputs": [],
   "source": [
    "DIR_mapper = {'20%-<30%': 25, '30%-<36%': 33, '>60%': 65, '<20%': 15, '50%-60%': 55}\n",
    "\n",
    "\n",
    "quicken_df['debt_to_income_ratio'] = quicken_df['debt_to_income_ratio'] \\\n",
    "                                    .map(lambda x: DIR_mapper[x] if x in DIR_mapper else int(x), na_action='ignore')"
   ]
  },
  {
   "cell_type": "code",
   "execution_count": 17,
   "metadata": {},
   "outputs": [],
   "source": [
    "quicken_df = quicken_df[quicken_df['applicant_age'].notnull()]"
   ]
  },
  {
   "cell_type": "code",
   "execution_count": 18,
   "metadata": {},
   "outputs": [],
   "source": [
    "# Create ordinalencoder object for age column\n",
    "enc = OrdinalEncoder()\n",
    "\n",
    "# Convert column to array\n",
    "age_df = quicken_df[['applicant_age']].to_numpy()\n",
    "enc.fit(age_df)\n",
    "enc.categories_\n",
    "\n",
    "# fitted encoder to array\n",
    "enc_age_arr = enc.transform(quicken_df[['applicant_age']].to_numpy())\n",
    "\n",
    "# Apply encoder transformation\n",
    "quicken_df['applicant_age'] = enc_age_arr"
   ]
  },
  {
   "cell_type": "code",
   "execution_count": 19,
   "metadata": {},
   "outputs": [],
   "source": [
    "# Assign each Census Tract to one of ten categories: urban, rural, etc\n",
    "quicken_df = quicken_df.dropna(subset=['census_tract'])\n",
    "quicken_df['census_tract'] = quicken_df['census_tract'].astype(int)\n",
    "quicken_df['census_tract'] = quicken_df['census_tract'].astype(str)\n",
    "quicken_df['census_tract'] = quicken_df['census_tract'].map(FIPS_dict)"
   ]
  },
  {
   "cell_type": "markdown",
   "metadata": {},
   "source": [
    "# Step 5: Handle Missing Values\n",
    "* Confirmed values MAR\n",
    "* Drop applicant credit score type\"\n",
    "    * 70% null values, will drop column instead of dropping null rows\n",
    "* Time crunch - dropped other missing value rows"
   ]
  },
  {
   "cell_type": "code",
   "execution_count": 20,
   "metadata": {},
   "outputs": [],
   "source": [
    "# Impute median for nan in the following columns\n",
    "quicken_df['debt_to_income_ratio'] = quicken_df['debt_to_income_ratio'].fillna(quicken_df['debt_to_income_ratio'] \\\n",
    "                                                                               .median())\n",
    "quicken_df['income'] = quicken_df['income'].fillna(quicken_df['income'].median())\n",
    "quicken_df['property_value'] = quicken_df['property_value'].fillna(quicken_df['property_value'].median())\n",
    "quicken_df['income'] = quicken_df['income'].fillna(quicken_df['income'].median())\n",
    "quicken_df['loan_to_value_ratio'] = quicken_df['loan_to_value_ratio'].fillna(quicken_df['loan_to_value_ratio'] \\\n",
    "                                                                             .median())"
   ]
  },
  {
   "cell_type": "code",
   "execution_count": 21,
   "metadata": {},
   "outputs": [],
   "source": [
    "# Drop columns that have only one unique value\n",
    "one_unique_value_lst = []\n",
    "for col in quicken_df.columns:\n",
    "    if len(quicken_df[col].unique()) ==1: \n",
    "        one_unique_value_lst.append(col)\n",
    "quicken_df = quicken_df.drop(one_unique_value_lst, axis=1)\n"
   ]
  },
  {
   "cell_type": "code",
   "execution_count": 22,
   "metadata": {},
   "outputs": [],
   "source": [
    "# If the percentage of NON null values is under 5% of the entire dataset, drop column\n",
    "mostly_null = []\n",
    "for col in quicken_df.columns: \n",
    "    if quicken_df[col].notnull().sum()/quicken_df.shape[0] * 100 <5:\n",
    "        mostly_null.append(col)\n",
    "quicken_df = quicken_df.drop(mostly_null, axis=1)\n"
   ]
  },
  {
   "cell_type": "code",
   "execution_count": 23,
   "metadata": {},
   "outputs": [
    {
     "data": {
      "text/plain": [
       "['census_tract']"
      ]
     },
     "execution_count": 23,
     "metadata": {},
     "output_type": "execute_result"
    }
   ],
   "source": [
    "# create list of columns that have null values that need to be handled\n",
    "has_nulls = []\n",
    "for col in quicken_df.columns: \n",
    "    if quicken_df[col].notnull().sum() != quicken_df.shape[0]: \n",
    "        has_nulls.append(col)\n",
    "has_nulls"
   ]
  },
  {
   "cell_type": "code",
   "execution_count": 24,
   "metadata": {},
   "outputs": [
    {
     "data": {
      "text/plain": [
       "{'census_tract': 26.49043650122876}"
      ]
     },
     "execution_count": 24,
     "metadata": {},
     "output_type": "execute_result"
    }
   ],
   "source": [
    "# Calculate missing value ratio for remaining columns with null value\n",
    "missing_val_dict = {}\n",
    "for col in has_nulls: \n",
    "    missing_val_dict[col] = quicken_df[col].isnull().sum()/quicken_df.shape[0]* 100\n",
    "missing_val_dict"
   ]
  },
  {
   "cell_type": "markdown",
   "metadata": {},
   "source": [
    "### *Need to determine case-by-case for next cell*"
   ]
  },
  {
   "cell_type": "code",
   "execution_count": 25,
   "metadata": {},
   "outputs": [],
   "source": [
    "quicken_df = quicken_df.dropna(subset=['census_tract' ])"
   ]
  },
  {
   "cell_type": "code",
   "execution_count": 26,
   "metadata": {},
   "outputs": [],
   "source": [
    "quicken_df = quicken_df[quicken_df['census_tract'] != 99]"
   ]
  },
  {
   "cell_type": "markdown",
   "metadata": {},
   "source": [
    "#### Drop highly correlated columns\n",
    "* property value & loan amount (0.97) - kept loan amount as this is more likely the value the app user will know"
   ]
  },
  {
   "cell_type": "code",
   "execution_count": 27,
   "metadata": {},
   "outputs": [],
   "source": [
    "quicken_df = quicken_df.drop('property_value', axis=1)"
   ]
  },
  {
   "cell_type": "markdown",
   "metadata": {},
   "source": [
    "# Model preparation"
   ]
  },
  {
   "cell_type": "code",
   "execution_count": 28,
   "metadata": {},
   "outputs": [],
   "source": [
    "categorical_cols = ['census_tract', 'conforming_loan_limit', 'derived_dwelling_category', 'derived_ethnicity', \n",
    "                      'derived_race', 'derived_sex', 'loan_type', 'construction_method']\n"
   ]
  },
  {
   "cell_type": "code",
   "execution_count": 29,
   "metadata": {},
   "outputs": [],
   "source": [
    "# feature (X) and target(y) matrices, will encode on X instead of entire dataframe\n",
    "X = quicken_df.drop(['action_taken'], axis=1)\n",
    "y = quicken_df['action_taken']"
   ]
  },
  {
   "cell_type": "code",
   "execution_count": 30,
   "metadata": {},
   "outputs": [],
   "source": [
    "# Use one-hot encoding for categorical columns\n",
    "X = pd.get_dummies(X, columns = categorical_cols)"
   ]
  },
  {
   "cell_type": "code",
   "execution_count": 31,
   "metadata": {},
   "outputs": [],
   "source": [
    "# Drop columns that are duplicates of a binary dummy variable\n",
    "dummies_to_drop = [ 'derived_sex_Female', \n",
    "                   'conforming_loan_limit_NC', 'construction_method_2', \n",
    "                   'derived_dwelling_category_Single Family (1-4 Units):Manufactured', \n",
    "                   'derived_race_Free Form Text Only', 'derived_ethnicity_Free Form Text Only',\n",
    "                   'derived_ethnicity_Not Hispanic or Latino']\n",
    "X = X.drop(dummies_to_drop, axis=1)"
   ]
  },
  {
   "cell_type": "code",
   "execution_count": 32,
   "metadata": {},
   "outputs": [],
   "source": [
    "# Create TTS on entire dataset, stratify y to handle class imbalance\n",
    "X_train, X_test, y_train, y_test = train_test_split(X, y, test_size = 0.20, stratify=y, random_state=42)\n",
    "\n",
    "# Take subset to train model initially\n",
    "X_sub = X[::10]\n",
    "y_sub = y[::10]\n",
    "X_train_sub, X_test_sub, y_train_sub, y_test_sub = train_test_split(X_sub, y_sub, test_size = 0.20, \n",
    "                                                                    shuffle=True, stratify=y_sub)"
   ]
  },
  {
   "cell_type": "markdown",
   "metadata": {},
   "source": [
    "# Baseline Logistic Regression Model with SGD solver "
   ]
  },
  {
   "cell_type": "code",
   "execution_count": 425,
   "metadata": {},
   "outputs": [],
   "source": [
    "sgd_pipe = Pipeline([('scaler', StandardScaler()), ('classifier', SGDClassifier(loss='log'))])\n",
    "fitted = sgd_pipe.fit(X_train, y_train)\n",
    "sgd_preds = fitted.predict(X_test)"
   ]
  },
  {
   "cell_type": "code",
   "execution_count": 451,
   "metadata": {},
   "outputs": [
    {
     "data": {
      "text/plain": [
       "0.9026584780582991"
      ]
     },
     "execution_count": 451,
     "metadata": {},
     "output_type": "execute_result"
    }
   ],
   "source": [
    "sgd_probs = fitted.predict_proba(X_test)\n"
   ]
  },
  {
   "cell_type": "code",
   "execution_count": 427,
   "metadata": {},
   "outputs": [
    {
     "data": {
      "text/html": [
       "<div>\n",
       "<style scoped>\n",
       "    .dataframe tbody tr th:only-of-type {\n",
       "        vertical-align: middle;\n",
       "    }\n",
       "\n",
       "    .dataframe tbody tr th {\n",
       "        vertical-align: top;\n",
       "    }\n",
       "\n",
       "    .dataframe thead th {\n",
       "        text-align: right;\n",
       "    }\n",
       "</style>\n",
       "<table border=\"1\" class=\"dataframe\">\n",
       "  <thead>\n",
       "    <tr style=\"text-align: right;\">\n",
       "      <th></th>\n",
       "      <th>0</th>\n",
       "    </tr>\n",
       "  </thead>\n",
       "  <tbody>\n",
       "    <tr>\n",
       "      <th>accuracy</th>\n",
       "      <td>0.895375</td>\n",
       "    </tr>\n",
       "    <tr>\n",
       "      <th>recall</th>\n",
       "      <td>0.984462</td>\n",
       "    </tr>\n",
       "    <tr>\n",
       "      <th>precision</th>\n",
       "      <td>0.903954</td>\n",
       "    </tr>\n",
       "    <tr>\n",
       "      <th>roc_auc_score</th>\n",
       "      <td>0.639491</td>\n",
       "    </tr>\n",
       "    <tr>\n",
       "      <th>f1 score</th>\n",
       "      <td>0.942492</td>\n",
       "    </tr>\n",
       "  </tbody>\n",
       "</table>\n",
       "</div>"
      ],
      "text/plain": [
       "                      0\n",
       "accuracy       0.895375\n",
       "recall         0.984462\n",
       "precision      0.903954\n",
       "roc_auc_score  0.639491\n",
       "f1 score       0.942492"
      ]
     },
     "execution_count": 427,
     "metadata": {},
     "output_type": "execute_result"
    }
   ],
   "source": [
    "MVP_SGD = pd.DataFrame(data=[accuracy_score(y_test, sgd_preds), recall_score(y_test, sgd_preds),\n",
    "                   precision_score(y_test, sgd_preds), roc_auc_score(y_test, sgd_preds), \n",
    "                   f1_score(y_test, sgd_preds)], \n",
    "             index=[\"accuracy\", \"recall\", \"precision\", \"roc_auc_score\", \"f1 score\"])"
   ]
  },
  {
   "cell_type": "markdown",
   "metadata": {},
   "source": [
    "### Tuning hyper parameters"
   ]
  },
  {
   "cell_type": "code",
   "execution_count": 34,
   "metadata": {},
   "outputs": [],
   "source": [
    "sgd_pipe2 = Pipeline([('scaler', StandardScaler()), ('classifier', SGDClassifier(loss='log', warm_start=True))])\n",
    "sgd_grid_params = {'classifier__penalty' : ['l1','l2', 'elasticnet'], 'classifier__alpha' : np.logspace(-4, 4, 20)}\n",
    "sgd_grid = GridSearchCV(sgd_pipe2, sgd_grid_params, cv=StratifiedKFold(10, shuffle=True), scoring = 'f1')\n",
    "sgd_fitted2 = sgd_grid.fit(X_train, y_train)"
   ]
  },
  {
   "cell_type": "code",
   "execution_count": 37,
   "metadata": {},
   "outputs": [
    {
     "data": {
      "text/plain": [
       "(array([0, 1]), array([  519, 10788]))"
      ]
     },
     "execution_count": 37,
     "metadata": {},
     "output_type": "execute_result"
    }
   ],
   "source": [
    "sgd_preds2 = sgd_fitted2.predict(X_test)\n",
    "sgd_probs2 = sgd_fitted2.predict_proba(X_test)\n",
    "np.unique(sgd_preds2, return_counts=True)"
   ]
  },
  {
   "cell_type": "code",
   "execution_count": 39,
   "metadata": {},
   "outputs": [
    {
     "data": {
      "text/html": [
       "<div>\n",
       "<style scoped>\n",
       "    .dataframe tbody tr th:only-of-type {\n",
       "        vertical-align: middle;\n",
       "    }\n",
       "\n",
       "    .dataframe tbody tr th {\n",
       "        vertical-align: top;\n",
       "    }\n",
       "\n",
       "    .dataframe thead th {\n",
       "        text-align: right;\n",
       "    }\n",
       "</style>\n",
       "<table border=\"1\" class=\"dataframe\">\n",
       "  <thead>\n",
       "    <tr style=\"text-align: right;\">\n",
       "      <th></th>\n",
       "      <th>0</th>\n",
       "    </tr>\n",
       "  </thead>\n",
       "  <tbody>\n",
       "    <tr>\n",
       "      <th>accuracy</th>\n",
       "      <td>0.896966</td>\n",
       "    </tr>\n",
       "    <tr>\n",
       "      <th>recall</th>\n",
       "      <td>0.988626</td>\n",
       "    </tr>\n",
       "    <tr>\n",
       "      <th>precision</th>\n",
       "      <td>0.902392</td>\n",
       "    </tr>\n",
       "    <tr>\n",
       "      <th>roc_auc_score</th>\n",
       "      <td>0.633697</td>\n",
       "    </tr>\n",
       "    <tr>\n",
       "      <th>f1 score</th>\n",
       "      <td>0.943543</td>\n",
       "    </tr>\n",
       "  </tbody>\n",
       "</table>\n",
       "</div>"
      ],
      "text/plain": [
       "                      0\n",
       "accuracy       0.896966\n",
       "recall         0.988626\n",
       "precision      0.902392\n",
       "roc_auc_score  0.633697\n",
       "f1 score       0.943543"
      ]
     },
     "execution_count": 39,
     "metadata": {},
     "output_type": "execute_result"
    }
   ],
   "source": [
    "sgd_tuned = pd.DataFrame(data=[accuracy_score(y_test, sgd_preds2), recall_score(y_test, sgd_preds2),\n",
    "                   precision_score(y_test, sgd_preds2), roc_auc_score(y_test, sgd_preds2), \n",
    "                   f1_score(y_test, sgd_preds2)], \n",
    "             index=[\"accuracy\", \"recall\", \"precision\", \"roc_auc_score\", \"f1 score\"])\n",
    "sgd_tuned"
   ]
  },
  {
   "cell_type": "code",
   "execution_count": 437,
   "metadata": {},
   "outputs": [],
   "source": [
    "# store model performance in dict\n",
    "boa_dict['Certainty of Prediction'] = f1_score(y_test, sgd_preds)"
   ]
  },
  {
   "cell_type": "code",
   "execution_count": 438,
   "metadata": {},
   "outputs": [],
   "source": [
    "# Create pickled model\n",
    "with open('boa_model.pkl', 'wb') as f:\n",
    "    pickle.dump(fitted, f)"
   ]
  },
  {
   "cell_type": "code",
   "execution_count": 554,
   "metadata": {},
   "outputs": [
    {
     "data": {
      "text/plain": [
       "9761"
      ]
     },
     "execution_count": 554,
     "metadata": {},
     "output_type": "execute_result"
    }
   ],
   "source": [
    "# unpack confusion matrix to be sure each category will be in the same position as the cost-benefit-matrix\n",
    "tn, fp, fn, tp = confusion_matrix(y_test, sgd_preds2).ravel()\n",
    "tp"
   ]
  },
  {
   "cell_type": "code",
   "execution_count": 551,
   "metadata": {},
   "outputs": [
    {
     "data": {
      "text/plain": [
       "array([[ 351, 1109],\n",
       "       [  86, 9761]])"
      ]
     },
     "execution_count": 551,
     "metadata": {},
     "output_type": "execute_result"
    }
   ],
   "source": [
    "confusion_matrix(y_test, sgd_preds2)"
   ]
  },
  {
   "cell_type": "markdown",
   "metadata": {},
   "source": [
    "# Plot feature importance"
   ]
  },
  {
   "cell_type": "code",
   "execution_count": 432,
   "metadata": {},
   "outputs": [],
   "source": [
    "best_sgdclassifier = sgd_grid.best_estimator_.named_steps['classifier']"
   ]
  },
  {
   "cell_type": "code",
   "execution_count": 433,
   "metadata": {},
   "outputs": [],
   "source": [
    "coefs = best_sgdclassifier.coef_\n",
    "coefs = coefs.flatten().tolist()"
   ]
  },
  {
   "cell_type": "code",
   "execution_count": 434,
   "metadata": {},
   "outputs": [],
   "source": [
    "features = X_test.columns.tolist()"
   ]
  },
  {
   "cell_type": "code",
   "execution_count": 435,
   "metadata": {},
   "outputs": [],
   "source": [
    "features_df = pd.DataFrame({'features': features, 'coefficients' : coefs}) \\\n",
    "                                            .sort_values(by='coefficients', ascending=False)\n"
   ]
  },
  {
   "cell_type": "code",
   "execution_count": 436,
   "metadata": {},
   "outputs": [
    {
     "data": {
      "image/png": "[encoded data removed]",
      "text/plain": [
       "<Figure size 864x864 with 1 Axes>"
      ]
     },
     "metadata": {},
     "output_type": "display_data"
    }
   ],
   "source": [
    "fig, ax = plt.subplots(figsize=(12,12))\n",
    "ax.barh(features_df.features, width=features_df.coefficients);"
   ]
  },
  {
   "cell_type": "code",
   "execution_count": 439,
   "metadata": {},
   "outputs": [
    {
     "name": "stdout",
     "output_type": "stream",
     "text": [
      "Stored 'boa_features' (DataFrame)\n"
     ]
    }
   ],
   "source": [
    "# create dataframe of features and store\n",
    "data_tuples = list(zip(features,coefs))\n",
    "boa_features = pd.DataFrame(data_tuples, columns=['features', 'coefs'])    \n",
    "%store boa_features"
   ]
  },
  {
   "cell_type": "markdown",
   "metadata": {},
   "source": [
    "# Model Performance"
   ]
  },
  {
   "cell_type": "code",
   "execution_count": 440,
   "metadata": {},
   "outputs": [
    {
     "data": {
      "text/plain": [
       "Text(0, 0.5, 'True Positive Rate')"
      ]
     },
     "execution_count": 440,
     "metadata": {},
     "output_type": "execute_result"
    },
    {
     "data": {
      "image/png": "[encoded data removed]",
      "text/plain": [
       "<Figure size 432x288 with 1 Axes>"
      ]
     },
     "metadata": {},
     "output_type": "display_data"
    }
   ],
   "source": [
    "# keep probabilities for the positive outcome only\n",
    "sgd_probs = sgd_probs[:, 1]\n",
    "\n",
    "# calculate scores\n",
    "sgd_auc = roc_auc_score(y_test, sgd_probs)\n",
    "# roc curve for logistic regression model\n",
    "# calculate roc curves\n",
    "fpr, tpr, thresholds = roc_curve(y_test, sgd_probs)\n",
    "fig, ax = plt.subplots()\n",
    "# plot the roc curve for the model\n",
    "ax.plot([0,1], [0,1], linestyle='--', label='No Skill')\n",
    "ax.plot(fpr, tpr, marker='.', label='Logistic')\n",
    "\n",
    "# axis labels\n",
    "ax.set_xlabel('False Positive Rate')\n",
    "ax.set_ylabel('True Positive Rate')\n",
    "\n",
    "\n"
   ]
  },
  {
   "cell_type": "markdown",
   "metadata": {},
   "source": [
    "# Threshold Moving"
   ]
  },
  {
   "cell_type": "code",
   "execution_count": 40,
   "metadata": {},
   "outputs": [
    {
     "data": {
      "text/plain": [
       "array([[    0.        , -3890.73733483],\n",
       "       [ -110.33434233,  3871.38043267]])"
      ]
     },
     "execution_count": 40,
     "metadata": {},
     "output_type": "execute_result"
    }
   ],
   "source": [
    "# TP benefit: loan sale\n",
    "tp_profit = quicken_df['loan_amount'].mean()*0.01\n",
    "\n",
    "# FP cost: potential to have to buy back the loan and lose street cred with investors - lower rates, etc\n",
    "## this is rare because underwriters confirm information in the AUS\n",
    "fp_cost = -tp_profit*1.005\n",
    "\n",
    "# FN: opportunity cost * market share\n",
    "fn_cost = -tp_profit*(0.0285)\n",
    "\n",
    "tn = 0\n",
    "\n",
    "# Create confusion matrix\n",
    "cost_benefit_matrix = np.array([[tn, fp_cost],[fn_cost, tp_profit]])\n",
    "cost_benefit_matrix"
   ]
  },
  {
   "cell_type": "code",
   "execution_count": 41,
   "metadata": {},
   "outputs": [],
   "source": [
    "def profit_curve(cost_benefit_matrix, y_prob, y_test):\n",
    "    \"\"\" To calculate list of profits based on supplied cost-benefit\n",
    "    matrix and predicted probabilities of data points and their true labels.\n",
    "\n",
    "    Parameters\n",
    "    ----------\n",
    "    cost_benefit_matrix    : ndarray - 2D, with profit values corresponding to:\n",
    "                                          -----------\n",
    "                                          | TN | FP |\n",
    "                                          -----------\n",
    "                                          | FN | TP |\n",
    "                                          -----------\n",
    "    y_prob : ndarray - 1D, predicted probability for each data point\n",
    "                                    in labels, in range [0, 1]\n",
    "    y_test : ndarray - 1D, true label of data points, 0 or 1\n",
    "\n",
    "    Returns\n",
    "    -------\n",
    "    profits    : ndarray - 1D\n",
    "    thresholds : ndarray - 1D\n",
    "    \"\"\"\n",
    "    n_obs = float(len(y_test))\n",
    "   \n",
    "    thresholds = sorted(y_prob, reverse=True)\n",
    "  \n",
    "    profits = []\n",
    "    y_preds = []\n",
    "    for threshold in thresholds:\n",
    "#       create boolean array \n",
    "        y_pred = y_prob >= threshold\n",
    "        \n",
    "#       create a confusion matrix for every threshold to store tn, tp, fn, fp values if that threshold was used\n",
    "        confusion_mat = confusion_matrix(y_test, y_pred)\n",
    "    \n",
    "#     use matrix multiplication to find the overall profit, then divide the num observations to get profit/unit\n",
    "        profit = np.sum(cost_benefit_matrix*confusion_mat)/n_obs\n",
    "        profits.append(profit)\n",
    "        \n",
    "    return np.array(profits), np.array(thresholds)"
   ]
  },
  {
   "cell_type": "code",
   "execution_count": 44,
   "metadata": {},
   "outputs": [],
   "source": [
    "sgd_probs_sub= sgd_fitted2.predict_proba(X_test_sub)\n",
    "profits, thresholds = profit_curve(cost_benefit_matrix, sgd_probs_sub[:,1], y_test_sub)"
   ]
  },
  {
   "cell_type": "code",
   "execution_count": 45,
   "metadata": {},
   "outputs": [
    {
     "data": {
      "image/png": "[encoded data removed]",
      "text/plain": [
       "<Figure size 720x720 with 1 Axes>"
      ]
     },
     "metadata": {},
     "output_type": "display_data"
    }
   ],
   "source": [
    "max_profit = np.max(np.array(profits))\n",
    "max_profit_thresh = thresholds[np.argmax(np.array(profits))]\n",
    "fig, ax = plt.subplots(figsize=(10,10))\n",
    "ax.plot(thresholds, profits, color='blue')\n",
    "ax.set_xlabel('threshold values')\n",
    "ax.set_ylabel('Profit ($)')\n",
    "ax.axvline(max_profit_thresh, label=f'max profit threshold: {round(max_profit_thresh,2)} with ${round(max_profit, 2)} in profit')\n",
    "ax.set_title('Profit at Varying Thresholds for Cost-Benefit Matrix')\n",
    "ax.legend()\n",
    "plt.savefig('BOA_profit_curve.png')"
   ]
  },
  {
   "cell_type": "code",
   "execution_count": 621,
   "metadata": {},
   "outputs": [
    {
     "data": {
      "text/html": [
       "<div>\n",
       "<style scoped>\n",
       "    .dataframe tbody tr th:only-of-type {\n",
       "        vertical-align: middle;\n",
       "    }\n",
       "\n",
       "    .dataframe tbody tr th {\n",
       "        vertical-align: top;\n",
       "    }\n",
       "\n",
       "    .dataframe thead th {\n",
       "        text-align: right;\n",
       "    }\n",
       "</style>\n",
       "<table border=\"1\" class=\"dataframe\">\n",
       "  <thead>\n",
       "    <tr style=\"text-align: right;\">\n",
       "      <th></th>\n",
       "      <th>0</th>\n",
       "      <th>new thresh</th>\n",
       "    </tr>\n",
       "  </thead>\n",
       "  <tbody>\n",
       "    <tr>\n",
       "      <th>accuracy</th>\n",
       "      <td>0.895375</td>\n",
       "      <td>0.892279</td>\n",
       "    </tr>\n",
       "    <tr>\n",
       "      <th>recall</th>\n",
       "      <td>0.984462</td>\n",
       "      <td>0.993297</td>\n",
       "    </tr>\n",
       "    <tr>\n",
       "      <th>precision</th>\n",
       "      <td>0.903954</td>\n",
       "      <td>0.894631</td>\n",
       "    </tr>\n",
       "    <tr>\n",
       "      <th>roc_auc_score</th>\n",
       "      <td>0.639491</td>\n",
       "      <td>0.602128</td>\n",
       "    </tr>\n",
       "    <tr>\n",
       "      <th>f1 score</th>\n",
       "      <td>0.942492</td>\n",
       "      <td>0.941386</td>\n",
       "    </tr>\n",
       "  </tbody>\n",
       "</table>\n",
       "</div>"
      ],
      "text/plain": [
       "                      0  new thresh\n",
       "accuracy       0.895375    0.892279\n",
       "recall         0.984462    0.993297\n",
       "precision      0.903954    0.894631\n",
       "roc_auc_score  0.639491    0.602128\n",
       "f1 score       0.942492    0.941386"
      ]
     },
     "execution_count": 621,
     "metadata": {},
     "output_type": "execute_result"
    }
   ],
   "source": [
    "# Use threshold from Profit Curve to determine classification\n",
    "final_preds = []\n",
    "for i in sgd_probs: \n",
    "#     threshold location at highest profit value\n",
    "    if i >=max_profit_thresh: \n",
    "        final_preds.append(1)\n",
    "    else: \n",
    "        final_preds.append(0)\n",
    "        \n",
    "# Threshold max\n",
    "thres_max = pd.DataFrame(data=[accuracy_score(y_test, final_preds), recall_score(y_test, final_preds),\n",
    "                   precision_score(y_test, final_preds), roc_auc_score(y_test, final_preds), \n",
    "                   f1_score(y_test, final_preds)], \n",
    "             index=[\"accuracy\", \"recall\", \"precision\", \"roc_auc_score\", \"f1 score\"])\n",
    "# Threshold 50%\n",
    "baseline= pd.DataFrame(data=[accuracy_score(y_test, sgd_preds), recall_score(y_test, sgd_preds),\n",
    "                   precision_score(y_test, sgd_preds), roc_auc_score(y_test, sgd_preds), \n",
    "                   f1_score(y_test, sgd_preds)], \n",
    "             index=[\"accuracy\", \"recall\", \"precision\", \"roc_auc_score\", \"f1 score\"])\n",
    "\n",
    "\n",
    "baseline['new thresh'] = thres_max[0]\n",
    "\n",
    "boa_dict['Approval Threshold'] = max_profit_thresh\n",
    "boa_dict['Certainty of Prediction'] = f1_score(y_test, final_preds)\n",
    "\n",
    "baseline"
   ]
  },
  {
   "cell_type": "markdown",
   "metadata": {},
   "source": [
    "# Bias evaluation"
   ]
  },
  {
   "cell_type": "markdown",
   "metadata": {},
   "source": [
    "### Start with baseline type I, type II error rates on existing dataset"
   ]
  },
  {
   "cell_type": "code",
   "execution_count": 456,
   "metadata": {},
   "outputs": [],
   "source": [
    "# Create array of predicted values on entire test set\n",
    "y_pred_baseline = fitted.predict(X_test)\n",
    "\n",
    "# Make df of predictions with predicted and true columns to be used for comparison\n",
    "base_analysis = X_test.copy() \n",
    "base_analysis['Pred Approval'] = y_pred_baseline\n",
    "base_analysis['Actual Approval'] = y_test\n",
    "\n",
    "\n",
    "# Create DFs with indices of black applicants and white applicants, respectively. Because I am pulling records\n",
    "# by race, I need to keep the True and Predicted values attached to these rows. No longer doing any prediction. \n",
    "black = base_analysis[base_analysis['derived_race_Black or African American'] == 1]\n",
    "white = base_analysis[base_analysis['derived_race_White'] == 1]\n",
    "asian = base_analysis[base_analysis['derived_race_Asian'] == 1]\n",
    "joint_race = base_analysis[base_analysis['derived_race_Joint'] == 1]\n",
    "race_unavail = base_analysis[base_analysis['derived_race_Race Not Available'] == 1]\n",
    "male = base_analysis[base_analysis['derived_sex_Male'] == 1]\n",
    "female = base_analysis[base_analysis['derived_sex_Male'] == 0]\n",
    "hispanic = base_analysis[base_analysis['derived_ethnicity_Hispanic or Latino'] == 1]\n",
    "non_hispanic = base_analysis[base_analysis['derived_ethnicity_Hispanic or Latino'] == 0]\n",
    "\n",
    "\n",
    "# Create confusion matrix to determine baseline type I, II error rates\n",
    "black_conf = confusion_matrix(black['Actual Approval'], black['Pred Approval'], normalize = 'all')\n",
    "white_conf = confusion_matrix(white['Actual Approval'], white['Pred Approval'], normalize = 'all')\n",
    "asian_conf = plus_racial_conf = confusion_matrix(asian['Actual Approval'], asian['Pred Approval'], normalize = 'all')\n",
    "joint_race_conf = confusion_matrix(joint_race['Actual Approval'], joint_race['Pred Approval'], normalize = 'all')\n",
    "race_unavail_conf = confusion_matrix(race_unavail['Actual Approval'], race_unavail['Pred Approval'], normalize = 'all')\n",
    "male_conf = confusion_matrix(male['Actual Approval'], male['Pred Approval'], normalize = 'all')\n",
    "female_conf = confusion_matrix(female['Actual Approval'], female['Pred Approval'], normalize = 'all')\n",
    "hisp_conf = confusion_matrix(hispanic['Actual Approval'], hispanic['Pred Approval'], normalize = 'all')\n",
    "non_hisp_conf = confusion_matrix(non_hispanic['Actual Approval'], non_hispanic['Pred Approval'], normalize = 'all')"
   ]
  },
  {
   "cell_type": "markdown",
   "metadata": {},
   "source": [
    "#### Compare error rates for black and white applicants after switching those values"
   ]
  },
  {
   "cell_type": "code",
   "execution_count": 457,
   "metadata": {},
   "outputs": [],
   "source": [
    "X_test_black = X_test.copy()\n",
    "cond = (X_test_black['derived_race_Black or African American'] ==1) | (X_test_black['derived_race_White'] == 1)\n",
    "true_race = 'derived_race_Black or African American'\n",
    "white = 'derived_race_White'\n",
    "X_test_black.loc[cond, [true_race, white]] = X_test_black.loc[cond, [white, true_race]].values\n",
    "# Predict on swapped race DF\n",
    "pred_swap_black = fitted.predict(X_test_black)\n",
    "\n",
    "# re-rerun confusion matrix stats\n",
    "black_swap_analysis = X_test_black.copy()\n",
    "black_swap_analysis['Pred Approval'] = pred_swap_black\n",
    "black_swap_analysis['Actual Approval'] = y_test\n",
    "\n",
    "# white applicants coded as black\n",
    "white_to_black = black_swap_analysis[black_swap_analysis['derived_race_Black or African American'] == 1]\n",
    "\n",
    "# black applicants coded as white\n",
    "black_to_white = black_swap_analysis[black_swap_analysis['derived_race_White'] == 1]\n",
    "\n",
    "white_to_black_conf = confusion_matrix(white_to_black['Actual Approval'], white_to_black['Pred Approval'], normalize= 'all')\n",
    "black_to_white_conf = confusion_matrix(black_to_white['Actual Approval'], black_to_white['Pred Approval'], normalize = 'all')"
   ]
  },
  {
   "cell_type": "code",
   "execution_count": 458,
   "metadata": {},
   "outputs": [],
   "source": [
    "baseline_fn_b = black_conf.ravel()[2]"
   ]
  },
  {
   "cell_type": "code",
   "execution_count": 459,
   "metadata": {},
   "outputs": [],
   "source": [
    "swapped_fn_b = black_to_white_conf.ravel()[2]"
   ]
  },
  {
   "cell_type": "code",
   "execution_count": 460,
   "metadata": {},
   "outputs": [
    {
     "data": {
      "text/plain": [
       "0.7334183673469388"
      ]
     },
     "execution_count": 460,
     "metadata": {},
     "output_type": "execute_result"
    }
   ],
   "source": [
    "(white_to_black_conf.ravel()[2] - white_conf.ravel()[2]) * 100"
   ]
  },
  {
   "cell_type": "code",
   "execution_count": 461,
   "metadata": {},
   "outputs": [
    {
     "name": "stdout",
     "output_type": "stream",
     "text": [
      "type II error decreased for black applicants by 1.2% when coded as white\n",
      "type II error increased for white applicants by 0.54% when coded as black\n"
     ]
    }
   ],
   "source": [
    "print(f'type II error decreased for black applicants by {round(((baseline_fn_b - swapped_fn_b)*100), 2)}% when coded as white')\n",
    "print(f'type II error increased for white applicants by 0.54% when coded as black')"
   ]
  },
  {
   "cell_type": "code",
   "execution_count": 487,
   "metadata": {},
   "outputs": [],
   "source": [
    "boa_dict['Black applicant error rate'] = (black_conf.ravel()[2] - black_to_white_conf.ravel()[2])"
   ]
  },
  {
   "cell_type": "markdown",
   "metadata": {},
   "source": [
    "#### Compare error rates for Asian and white applicants after switching those values\n"
   ]
  },
  {
   "cell_type": "code",
   "execution_count": 467,
   "metadata": {},
   "outputs": [],
   "source": [
    "X_test_asian = X_test.copy()\n",
    "cond = (X_test_asian['derived_race_Asian'] ==1) | (X_test_asian['derived_race_White'] == 1)\n",
    "true_race = 'derived_race_Asian'\n",
    "white = 'derived_race_White'\n",
    "X_test_asian.loc[cond, [true_race, white]] = X_test_asian.loc[cond, [white, true_race]].values\n",
    "# Predict on swapped race DF\n",
    "pred_swap_asian = fitted.predict(X_test_asian)\n",
    "\n",
    "# re-rerun confusion matrix stats\n",
    "asian_swap_analysis = X_test_asian.copy()\n",
    "asian_swap_analysis['Pred Approval'] = pred_swap_asian\n",
    "asian_swap_analysis['Actual Approval'] = y_test\n",
    "\n",
    "# white applicants coded as asian\n",
    "white_to_asian = asian_swap_analysis[asian_swap_analysis['derived_race_Asian'] == 1]\n",
    "\n",
    "# asian applicants coded as white\n",
    "asian_to_white = asian_swap_analysis[asian_swap_analysis['derived_race_White'] == 1]\n",
    "\n",
    "white_to_asian_conf = confusion_matrix(white_to_asian['Actual Approval'], white_to_asian['Pred Approval'], normalize= 'all')\n",
    "asian_to_white_conf = confusion_matrix(asian_to_white['Actual Approval'], asian_to_white['Pred Approval'], normalize = 'all')"
   ]
  },
  {
   "cell_type": "code",
   "execution_count": 468,
   "metadata": {},
   "outputs": [
    {
     "name": "stdout",
     "output_type": "stream",
     "text": [
      "type II error changed for asian applicants by 0.32% when coded as white\n",
      "type II error changed for white applicants by -0.32% when coded as asian\n"
     ]
    }
   ],
   "source": [
    "baseline_fn_asian = asian_conf.ravel()[2]\n",
    "asian_swapped_fn = asian_to_white_conf.ravel()[2]\n",
    "white_swapped_fn = white_to_asian_conf.ravel()[2]\n",
    "print(f'type II error changed for asian applicants by {round(((baseline_fn_asian - asian_swapped_fn)*100), 2)}% when coded as white')\n",
    "print(f'type II error changed for white applicants by {round(((asian_swapped_fn - baseline_fn_asian)*100), 2)}% when coded as asian')"
   ]
  },
  {
   "cell_type": "code",
   "execution_count": 488,
   "metadata": {},
   "outputs": [],
   "source": [
    "boa_dict['Asian applicant error rate'] = (asian_conf.ravel()[2] - asian_to_white_conf.ravel()[2])"
   ]
  },
  {
   "cell_type": "markdown",
   "metadata": {},
   "source": [
    "#### Compare error rates for biracial or multiracial applicants and white applicants after switching those values\n"
   ]
  },
  {
   "cell_type": "code",
   "execution_count": 470,
   "metadata": {},
   "outputs": [],
   "source": [
    "X_test_biracial = X_test.copy()\n",
    "cond = (X_test_biracial['derived_race_2 or more minority races'] ==1) | (X_test_biracial['derived_race_White'] == 1)\n",
    "true_race = 'derived_race_2 or more minority races'\n",
    "white = 'derived_race_White'\n",
    "X_test_biracial.loc[cond, [true_race, white]] = X_test_biracial.loc[cond, [white, true_race]].values\n",
    "# Predict on swapped race DF\n",
    "pred_swap_biracial = fitted.predict(X_test_biracial)\n",
    "\n",
    "# re-rerun confusion matrix stats\n",
    "biracial_swap_analysis = X_test_biracial.copy()\n",
    "biracial_swap_analysis['Pred Approval'] = pred_swap_biracial\n",
    "biracial_swap_analysis['Actual Approval'] = y_test\n",
    "\n",
    "# white applicants coded as biracial\n",
    "white_to_biracial = biracial_swap_analysis[biracial_swap_analysis['derived_race_2 or more minority races'] == 1]\n",
    "\n",
    "# biracial applicants coded as white\n",
    "biracial_to_white = biracial_swap_analysis[biracial_swap_analysis['derived_race_White'] == 1]\n",
    "\n",
    "white_to_biracial_conf = confusion_matrix(white_to_biracial['Actual Approval'], white_to_biracial['Pred Approval'], normalize= 'all')\n",
    "biracial_to_white_conf = confusion_matrix(biracial_to_white['Actual Approval'], biracial_to_white['Pred Approval'], normalize = 'all')"
   ]
  },
  {
   "cell_type": "code",
   "execution_count": 471,
   "metadata": {},
   "outputs": [
    {
     "name": "stdout",
     "output_type": "stream",
     "text": [
      "type II error changed for biracial applicants by 0.66% when coded as white\n",
      "type II error changed for white applicants by -0.66% when coded as biracial\n"
     ]
    }
   ],
   "source": [
    "baseline_fn = race_unavail_conf.ravel()[2]\n",
    "biracial_swapped_fn = biracial_to_white_conf.ravel()[2]\n",
    "white_swapped_fn = white_to_biracial_conf.ravel()[2]\n",
    "print(f'type II error changed for biracial applicants by {round(((baseline_fn - biracial_swapped_fn)*100), 2)}% when coded as white')\n",
    "print(f'type II error changed for white applicants by {round(((biracial_swapped_fn - baseline_fn)*100), 2)}% when coded as biracial')"
   ]
  },
  {
   "cell_type": "code",
   "execution_count": 489,
   "metadata": {},
   "outputs": [],
   "source": [
    "boa_dict['biracial'] = (race_unavail_conf.ravel()[2] - biracial_to_white_conf.ravel()[2])"
   ]
  },
  {
   "cell_type": "markdown",
   "metadata": {},
   "source": [
    "#### Compare error rates for applicants that did not specify their race and white applicants after switching those values\n"
   ]
  },
  {
   "cell_type": "code",
   "execution_count": 473,
   "metadata": {},
   "outputs": [],
   "source": [
    "X_test_unavail = X_test.copy()\n",
    "cond = (X_test_unavail['derived_race_Race Not Available'] ==1) | (X_test_unavail['derived_race_White'] == 1)\n",
    "true_race = 'derived_race_Race Not Available'\n",
    "white = 'derived_race_White'\n",
    "X_test_unavail.loc[cond, [true_race, white]] = X_test_unavail.loc[cond, [white, true_race]].values\n",
    "# Predict on swapped race DF\n",
    "pred_swap_unavail = fitted.predict(X_test_unavail)\n",
    "\n",
    "# re-rerun confusion matrix stats\n",
    "unavail_swap_analysis = X_test_unavail.copy()\n",
    "unavail_swap_analysis['Pred Approval'] = pred_swap_unavail\n",
    "unavail_swap_analysis['Actual Approval'] = y_test\n",
    "\n",
    "# white applicants coded as unavail\n",
    "white_to_unavail = unavail_swap_analysis[unavail_swap_analysis['derived_race_Race Not Available'] == 1]\n",
    "\n",
    "# unavail applicants coded as white\n",
    "unavail_to_white = unavail_swap_analysis[unavail_swap_analysis['derived_race_White'] == 1]\n",
    "\n",
    "white_to_unavail_conf = confusion_matrix(white_to_unavail['Actual Approval'], white_to_unavail['Pred Approval'], normalize= 'all')\n",
    "unavail_to_white_conf = confusion_matrix(unavail_to_white['Actual Approval'], unavail_to_white['Pred Approval'], normalize = 'all')"
   ]
  },
  {
   "cell_type": "code",
   "execution_count": 474,
   "metadata": {},
   "outputs": [
    {
     "name": "stdout",
     "output_type": "stream",
     "text": [
      "type II error changed for applicants who did not specify their race by -0.08% when coded as white\n",
      "type II error changed for white applicants by 0.08% when coded as race unavailable\n"
     ]
    }
   ],
   "source": [
    "baseline_fn = joint_race_conf.ravel()[2]\n",
    "unavail_swapped_fn = unavail_to_white_conf.ravel()[2]\n",
    "white_swapped_fn = white_to_unavail_conf.ravel()[2]\n",
    "print(f'type II error changed for applicants who did not specify their race by {round(((baseline_fn - unavail_swapped_fn)*100), 2)}% when coded as white')\n",
    "print(f'type II error changed for white applicants by {round(((unavail_swapped_fn - baseline_fn)*100), 2)}% when coded as race unavailable')"
   ]
  },
  {
   "cell_type": "code",
   "execution_count": 490,
   "metadata": {},
   "outputs": [],
   "source": [
    "boa_dict['unspecified'] = (joint_race_conf.ravel()[2] - unavail_to_white_conf.ravel()[2]) "
   ]
  },
  {
   "cell_type": "markdown",
   "metadata": {},
   "source": [
    "#### Compare error rates for male and female applicants\n"
   ]
  },
  {
   "cell_type": "code",
   "execution_count": 476,
   "metadata": {},
   "outputs": [],
   "source": [
    "X_test_sex = X_test.copy()\n",
    "cond = (X_test_sex['derived_sex_Male'] ==1) | (X_test_sex['derived_sex_Male'] == 0)\n",
    "\n",
    "X_test_sex['derived_sex_Male'] = ~X_test['derived_sex_Male'].values.astype(bool)\n",
    "\n",
    "pred_swap_sex = fitted.predict(X_test_sex)\n",
    "\n",
    "# re-rerun confusion matrix stats\n",
    "sex_swap_analysis = X_test_sex.copy()\n",
    "sex_swap_analysis['Pred Approval'] = pred_swap_sex\n",
    "sex_swap_analysis['Actual Approval'] = y_test\n",
    "\n",
    "# white applicants coded as sex\n",
    "female_to_male = sex_swap_analysis[sex_swap_analysis['derived_sex_Male'] == 1]\n",
    "\n",
    "# sex applicants coded as white\n",
    "male_to_female = sex_swap_analysis[sex_swap_analysis['derived_sex_Male'] == 0]\n",
    "\n",
    "female_to_male_conf = confusion_matrix(female_to_male['Actual Approval'], female_to_male['Pred Approval'], normalize= 'all')\n",
    "male_to_female_conf = confusion_matrix(male_to_female['Actual Approval'], male_to_female['Pred Approval'], normalize = 'all')"
   ]
  },
  {
   "cell_type": "code",
   "execution_count": 477,
   "metadata": {},
   "outputs": [
    {
     "name": "stdout",
     "output_type": "stream",
     "text": [
      "type II error changed for male applicants coded as female by 0.76% \n",
      "type II error changed for female applicants coded as male applicants by -0.49% \n"
     ]
    }
   ],
   "source": [
    "baseline_fn_m = male_conf.ravel()[2]\n",
    "m_to_f_fn = male_to_female_conf.ravel()[2]\n",
    "\n",
    "baseline_fn_f = female_conf.ravel()[2]\n",
    "f_to_m_fn = female_to_male_conf.ravel()[2]\n",
    "\n",
    "\n",
    "print(f'type II error changed for male applicants coded as female by {round(((baseline_fn_m - m_to_f_fn)*100), 2)}% ')\n",
    "print(f'type II error changed for female applicants coded as male applicants by {round(((baseline_fn_f - f_to_m_fn)*100), 2)}% ')"
   ]
  },
  {
   "cell_type": "code",
   "execution_count": 491,
   "metadata": {},
   "outputs": [],
   "source": [
    "boa_dict['Female applicant error rate'] = (female_conf.ravel()[2] - female_to_male_conf.ravel()[2])"
   ]
  },
  {
   "cell_type": "markdown",
   "metadata": {},
   "source": [
    "#### Compare error rates for hispanic vs non-hispanic"
   ]
  },
  {
   "cell_type": "code",
   "execution_count": 479,
   "metadata": {},
   "outputs": [],
   "source": [
    "X_test_hispanic = X_test.copy()\n",
    "cond = (X_test_hispanic['derived_ethnicity_Hispanic or Latino'] ==1) | (X_test_hispanic['derived_ethnicity_Hispanic or Latino'] == 0)\n",
    "\n",
    "X_test_hispanic['derived_ethnicity_Hispanic or Latino'] = ~X_test['derived_ethnicity_Hispanic or Latino'].values.astype(bool)\n",
    "\n",
    "pred_swap_hispanic = fitted.predict(X_test_hispanic)\n",
    "\n",
    "# re-rerun confusion matrix stats\n",
    "hispanic_swap_analysis = X_test_hispanic.copy()\n",
    "hispanic_swap_analysis['Pred Approval'] = pred_swap_hispanic\n",
    "hispanic_swap_analysis['Actual Approval'] = y_test\n",
    "\n",
    "# hispanic coded as non-hispanic\n",
    "his_to_non = hispanic_swap_analysis[hispanic_swap_analysis['derived_ethnicity_Hispanic or Latino'] == 1]\n",
    "\n",
    "# non-hispanic coded as hispanic\n",
    "non_to_his = hispanic_swap_analysis[hispanic_swap_analysis['derived_ethnicity_Hispanic or Latino'] == 0]\n",
    "\n",
    "his_to_non_conf = confusion_matrix(his_to_non['Actual Approval'], his_to_non['Pred Approval'], normalize= 'all')\n",
    "non_to_his_conf = confusion_matrix(non_to_his['Actual Approval'], non_to_his['Pred Approval'], normalize = 'all')"
   ]
  },
  {
   "cell_type": "code",
   "execution_count": 480,
   "metadata": {},
   "outputs": [
    {
     "name": "stdout",
     "output_type": "stream",
     "text": [
      "type II error changed for hispanic applicants coded as non-hispanic by 2.63% \n",
      "type II error changed for non-hispanic applicants coded as hispanic applicants by -1.53% \n"
     ]
    }
   ],
   "source": [
    "baseline_fn_his = hisp_conf.ravel()[2]\n",
    "his_to_non_conf_fn = his_to_non_conf.ravel()[2]\n",
    "\n",
    "baseline_fn_non = non_hisp_conf.ravel()[2]\n",
    "non_to_his_conf_fn = non_to_his_conf.ravel()[2]\n",
    "\n",
    "\n",
    "print(f'type II error changed for hispanic applicants coded as non-hispanic by {round(((baseline_fn_his - his_to_non_conf_fn)*100), 2)}% ')\n",
    "print(f'type II error changed for non-hispanic applicants coded as hispanic applicants by {round(((baseline_fn_non - non_to_his_conf_fn)*100), 2)}% ')"
   ]
  },
  {
   "cell_type": "code",
   "execution_count": 492,
   "metadata": {},
   "outputs": [],
   "source": [
    "boa_dict['Hispanic applicant error rate'] = (hisp_conf.ravel()[2] - his_to_non_conf.ravel()[2])"
   ]
  },
  {
   "cell_type": "code",
   "execution_count": 622,
   "metadata": {},
   "outputs": [
    {
     "name": "stdout",
     "output_type": "stream",
     "text": [
      "Stored 'boa_dict' (dict)\n"
     ]
    }
   ],
   "source": [
    "%store boa_dict\n",
    "with open('boa_dict.pkl', 'wb') as f: \n",
    "    pickle.dump(boa_dict,f)\n",
    "    \n",
    "with open('boa_preds.pkl', 'wb') as f:\n",
    "    pickle.dump(sgd_probs, f)\n",
    "\n",
    "with open('boa_df.pkl', 'wb') as f:\n",
    "    boa_df = pickle.dump(quicken_df, f)"
   ]
  }
 ],
 "metadata": {
  "kernelspec": {
   "display_name": "Python 3",
   "language": "python",
   "name": "python3"
  },
  "language_info": {
   "codemirror_mode": {
    "name": "ipython",
    "version": 3
   },
   "file_extension": ".py",
   "mimetype": "text/x-python",
   "name": "python",
   "nbconvert_exporter": "python",
   "pygments_lexer": "ipython3",
   "version": "3.7.7"
  }
 },
 "nbformat": 4,
 "nbformat_minor": 4
}
