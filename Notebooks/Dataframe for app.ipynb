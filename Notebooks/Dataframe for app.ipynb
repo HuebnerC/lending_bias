{
 "cells": [
  {
   "cell_type": "code",
   "execution_count": 2,
   "metadata": {},
   "outputs": [],
   "source": [
    "import pandas as pd\n",
    "import numpy as np\n",
    "import matplotlib.pyplot as plt\n",
    "pd.set_option('display.max_columns', None)\n",
    "pd.set_option('display.max_rows', None)\n",
    "plt.style.use('ggplot')"
   ]
  },
  {
   "cell_type": "code",
   "execution_count": 5,
   "metadata": {},
   "outputs": [],
   "source": [
    "# Pull in dictionaries from other notebooks\n",
    "%store -r boa_bias_dict"
   ]
  },
  {
   "cell_type": "markdown",
   "metadata": {},
   "source": [
    "* Notes to include: \n",
    "    * Certain protected classes are not yet represented in the model because there is not enough data to confidently determine error rates. Additionally, it is unclear as to how the data was determined for certain categories. For example, derived sex: joint. Looking at the raw data, there are several applicants (though very few) that chose both male and female on the application. However, there are a much larger number of these applicants in the derived column. In a nutshell, the numbers don't line up. need to check to see if sex was visually observed for many of those values. \n",
    "    * Pacific Islanders, native americans, were not compared because there were so few applicants"
   ]
  },
  {
   "cell_type": "code",
   "execution_count": 3,
   "metadata": {},
   "outputs": [],
   "source": [
    "\n",
    "bank_performance = pd.DataFrame(columns=['Lender', 'Likelihood of Approval', 'Certainty of Prediction', \n",
    "                                         'Approval Threshold', 'Black applicant error rate', \n",
    "                                         'Asian applicant error rate', 'Hispanic applicant error rate', \n",
    "                                         'Female applicant error rate', 'Fossil Fuel Funding', 'Climate Policy Score'])"
   ]
  },
  {
   "cell_type": "code",
   "execution_count": 12,
   "metadata": {},
   "outputs": [],
   "source": [
    "bank_performance_rough = pd.DataFrame(boa_bias_dict, index=[0])"
   ]
  },
  {
   "cell_type": "code",
   "execution_count": 13,
   "metadata": {},
   "outputs": [
    {
     "data": {
      "text/html": [
       "<div>\n",
       "<style scoped>\n",
       "    .dataframe tbody tr th:only-of-type {\n",
       "        vertical-align: middle;\n",
       "    }\n",
       "\n",
       "    .dataframe tbody tr th {\n",
       "        vertical-align: top;\n",
       "    }\n",
       "\n",
       "    .dataframe thead th {\n",
       "        text-align: right;\n",
       "    }\n",
       "</style>\n",
       "<table border=\"1\" class=\"dataframe\">\n",
       "  <thead>\n",
       "    <tr style=\"text-align: right;\">\n",
       "      <th></th>\n",
       "      <th>black</th>\n",
       "      <th>asian</th>\n",
       "      <th>biracial</th>\n",
       "      <th>unspecified</th>\n",
       "      <th>female</th>\n",
       "      <th>hispanic</th>\n",
       "      <th>Bank</th>\n",
       "    </tr>\n",
       "  </thead>\n",
       "  <tbody>\n",
       "    <tr>\n",
       "      <th>0</th>\n",
       "      <td>0.741427</td>\n",
       "      <td>0.70922</td>\n",
       "      <td>1.849218</td>\n",
       "      <td>-0.555204</td>\n",
       "      <td>-0.226969</td>\n",
       "      <td>2.266175</td>\n",
       "      <td>Bank of America</td>\n",
       "    </tr>\n",
       "  </tbody>\n",
       "</table>\n",
       "</div>"
      ],
      "text/plain": [
       "      black    asian  biracial  unspecified    female  hispanic  \\\n",
       "0  0.741427  0.70922  1.849218    -0.555204 -0.226969  2.266175   \n",
       "\n",
       "              Bank  \n",
       "0  Bank of America  "
      ]
     },
     "execution_count": 13,
     "metadata": {},
     "output_type": "execute_result"
    }
   ],
   "source": [
    "bank_performance_rough"
   ]
  },
  {
   "cell_type": "code",
   "execution_count": null,
   "metadata": {},
   "outputs": [],
   "source": []
  }
 ],
 "metadata": {
  "kernelspec": {
   "display_name": "Python 3",
   "language": "python",
   "name": "python3"
  },
  "language_info": {
   "codemirror_mode": {
    "name": "ipython",
    "version": 3
   },
   "file_extension": ".py",
   "mimetype": "text/x-python",
   "name": "python",
   "nbconvert_exporter": "python",
   "pygments_lexer": "ipython3",
   "version": "3.7.7"
  }
 },
 "nbformat": 4,
 "nbformat_minor": 4
}
