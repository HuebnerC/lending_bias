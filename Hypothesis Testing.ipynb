{
 "cells": [
  {
   "cell_type": "code",
   "execution_count": 49,
   "metadata": {},
   "outputs": [],
   "source": [
    "import pandas as pd\n",
    "import numpy as np\n",
    "from scipy import stats\n",
    "from matplotlib import pyplot as plt\n",
    "plt.style.use('ggplot')\n",
    "%matplotlib inline"
   ]
  },
  {
   "cell_type": "markdown",
   "metadata": {},
   "source": [
    "# Hypothesis Testing\n",
    "\n",
    "Because the national average for mortgage approval is 92%, this is the value used for hypothesis testing. \n",
    "[Source](https://www.nerdwallet.com/article/mortgages/data-mortgage-denial)\n",
    "* $H_0$: Applicants are approved for mortgages at a rate of 92% or higher if their race is black.\n",
    "\n",
    "* $H_a$: Applicants are approved at a rate lower than 92% if their race is not black.\n",
    "\n",
    "However, because the dataset is specifically for Wells Fargo, I'm not sure if their approval rate will be in line with the national average. So, I'll run a second hypothesis test, which uses the overall loan approval rate for the actual dataset. This value was calculated by dividing the number of approvals by the total number of applicants, for all applicants, regardless of race. I rounded this number down from 95.7% to 95%. \n",
    "* $H_0$: Applicants are approved for mortgages at a rate of 95% or higher if their race is black.\n",
    "\n",
    "* $H_a$: Applicants are approved at a rate lower than 95% if their race is black.\n",
    "\n",
    "*Setting a threshold*\n",
    "$\\alpha = 0.05$"
   ]
  },
  {
   "cell_type": "code",
   "execution_count": 4,
   "metadata": {},
   "outputs": [],
   "source": [
    "# Creating a binomial distribution for the first and second hypothesis test, \n",
    "# using the total number of black applicants\n",
    "national = stats.binom(n=3528, p = 0.92)\n",
    "wells = stats.binom(n=3528, p = 0.95)"
   ]
  },
  {
   "cell_type": "markdown",
   "metadata": {},
   "source": [
    "#### Hypothesis Test 1: Using the national average in a one-tailed test"
   ]
  },
  {
   "cell_type": "code",
   "execution_count": 10,
   "metadata": {},
   "outputs": [
    {
     "name": "stdout",
     "output_type": "stream",
     "text": [
      "0.8833200891233322\n",
      "3272.0\n"
     ]
    }
   ],
   "source": [
    "# null hypothesis is p=0.92. Number of black applicants approved: 3226\n",
    "print(1 - national.cdf(3226))\n",
    "\n",
    "# what's the threshhold at alpha = 0.05\n",
    "print(national.ppf(0.95))\n",
    "\n",
    "# Fail to reject."
   ]
  },
  {
   "cell_type": "code",
   "execution_count": 7,
   "metadata": {},
   "outputs": [
    {
     "data": {
      "text/plain": [
       "0.9143990929705216"
      ]
     },
     "execution_count": 7,
     "metadata": {},
     "output_type": "execute_result"
    }
   ],
   "source": [
    "3226/3528"
   ]
  },
  {
   "cell_type": "markdown",
   "metadata": {},
   "source": [
    "#### Hypothesis Test 2: Using the national average in a one-tailed test"
   ]
  },
  {
   "cell_type": "code",
   "execution_count": 6,
   "metadata": {},
   "outputs": [
    {
     "name": "stdout",
     "output_type": "stream",
     "text": [
      "1.0\n",
      "3373.0\n"
     ]
    }
   ],
   "source": [
    "# null hypothesis is p=0.95. Number of black applicants approved: 3226\n",
    "print(1 - wells.cdf(3226))\n",
    "\n",
    "# what's the threshhold at alpha = 0.05\n",
    "print(wells.ppf(0.95))\n",
    "\n",
    "# Fail to reject."
   ]
  },
  {
   "cell_type": "markdown",
   "metadata": {},
   "source": [
    "#### Hypothesis Test 3: Using  a two-sample test to compare approval rates for white and black applicants: \n",
    "* $H_0$: White applicants are approved for mortgages at a higher rate than black applicants. \n",
    "\n",
    "* $H_a$: Black applicants are approved at a lower rate than white applicants.\n",
    "\n",
    "$\\alpha = 0.05$\n",
    "\n",
    "* Total number of applicants: \n",
    "* Total white applicants: 267754\n",
    "* Total white approvals: 257913\n",
    "* Total black applicants: 17805\n",
    "* Total black approvals: 16275"
   ]
  },
  {
   "cell_type": "code",
   "execution_count": 55,
   "metadata": {},
   "outputs": [
    {
     "data": {
      "image/png": "[encoded data removed]",
      "text/plain": [
       "<Figure size 720x720 with 1 Axes>"
      ]
     },
     "metadata": {
      "needs_background": "light"
     },
     "output_type": "display_data"
    }
   ],
   "source": [
    "# Setting up sample size and proportions approved out of sample\n",
    "n= 100\n",
    "\n",
    "white_proportion = 257913/267754\n",
    "black_proportion = 16275/17805\n",
    "\n",
    "# sample mean == population mean\n",
    "white_sample_mean = white_proportion\n",
    "black_sample_mean = black_proportion\n",
    "\n",
    "# population standard deviations\n",
    "white_sd = np.sqrt(white_proportion * (1-white_proportion))\n",
    "black_sd = np.sqrt(black_proportion * (1-black_proportion))\n",
    "\n",
    "# sample mean std\n",
    "white_sample_sd = white_sd/np.sqrt(n)\n",
    "black_sample_sd = black_sd/np.sqrt(n)\n",
    "\n",
    "# Normal distributions for the sample means and std\n",
    "white_norm = stats.norm(white_sample_mean, white_sample_sd)\n",
    "black_norm = stats.norm(black_sample_mean, black_sample_sd)\n",
    "\n",
    "#  x-axis array\n",
    "x = np.linspace(0, 1.1, 100)\n",
    "\n",
    "# probability density functions\n",
    "white_pdf = white_norm.pdf(x)\n",
    "black_pdf = black_norm.pdf(x)\n",
    "\n",
    "# Plot the density functions. Note: alpha is transparency of graph, not hypothesis threshold\n",
    "fig, ax = plt.subplots(figsize=(10,10))\n",
    "ax.plot(x, white_pdf, color='tab:blue', label='White')\n",
    "ax.fill(x, white_pdf, color='tab:blue', alpha=0.5)\n",
    "ax.plot(x, black_pdf, color='tab:red', label='Black')\n",
    "ax.fill(x, black_pdf, color='tab:red', alpha=0.5)\n",
    "ax.set_xlabel('')\n",
    "\n",
    "ax.legend()\n",
    "ax.set_title(\"Distribution of Sample Means for Mortgage Applicants\", fontsize=18)\n",
    "plt.savefig('sample_mean_dist')"
   ]
  },
  {
   "cell_type": "code",
   "execution_count": 43,
   "metadata": {},
   "outputs": [],
   "source": [
    "# Create an array of approval and denials\n",
    "white_approved = [1]*int(n*white_proportion)\n",
    "white_denied = [0]*int(n*(1-white_proportion))\n",
    "black_approved = [1]*int(n*black_proportion)\n",
    "black_denied = [0]*int(n*(1-black_proportion))\n",
    "\n",
    "white_sample = np.array(white_approved + white_denied)\n",
    "black_sample = np.array(black_approved + black_denied)"
   ]
  },
  {
   "cell_type": "code",
   "execution_count": 44,
   "metadata": {},
   "outputs": [
    {
     "name": "stdout",
     "output_type": "stream",
     "text": [
      "Mann-Whitney U test p-value: 0.06126814753892051\n"
     ]
    }
   ],
   "source": [
    "# Run Mann-Whitney test: pvalue = 0.06. Fail to reject the null hypothesis\n",
    "print(f\"Mann-Whitney U test p-value: {stats.mannwhitneyu(black_sample, white_sample, alternative = 'less')[1]}\")"
   ]
  },
  {
   "cell_type": "markdown",
   "metadata": {},
   "source": [
    "## Considering the ratio between Type I and Type II Errors\n",
    "* Type I Error ($\\alpha$): \n",
    "    * This is the false positive rate, or the probability the null hypothesis is rejected incorrectly\n",
    "* Type II Error ($\\beta$): \n",
    "    * This is the false negative rate, or the probability that we incorrectly fail to reject the null hypothesis\n",
    "* From an equity viewpoint, failing to reject the null hypothesis when we should have (maintaining the status quo and assuming that black and white applicants are approved at the same rate) would be more concerning than rejecting the status quo and assuming that there is a racial disparity in mortgage loan approval rates. \n",
    "    * Setting $\\beta$ at a lower threshold than $\\alpha$"
   ]
  },
  {
   "cell_type": "code",
   "execution_count": 38,
   "metadata": {},
   "outputs": [],
   "source": [
    "# Code Credit: Kacie Webster\n",
    "def compute_power(n, sigma, alpha, mu0, mua):\n",
    "    std_error = sigma/n**0.5\n",
    "    h0 = stats.norm(mu0, std_error)\n",
    "    ha = stats.norm(mua, std_error)\n",
    "    critical_val = h0.ppf(1-alpha)\n",
    "    power = 1- ha.cdf(critical_value)\n",
    "    return power"
   ]
  },
  {
   "cell_type": "code",
   "execution_count": 41,
   "metadata": {},
   "outputs": [
    {
     "data": {
      "text/plain": [
       "1147"
      ]
     },
     "execution_count": 41,
     "metadata": {},
     "output_type": "execute_result"
    }
   ],
   "source": [
    "# Assume we want to see black applicants with the same approval rate as white applicants (sigma)\n",
    "sample_size(sigma = np.sqrt(0.09 * 0.91), alpha = 0.05, beta = 0.001, effect_size = 0.04)"
   ]
  },
  {
   "cell_type": "code",
   "execution_count": null,
   "metadata": {},
   "outputs": [],
   "source": []
  },
  {
   "cell_type": "markdown",
   "metadata": {},
   "source": [
    "# Considerations: \n",
    "* Create validation set for race and for ethnicity \n",
    "* Run the model with all samples and print confusion matrix\n",
    "* select only rows where applicant is black, plot a confusion matrix\n",
    "* Repeat with other races, ethnicities\n",
    "* confusion matrix should have the same proportions of type 1 and type 2 errors for all races\n",
    "* Action Taken - 1 is approved. Change column name to Approval"
   ]
  },
  {
   "cell_type": "code",
   "execution_count": null,
   "metadata": {},
   "outputs": [],
   "source": []
  }
 ],
 "metadata": {
  "kernelspec": {
   "display_name": "Python 3",
   "language": "python",
   "name": "python3"
  },
  "language_info": {
   "codemirror_mode": {
    "name": "ipython",
    "version": 3
   },
   "file_extension": ".py",
   "mimetype": "text/x-python",
   "name": "python",
   "nbconvert_exporter": "python",
   "pygments_lexer": "ipython3",
   "version": "3.7.7"
  }
 },
 "nbformat": 4,
 "nbformat_minor": 4
}
