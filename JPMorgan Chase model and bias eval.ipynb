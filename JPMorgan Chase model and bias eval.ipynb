{
 "cells": [
  {
   "cell_type": "code",
   "execution_count": 511,
   "metadata": {},
   "outputs": [],
   "source": [
    "import pandas as pd\n",
    "import numpy as np\n",
    "import matplotlib.pyplot as plt\n",
    "from sklearn.model_selection import train_test_split\n",
    "from sklearn.model_selection import StratifiedKFold, KFold\n",
    "import pickle\n",
    "from sklearn.pipeline import Pipeline\n",
    "from sklearn.linear_model import LogisticRegression, SGDClassifier\n",
    "from sklearn.model_selection import KFold, GridSearchCV\n",
    "from sklearn.preprocessing import StandardScaler\n",
    "from sklearn.ensemble import RandomForestClassifier, GradientBoostingClassifier\n",
    "from sklearn.metrics import accuracy_score, mean_squared_error, f1_score, confusion_matrix, precision_score, recall_score, roc_auc_score, roc_curve\n",
    "from imblearn.under_sampling import RandomUnderSampler\n",
    "import seaborn as sns\n",
    "from sklearn.preprocessing import OrdinalEncoder\n",
    "pd.set_option('display.max_columns', None)\n",
    "pd.set_option('display.max_rows', None)\n",
    "plt.style.use('ggplot')"
   ]
  },
  {
   "cell_type": "code",
   "execution_count": 514,
   "metadata": {},
   "outputs": [
    {
     "name": "stderr",
     "output_type": "stream",
     "text": [
      "/Users/carlahuebner/opt/anaconda3/lib/python3.7/site-packages/IPython/core/interactiveshell.py:3072: DtypeWarning: Columns (43,46) have mixed types.Specify dtype option on import or set low_memory=False.\n",
      "  interactivity=interactivity, compiler=compiler, result=result)\n"
     ]
    }
   ],
   "source": [
    "# Load the data and create a copy to use to verify preprocessing steps\n",
    "quicken_df = pd.read_csv('data/JPMorganChase.csv')\n",
    "check_df = quicken_df.copy()\n",
    "# Pull Census Tract dictionary from different notebook\n",
    "%store -r FIPS_dict\n",
    "chase_dict = {}"
   ]
  },
  {
   "cell_type": "markdown",
   "metadata": {},
   "source": [
    "# Step 1: Drop Perfect Predictors, Census added columns, irrelevant columns"
   ]
  },
  {
   "cell_type": "code",
   "execution_count": 515,
   "metadata": {},
   "outputs": [],
   "source": [
    "confirmed_perfect_pred = ['denial_reason-1', 'denial_reason-2', 'denial_reason-3', 'purchaser_type', 'preapproval', \n",
    "                       'interest_rate', 'rate_spread', 'hoepa_status', 'total_loan_costs', 'origination_charges', \n",
    "                       'discount_points', 'lender_credits', 'initially_payable_to_institution', 'denial_reason-4',\n",
    "                        'total_points_and_fees']\n",
    "quicken_df = quicken_df.drop(confirmed_perfect_pred, axis=1)"
   ]
  },
  {
   "cell_type": "code",
   "execution_count": 516,
   "metadata": {},
   "outputs": [],
   "source": [
    "census_appended = ['tract_minority_population_percent', 'tract_population', 'ffiec_msa_md_median_family_income',\n",
    "                  'tract_to_msa_income_percentage', 'tract_owner_occupied_units', 'tract_one_to_four_family_homes',\n",
    "                  'tract_median_age_of_housing_units']\n",
    "quicken_df = quicken_df.drop(census_appended, axis=1)"
   ]
  },
  {
   "cell_type": "code",
   "execution_count": 517,
   "metadata": {},
   "outputs": [],
   "source": [
    "drop_irrelevant = ['state_code', 'county_code', 'open-end_line_of_credit', 'manufactured_home_land_property_interest', \n",
    "                  'manufactured_home_secured_property_type', 'co-applicant_credit_score_type', 'applicant_ethnicity-2',\n",
    "                  'applicant_ethnicity-3', 'applicant_ethnicity-4', 'co-applicant_ethnicity-1', 'co-applicant_ethnicity-2',\n",
    "                  'co-applicant_ethnicity-3', 'co-applicant_ethnicity-4', 'co-applicant_ethnicity_observed',\n",
    "                  'applicant_race-2', 'applicant_race-3', 'applicant_race-4', 'applicant_race-5', \n",
    "                  'co-applicant_race-1', 'co-applicant_race-2', 'co-applicant_race-3', 'co-applicant_race-4', \n",
    "                  'co-applicant_race-5', 'co-applicant_race_observed', 'co-applicant_sex', 'applicant_sex_observed',\n",
    "                  'co-applicant_sex_observed', 'co-applicant_age', 'applicant_age_above_62', 'co-applicant_age_above_62',\n",
    "                  'submission_of_application', 'derived_loan_product_type', 'interest_only_payment', 'applicant_ethnicity-1',\n",
    "                  'applicant_race-1', 'applicant_sex', 'derived_msa-md', 'applicant_ethnicity-5', \n",
    "                  'co-applicant_ethnicity-5', 'activity_year', 'lei', 'multifamily_affordable_units', \n",
    "                  'aus-2', 'aus-3', 'aus-4', 'aus-5']\n",
    "quicken_df = quicken_df.drop(drop_irrelevant, axis=1)"
   ]
  },
  {
   "cell_type": "code",
   "execution_count": 518,
   "metadata": {},
   "outputs": [],
   "source": [
    "# drop features that would be difficult or impossible to gather from user input\n",
    "drop_impossible = ['negative_amortization', 'balloon_payment', 'applicant_ethnicity_observed', \n",
    "                   'applicant_race_observed', 'aus-1', 'other_nonamortizing_features', 'applicant_credit_score_type',\n",
    "                  'intro_rate_period']\n",
    "quicken_df = quicken_df.drop(drop_impossible, axis=1)"
   ]
  },
  {
   "cell_type": "markdown",
   "metadata": {},
   "source": [
    "# Step 2: Condense High Cardinality Columns"
   ]
  },
  {
   "cell_type": "code",
   "execution_count": 519,
   "metadata": {},
   "outputs": [],
   "source": [
    "# action taken\n",
    "quicken_df = quicken_df[~quicken_df['action_taken'].isin([4,5,7,8])]\n",
    "quicken_df['action_taken'] = quicken_df['action_taken'].map(lambda x: 0 if x ==3 else 1)"
   ]
  },
  {
   "cell_type": "markdown",
   "metadata": {},
   "source": [
    "# Step 3: Select loans that meet the following criteria, then drop those variables\n",
    "* Loan Purpose: Home purchase (no refi, home improvement, etc)\n",
    "* Lien Status: 1st liens only\n",
    "* Reverse Mortgage: exclude\n",
    "* Business/commercial: exclude\n",
    "* Only principal, single family homes"
   ]
  },
  {
   "cell_type": "code",
   "execution_count": 520,
   "metadata": {},
   "outputs": [],
   "source": [
    "quicken_df = quicken_df[quicken_df['loan_purpose'] == 1]\n",
    "quicken_df = quicken_df[quicken_df['lien_status'] == 1]\n",
    "quicken_df = quicken_df[quicken_df['reverse_mortgage'] == 2]\n",
    "quicken_df = quicken_df[quicken_df['business_or_commercial_purpose'] == 2]\n",
    "quicken_df = quicken_df[(quicken_df['total_units'] == '1') | (quicken_df['total_units'] == 1)]\n",
    "quicken_df = quicken_df[quicken_df['occupancy_type'] == 1]"
   ]
  },
  {
   "cell_type": "code",
   "execution_count": 521,
   "metadata": {},
   "outputs": [],
   "source": [
    "drop_after_subselection = ['loan_purpose', 'lien_status', 'reverse_mortgage', 'business_or_commercial_purpose', \n",
    "                          'total_units', 'occupancy_type']\n",
    "quicken_df = quicken_df.drop(drop_after_subselection, axis=1)"
   ]
  },
  {
   "cell_type": "markdown",
   "metadata": {},
   "source": [
    "# Step 4: Ensure all null values are coded the same way, or drop if very few nulls\n",
    "* Applicant credit score type mostly null (9)"
   ]
  },
  {
   "cell_type": "code",
   "execution_count": 522,
   "metadata": {},
   "outputs": [],
   "source": [
    "quicken_df = quicken_df[quicken_df['conforming_loan_limit'] != 'U']"
   ]
  },
  {
   "cell_type": "code",
   "execution_count": 523,
   "metadata": {},
   "outputs": [],
   "source": [
    "age_na_lst = [8888, '8888', '9999', 9999]\n",
    "quicken_df['applicant_age'] = quicken_df['applicant_age'].apply(lambda x: np.nan if x in age_na_lst else x)"
   ]
  },
  {
   "cell_type": "markdown",
   "metadata": {},
   "source": [
    "# Step 5: Variable Encoding\n",
    "* Dropped nan before encoding, or ignored\n",
    "* DIR: debt-to-income ratio\n",
    "* Age (dropped 908 nan)\n",
    "* Census Tract"
   ]
  },
  {
   "cell_type": "code",
   "execution_count": 524,
   "metadata": {},
   "outputs": [],
   "source": [
    "DIR_mapper = {'20%-<30%': 25, '30%-<36%': 33, '>60%': 65, '<20%': 15, '50%-60%': 55}\n",
    "\n",
    "\n",
    "quicken_df['debt_to_income_ratio'] = quicken_df['debt_to_income_ratio'] \\\n",
    "                                    .map(lambda x: DIR_mapper[x] if x in DIR_mapper else int(x), na_action='ignore')"
   ]
  },
  {
   "cell_type": "code",
   "execution_count": 525,
   "metadata": {},
   "outputs": [],
   "source": [
    "quicken_df = quicken_df[quicken_df['applicant_age'].notnull()]"
   ]
  },
  {
   "cell_type": "code",
   "execution_count": 526,
   "metadata": {},
   "outputs": [],
   "source": [
    "# Create ordinalencoder object for age column\n",
    "enc = OrdinalEncoder()\n",
    "\n",
    "# Convert column to array\n",
    "age_df = quicken_df[['applicant_age']].to_numpy()\n",
    "enc.fit(age_df)\n",
    "enc.categories_\n",
    "\n",
    "# fitted encoder to array\n",
    "enc_age_arr = enc.transform(quicken_df[['applicant_age']].to_numpy())\n",
    "\n",
    "# Apply encoder transformation\n",
    "quicken_df['applicant_age'] = enc_age_arr"
   ]
  },
  {
   "cell_type": "code",
   "execution_count": 527,
   "metadata": {},
   "outputs": [],
   "source": [
    "# Convert census tract IDs to one of ten categories (rural, urban, etc)\n",
    "quicken_df = quicken_df.dropna(subset=['census_tract'])\n",
    "quicken_df['census_tract'] = quicken_df['census_tract'].astype(int)\n",
    "quicken_df['census_tract'] = quicken_df['census_tract'].astype(str)\n",
    "quicken_df['census_tract'] = quicken_df['census_tract'].map(FIPS_dict)"
   ]
  },
  {
   "cell_type": "markdown",
   "metadata": {},
   "source": [
    "# Step 5: Handle Missing Values\n",
    "* Confirmed values MAR\n",
    "* Drop applicant credit score type\"\n",
    "    * 70% null values, will drop column instead of dropping null rows\n",
    "* Time crunch - dropped other missing value rows"
   ]
  },
  {
   "cell_type": "code",
   "execution_count": 528,
   "metadata": {},
   "outputs": [],
   "source": [
    "# Impute median for nan in the following columns\n",
    "quicken_df['debt_to_income_ratio'] = quicken_df['debt_to_income_ratio'].fillna(quicken_df['debt_to_income_ratio'] \\\n",
    "                                                                               .median())\n",
    "quicken_df['income'] = quicken_df['income'].fillna(quicken_df['income'].median())\n",
    "quicken_df['property_value'] = quicken_df['property_value'].fillna(quicken_df['property_value'].median())\n",
    "quicken_df['income'] = quicken_df['income'].fillna(quicken_df['income'].median())\n",
    "quicken_df['loan_to_value_ratio'] = quicken_df['loan_to_value_ratio'].fillna(quicken_df['loan_to_value_ratio'] \\\n",
    "                                                                             .median())"
   ]
  },
  {
   "cell_type": "code",
   "execution_count": 529,
   "metadata": {},
   "outputs": [
    {
     "data": {
      "text/plain": [
       "[]"
      ]
     },
     "execution_count": 529,
     "metadata": {},
     "output_type": "execute_result"
    }
   ],
   "source": [
    "quicken_df = quicken_df.drop('prepayment_penalty_term', axis=1)\n",
    "one_unique_value_lst = []\n",
    "for col in quicken_df.columns:\n",
    "    if len(quicken_df[col].unique()) ==1: \n",
    "        one_unique_value_lst.append(col)\n",
    "quicken_df = quicken_df.drop(one_unique_value_lst, axis=1)\n",
    "one_unique_value_lst"
   ]
  },
  {
   "cell_type": "code",
   "execution_count": 530,
   "metadata": {},
   "outputs": [
    {
     "data": {
      "text/plain": [
       "[]"
      ]
     },
     "execution_count": 530,
     "metadata": {},
     "output_type": "execute_result"
    }
   ],
   "source": [
    "# If the percentage of NON null values is under 5% of the entire dataset, drop column\n",
    "mostly_null = []\n",
    "for col in quicken_df.columns: \n",
    "    if quicken_df[col].notnull().sum()/quicken_df.shape[0] * 100 <5:\n",
    "        mostly_null.append(col)\n",
    "quicken_df = quicken_df.drop(mostly_null, axis=1)\n",
    "mostly_null"
   ]
  },
  {
   "cell_type": "code",
   "execution_count": 531,
   "metadata": {},
   "outputs": [
    {
     "data": {
      "text/plain": [
       "['census_tract', 'loan_term']"
      ]
     },
     "execution_count": 531,
     "metadata": {},
     "output_type": "execute_result"
    }
   ],
   "source": [
    "# create list of columns that have null values that need to be handled\n",
    "has_nulls = []\n",
    "for col in quicken_df.columns: \n",
    "    if quicken_df[col].notnull().sum() != quicken_df.shape[0]: \n",
    "        has_nulls.append(col)\n",
    "has_nulls"
   ]
  },
  {
   "cell_type": "code",
   "execution_count": 532,
   "metadata": {},
   "outputs": [
    {
     "data": {
      "text/plain": [
       "{'census_tract': 20.101007412533438, 'loan_term': 0.0006653979745285655}"
      ]
     },
     "execution_count": 532,
     "metadata": {},
     "output_type": "execute_result"
    }
   ],
   "source": [
    "# Calculate missing value ratio for remaining columns with null value\n",
    "missing_val_dict = {}\n",
    "for col in has_nulls: \n",
    "    missing_val_dict[col] = quicken_df[col].isnull().sum()/quicken_df.shape[0]* 100\n",
    "missing_val_dict"
   ]
  },
  {
   "cell_type": "markdown",
   "metadata": {},
   "source": [
    "### *Need to determine case-by-case for next cell*"
   ]
  },
  {
   "cell_type": "code",
   "execution_count": 533,
   "metadata": {},
   "outputs": [],
   "source": [
    "quicken_df = quicken_df.dropna(subset=['census_tract', 'loan_term'])"
   ]
  },
  {
   "cell_type": "code",
   "execution_count": 534,
   "metadata": {},
   "outputs": [],
   "source": [
    "quicken_df = quicken_df[quicken_df['census_tract'] != 99]"
   ]
  },
  {
   "cell_type": "markdown",
   "metadata": {},
   "source": [
    "#### Drop highly correlated columns\n",
    "* property value & loan amount (0.97) - kept loan amount as this is more likely the value the app user will know"
   ]
  },
  {
   "cell_type": "code",
   "execution_count": 535,
   "metadata": {},
   "outputs": [],
   "source": [
    "quicken_df = quicken_df.drop('property_value', axis=1)"
   ]
  },
  {
   "cell_type": "markdown",
   "metadata": {},
   "source": [
    "# Model preparation"
   ]
  },
  {
   "cell_type": "code",
   "execution_count": 536,
   "metadata": {},
   "outputs": [],
   "source": [
    "categorical_cols = ['census_tract', 'conforming_loan_limit', 'derived_dwelling_category', 'derived_ethnicity', \n",
    "                      'derived_race', 'derived_sex', 'loan_type', 'construction_method']"
   ]
  },
  {
   "cell_type": "code",
   "execution_count": 537,
   "metadata": {},
   "outputs": [],
   "source": [
    "# feature (X) and target(y) matrices, will encode on X instead of entire dataframe\n",
    "X = quicken_df.drop(['action_taken'], axis=1)\n",
    "y = quicken_df['action_taken']"
   ]
  },
  {
   "cell_type": "code",
   "execution_count": 538,
   "metadata": {},
   "outputs": [],
   "source": [
    "# Use one-hot encoding for categorical columns\n",
    "X = pd.get_dummies(X, columns = categorical_cols)"
   ]
  },
  {
   "cell_type": "code",
   "execution_count": 539,
   "metadata": {},
   "outputs": [],
   "source": [
    "# Drop columns that are duplicates of a binary dummy variable\n",
    "dummies_to_drop = ['derived_sex_Female', \n",
    "                   'conforming_loan_limit_NC', 'construction_method_2', \n",
    "                   'derived_dwelling_category_Single Family (1-4 Units):Manufactured', \n",
    "                   'derived_race_Free Form Text Only',\n",
    "                   'derived_ethnicity_Not Hispanic or Latino']\n",
    "X = X.drop(dummies_to_drop, axis=1)"
   ]
  },
  {
   "cell_type": "code",
   "execution_count": 574,
   "metadata": {},
   "outputs": [],
   "source": [
    "# Create TTS on entire dataset, stratify y to handle class imbalance\n",
    "X_train, X_test, y_train, y_test = train_test_split(X, y, test_size = 0.20, stratify=y, random_state=42)\n",
    "\n",
    "# Take subset to train model initially\n",
    "X_sub = X[::10]\n",
    "y_sub = y[::10]\n",
    "X_train_sub, X_test_sub, y_train_sub, y_test_sub = train_test_split(X_sub, y_sub, test_size = 0.20, \n",
    "                                                                    shuffle=True, stratify=y_sub)"
   ]
  },
  {
   "cell_type": "code",
   "execution_count": 478,
   "metadata": {},
   "outputs": [],
   "source": [
    "sgd_pipe = Pipeline([('scaler', StandardScaler()), ('classifier', SGDClassifier(loss='log'))])\n",
    "fitted = sgd_pipe.fit(X_train, y_train)\n",
    "sgd_preds = fitted.predict(X_test)"
   ]
  },
  {
   "cell_type": "code",
   "execution_count": 479,
   "metadata": {},
   "outputs": [],
   "source": [
    "sgd_probs = fitted.predict_proba(X_test)"
   ]
  },
  {
   "cell_type": "code",
   "execution_count": 594,
   "metadata": {},
   "outputs": [],
   "source": [
    "baseline_mvp = pd.DataFrame(data=[accuracy_score(y_test, sgd_preds), recall_score(y_test, sgd_preds),\n",
    "                   precision_score(y_test, sgd_preds), roc_auc_score(y_test, sgd_preds), \n",
    "                   f1_score(y_test, sgd_preds)], \n",
    "             index=[\"accuracy\", \"recall\", \"precision\", \"roc_auc_score\", \"f1 score\"])"
   ]
  },
  {
   "cell_type": "markdown",
   "metadata": {},
   "source": [
    "### Tuning hyperparameters"
   ]
  },
  {
   "cell_type": "code",
   "execution_count": 481,
   "metadata": {},
   "outputs": [],
   "source": [
    "sgd_pipe2 = Pipeline([('scaler', StandardScaler()), ('classifier', SGDClassifier(loss='log', warm_start=True))])\n",
    "sgd_grid_params = {'classifier__penalty' : ['l1','l2', 'elasticnet'], 'classifier__alpha' : np.logspace(-4, 4, 20)}\n",
    "sgd_grid = GridSearchCV(sgd_pipe2, sgd_grid_params, cv=StratifiedKFold(10, shuffle=True), scoring = 'f1')\n",
    "sgd_fitted2 = sgd_grid.fit(X_train, y_train)\n",
    "sgd_preds2 = sgd_fitted2.predict(X_test)\n"
   ]
  },
  {
   "cell_type": "code",
   "execution_count": null,
   "metadata": {},
   "outputs": [],
   "source": [
    "sgd_probs2 = sgd_fitted2.predict_proba(X_test)\n",
    "sgd_probs_sub = sgd_fitted2.predict_proba(X_test_sub)"
   ]
  },
  {
   "cell_type": "code",
   "execution_count": 541,
   "metadata": {},
   "outputs": [],
   "source": [
    "import pickle\n",
    "# Store model performance in diction and pickle the model \n",
    "chase_dict['Certainty of Prediction'] = f1_score(y_test, sgd_preds2)\n",
    "\n",
    "with open('chase_model.pkl', 'wb') as f:\n",
    "    pickle.dump(sgd_fitted2, f)"
   ]
  },
  {
   "cell_type": "markdown",
   "metadata": {},
   "source": [
    "# Get feature importance"
   ]
  },
  {
   "cell_type": "code",
   "execution_count": 484,
   "metadata": {},
   "outputs": [],
   "source": [
    "best_sgdclassifier = sgd_grid.best_estimator_.named_steps['classifier']\n",
    "coefs = best_sgdclassifier.coef_\n",
    "coefs = coefs.flatten().tolist()\n",
    "features = X_test.columns.tolist()\n",
    "features_df = pd.DataFrame({'features': features, 'coefficients' : coefs}) \\\n",
    "                                            .sort_values(by='coefficients', ascending=False)"
   ]
  },
  {
   "cell_type": "code",
   "execution_count": 485,
   "metadata": {},
   "outputs": [
    {
     "data": {
      "image/png": "[encoded data removed]",
      "text/plain": [
       "<Figure size 864x864 with 1 Axes>"
      ]
     },
     "metadata": {},
     "output_type": "display_data"
    }
   ],
   "source": [
    "fig, ax = plt.subplots(figsize=(12,12))\n",
    "ax.barh(features_df.features, width=features_df.coefficients);"
   ]
  },
  {
   "cell_type": "code",
   "execution_count": 486,
   "metadata": {},
   "outputs": [
    {
     "name": "stdout",
     "output_type": "stream",
     "text": [
      "Stored 'JP_features' (DataFrame)\n"
     ]
    }
   ],
   "source": [
    "data_tuples = list(zip(features,coefs))\n",
    "JP_features = pd.DataFrame(data_tuples, columns=['features', 'coefs'])    \n",
    "%store JP_features"
   ]
  },
  {
   "cell_type": "markdown",
   "metadata": {},
   "source": [
    "# Model Performance"
   ]
  },
  {
   "cell_type": "code",
   "execution_count": 589,
   "metadata": {},
   "outputs": [],
   "source": [
    "baseline_tuned = pd.DataFrame(data=[accuracy_score(y_test, sgd_preds2), recall_score(y_test, sgd_preds2),\n",
    "                   precision_score(y_test, sgd_preds2), roc_auc_score(y_test, sgd_preds2), \n",
    "                   f1_score(y_test, sgd_preds2)], \n",
    "             index=[\"accuracy\", \"recall\", \"precision\", \"roc_auc_score\", \"f1 score\"])"
   ]
  },
  {
   "cell_type": "code",
   "execution_count": 487,
   "metadata": {},
   "outputs": [
    {
     "data": {
      "text/plain": [
       "Text(0, 0.5, 'True Positive Rate')"
      ]
     },
     "execution_count": 487,
     "metadata": {},
     "output_type": "execute_result"
    },
    {
     "data": {
      "image/png": "[encoded data removed]",
      "text/plain": [
       "<Figure size 432x288 with 1 Axes>"
      ]
     },
     "metadata": {},
     "output_type": "display_data"
    }
   ],
   "source": [
    "# keep probabilities for the positive outcome only\n",
    "sgd_probs = sgd_fitted2.predict_proba(X_test)[:,1]\n",
    "\n",
    "# calculate scores\n",
    "sgd_auc = roc_auc_score(y_test, sgd_probs)\n",
    "# roc curve for logistic regression model\n",
    "# calculate roc curves\n",
    "fpr, tpr, thresholds = roc_curve(y_test, sgd_probs)\n",
    "fig, ax = plt.subplots()\n",
    "# plot the roc curve for the model\n",
    "ax.plot([0,1], [0,1], linestyle='--', label='No Skill')\n",
    "ax.plot(fpr, tpr, marker='.', label='Logistic')\n",
    "\n",
    "# axis labels\n",
    "ax.set_xlabel('False Positive Rate')\n",
    "ax.set_ylabel('True Positive Rate')\n",
    "\n",
    "\n"
   ]
  },
  {
   "cell_type": "markdown",
   "metadata": {},
   "source": [
    "# Threshold Moving"
   ]
  },
  {
   "cell_type": "code",
   "execution_count": 644,
   "metadata": {},
   "outputs": [
    {
     "data": {
      "text/plain": [
       "array([[    0.        , -3237.56441135],\n",
       "       [ -113.71743654,  3221.45712572]])"
      ]
     },
     "execution_count": 644,
     "metadata": {},
     "output_type": "execute_result"
    }
   ],
   "source": [
    "# TP benefit: loan sale\n",
    "tp_profit = quicken_df['loan_amount'].mean()*0.01\n",
    "\n",
    "# FP cost: potential to have to buy back the loan and lose street cred with investors - lower rates, etc\n",
    "## this is rare because underwriters confirm information in the AUS\n",
    "fp_cost = -tp_profit*1.005\n",
    "\n",
    "# FN: opportunity cost * market share\n",
    "fn_cost = -tp_profit*(0.0353)\n",
    "\n",
    "tn = 0\n",
    "\n",
    "# Create confusion matrix\n",
    "cost_benefit_matrix = np.array([[tn, fp_cost],[fn_cost, tp_profit]])\n",
    "cost_benefit_matrix"
   ]
  },
  {
   "cell_type": "code",
   "execution_count": 645,
   "metadata": {},
   "outputs": [],
   "source": [
    "def profit_curve(cost_benefit_matrix, y_prob, y_test):\n",
    "    \"\"\" To calculate list of profits based on supplied cost-benefit\n",
    "    matrix and predicted probabilities of data points and their true labels.\n",
    "\n",
    "    Parameters\n",
    "    ----------\n",
    "    cost_benefit_matrix    : ndarray - 2D, with profit values corresponding to:\n",
    "                                          -----------\n",
    "                                          | TN | FP |\n",
    "                                          -----------\n",
    "                                          | FN | TP |\n",
    "                                          -----------\n",
    "    y_prob : ndarray - 1D, predicted probability for each data point\n",
    "                                    in labels, in range [0, 1]\n",
    "    y_test : ndarray - 1D, true label of data points, 0 or 1\n",
    "\n",
    "    Returns\n",
    "    -------\n",
    "    profits    : ndarray - 1D\n",
    "    thresholds : ndarray - 1D\n",
    "    \"\"\"\n",
    "    n_obs = float(len(y_test))\n",
    "   \n",
    "    thresholds = sorted(y_prob, reverse=True)\n",
    "  \n",
    "    profits = []\n",
    "    y_preds = []\n",
    "    for threshold in thresholds:\n",
    "#       create boolean array \n",
    "        y_pred = y_prob >= threshold\n",
    "        \n",
    "#       create a confusion matrix for every threshold to store tn, tp, fn, fp values if that threshold was used\n",
    "        confusion_mat = confusion_matrix(y_test, y_pred)\n",
    "    \n",
    "#     use matrix multiplication to find the overall profit, then divide the num observations to get profit/unit\n",
    "        profit = np.sum(cost_benefit_matrix*confusion_mat)/n_obs\n",
    "        profits.append(profit)\n",
    "        \n",
    "    return np.array(profits), np.array(thresholds)"
   ]
  },
  {
   "cell_type": "code",
   "execution_count": 646,
   "metadata": {},
   "outputs": [],
   "source": [
    "profits, thresholds = profit_curve(cost_benefit_matrix, sgd_probs_sub, y_test_sub)"
   ]
  },
  {
   "cell_type": "code",
   "execution_count": 647,
   "metadata": {},
   "outputs": [
    {
     "data": {
      "text/plain": [
       "<matplotlib.legend.Legend at 0x12e97aa90>"
      ]
     },
     "execution_count": 647,
     "metadata": {},
     "output_type": "execute_result"
    },
    {
     "data": {
      "image/png": "[encoded data removed]",
      "text/plain": [
       "<Figure size 720x720 with 1 Axes>"
      ]
     },
     "metadata": {},
     "output_type": "display_data"
    }
   ],
   "source": [
    "max_profit = np.max(np.array(profits))\n",
    "max_profit_thresh = thresholds[np.argmax(np.array(profits))]\n",
    "fig, ax = plt.subplots(figsize=(10,10))\n",
    "ax.plot(thresholds, profits, color='blue')\n",
    "ax.set_xlabel('threshold values')\n",
    "ax.set_ylabel('Profit ($)')\n",
    "ax.axvline(max_profit_thresh, label=f'max profit threshold: {round(max_profit_thresh,2)} with ${round(max_profit, 2)} in profit')\n",
    "ax.set_title('Profit at Varying Thresholds for Cost-Benefit Matrix')\n",
    "ax.legend()"
   ]
  },
  {
   "cell_type": "code",
   "execution_count": 649,
   "metadata": {},
   "outputs": [
    {
     "data": {
      "text/html": [
       "<div>\n",
       "<style scoped>\n",
       "    .dataframe tbody tr th:only-of-type {\n",
       "        vertical-align: middle;\n",
       "    }\n",
       "\n",
       "    .dataframe tbody tr th {\n",
       "        vertical-align: top;\n",
       "    }\n",
       "\n",
       "    .dataframe thead th {\n",
       "        text-align: right;\n",
       "    }\n",
       "</style>\n",
       "<table border=\"1\" class=\"dataframe\">\n",
       "  <thead>\n",
       "    <tr style=\"text-align: right;\">\n",
       "      <th></th>\n",
       "      <th>0</th>\n",
       "      <th>new thresh</th>\n",
       "    </tr>\n",
       "  </thead>\n",
       "  <tbody>\n",
       "    <tr>\n",
       "      <th>accuracy</th>\n",
       "      <td>0.968645</td>\n",
       "      <td>0.967895</td>\n",
       "    </tr>\n",
       "    <tr>\n",
       "      <th>recall</th>\n",
       "      <td>0.999170</td>\n",
       "      <td>0.998647</td>\n",
       "    </tr>\n",
       "    <tr>\n",
       "      <th>precision</th>\n",
       "      <td>0.968925</td>\n",
       "      <td>0.968663</td>\n",
       "    </tr>\n",
       "    <tr>\n",
       "      <th>roc_auc_score</th>\n",
       "      <td>0.668955</td>\n",
       "      <td>0.665990</td>\n",
       "    </tr>\n",
       "    <tr>\n",
       "      <th>f1 score</th>\n",
       "      <td>0.983815</td>\n",
       "      <td>0.983426</td>\n",
       "    </tr>\n",
       "  </tbody>\n",
       "</table>\n",
       "</div>"
      ],
      "text/plain": [
       "                      0  new thresh\n",
       "accuracy       0.968645    0.967895\n",
       "recall         0.999170    0.998647\n",
       "precision      0.968925    0.968663\n",
       "roc_auc_score  0.668955    0.665990\n",
       "f1 score       0.983815    0.983426"
      ]
     },
     "execution_count": 649,
     "metadata": {},
     "output_type": "execute_result"
    }
   ],
   "source": [
    "# Use threshold from Profit Curve to determine classification\n",
    "final_preds = []\n",
    "for i in sgd_probs: \n",
    "#     threshold location at highest profit value\n",
    "    if i >=max_profit_thresh: \n",
    "        final_preds.append(1)\n",
    "    else: \n",
    "        final_preds.append(0)\n",
    "        \n",
    "# Threshold max\n",
    "thres_max = pd.DataFrame(data=[accuracy_score(y_test, final_preds), recall_score(y_test, final_preds),\n",
    "                   precision_score(y_test, final_preds), roc_auc_score(y_test, final_preds), \n",
    "                   f1_score(y_test, final_preds)], \n",
    "             index=[\"accuracy\", \"recall\", \"precision\", \"roc_auc_score\", \"f1 score\"])\n",
    "# Threshold 50%\n",
    "baseline= pd.DataFrame(data=[accuracy_score(y_test, sgd_preds), recall_score(y_test, sgd_preds),\n",
    "                   precision_score(y_test, sgd_preds), roc_auc_score(y_test, sgd_preds), \n",
    "                   f1_score(y_test, sgd_preds)], \n",
    "             index=[\"accuracy\", \"recall\", \"precision\", \"roc_auc_score\", \"f1 score\"])\n",
    "\n",
    "\n",
    "baseline['new thresh'] = thres_max[0]\n",
    "\n",
    "chase_dict['Approval Threshold'] = max_profit_thresh\n",
    "chase_dict['Certainty of Prediction'] = f1_score(y_test, final_preds)\n",
    "\n",
    "baseline"
   ]
  },
  {
   "cell_type": "markdown",
   "metadata": {},
   "source": [
    "# Bias evaluation"
   ]
  },
  {
   "cell_type": "markdown",
   "metadata": {},
   "source": [
    "### Start with baseline type I, type II error rates on existing dataset"
   ]
  },
  {
   "cell_type": "code",
   "execution_count": 542,
   "metadata": {},
   "outputs": [],
   "source": [
    "# Create array of predicted values on entire test set\n",
    "y_pred_baseline = fitted.predict(X_test)\n",
    "\n",
    "# Make df of predictions with predicted and true columns to be used for comparison\n",
    "base_analysis = X_test.copy() \n",
    "base_analysis['Pred Approval'] = y_pred_baseline\n",
    "base_analysis['Actual Approval'] = y_test\n",
    "\n",
    "\n",
    "# Create DFs with indices of black applicants and white applicants, respectively. Because I am pulling records\n",
    "# by race, I need to keep the True and Predicted values attached to these rows. No longer doing any prediction. \n",
    "black = base_analysis[base_analysis['derived_race_Black or African American'] == 1]\n",
    "white = base_analysis[base_analysis['derived_race_White'] == 1]\n",
    "asian = base_analysis[base_analysis['derived_race_Asian'] == 1]\n",
    "joint_race = base_analysis[base_analysis['derived_race_Joint'] == 1]\n",
    "race_unavail = base_analysis[base_analysis['derived_race_Race Not Available'] == 1]\n",
    "male = base_analysis[base_analysis['derived_sex_Male'] == 1]\n",
    "female = base_analysis[base_analysis['derived_sex_Male'] == 0]\n",
    "hispanic = base_analysis[base_analysis['derived_ethnicity_Hispanic or Latino'] == 1]\n",
    "non_hispanic = base_analysis[base_analysis['derived_ethnicity_Hispanic or Latino'] == 0]\n",
    "\n",
    "\n",
    "# Create confusion matrix to determine baseline type I, II error rates\n",
    "black_conf = confusion_matrix(black['Actual Approval'], black['Pred Approval'], normalize = 'all')\n",
    "white_conf = confusion_matrix(white['Actual Approval'], white['Pred Approval'], normalize = 'all')\n",
    "asian_conf = plus_racial_conf = confusion_matrix(asian['Actual Approval'], asian['Pred Approval'], normalize = 'all')\n",
    "joint_race_conf = confusion_matrix(joint_race['Actual Approval'], joint_race['Pred Approval'], normalize = 'all')\n",
    "race_unavail_conf = confusion_matrix(race_unavail['Actual Approval'], race_unavail['Pred Approval'], normalize = 'all')\n",
    "male_conf = confusion_matrix(male['Actual Approval'], male['Pred Approval'], normalize = 'all')\n",
    "female_conf = confusion_matrix(female['Actual Approval'], female['Pred Approval'], normalize = 'all')\n",
    "hisp_conf = confusion_matrix(hispanic['Actual Approval'], hispanic['Pred Approval'], normalize = 'all')\n",
    "non_hisp_conf = confusion_matrix(non_hispanic['Actual Approval'], non_hispanic['Pred Approval'], normalize = 'all')"
   ]
  },
  {
   "cell_type": "markdown",
   "metadata": {},
   "source": [
    "#### Compare error rates for black and white applicants after switching those values"
   ]
  },
  {
   "cell_type": "code",
   "execution_count": 543,
   "metadata": {},
   "outputs": [],
   "source": [
    "X_test_black = X_test.copy()\n",
    "cond = (X_test_black['derived_race_Black or African American'] ==1) | (X_test_black['derived_race_White'] == 1)\n",
    "true_race = 'derived_race_Black or African American'\n",
    "white = 'derived_race_White'\n",
    "X_test_black.loc[cond, [true_race, white]] = X_test_black.loc[cond, [white, true_race]].values\n",
    "# Predict on swapped race DF\n",
    "pred_swap_black = fitted.predict(X_test_black)\n",
    "\n",
    "# re-rerun confusion matrix stats\n",
    "black_swap_analysis = X_test_black.copy()\n",
    "black_swap_analysis['Pred Approval'] = pred_swap_black\n",
    "black_swap_analysis['Actual Approval'] = y_test\n",
    "\n",
    "# white applicants coded as black\n",
    "white_to_black = black_swap_analysis[black_swap_analysis['derived_race_Black or African American'] == 1]\n",
    "\n",
    "# black applicants coded as white\n",
    "black_to_white = black_swap_analysis[black_swap_analysis['derived_race_White'] == 1]\n",
    "\n",
    "white_to_black_conf = confusion_matrix(white_to_black['Actual Approval'], white_to_black['Pred Approval'], normalize= 'all')\n",
    "black_to_white_conf = confusion_matrix(black_to_white['Actual Approval'], black_to_white['Pred Approval'], normalize = 'all')"
   ]
  },
  {
   "cell_type": "code",
   "execution_count": 544,
   "metadata": {},
   "outputs": [],
   "source": [
    "baseline_fn = black_conf.ravel()[2]"
   ]
  },
  {
   "cell_type": "code",
   "execution_count": 545,
   "metadata": {},
   "outputs": [],
   "source": [
    "swapped_fn = black_to_white_conf.ravel()[2]"
   ]
  },
  {
   "cell_type": "code",
   "execution_count": 547,
   "metadata": {},
   "outputs": [
    {
     "name": "stdout",
     "output_type": "stream",
     "text": [
      "type II error decreased for black applicants by 0.19% when coded as white\n",
      "type II error increased for white applicants by 0.72% when coded as black\n"
     ]
    }
   ],
   "source": [
    "print(f'type II error decreased for black applicants by {round(((baseline_fn - swapped_fn)*100), 2)}% when coded as white')\n",
    "print(f'type II error increased for white applicants by 0.72% when coded as black')"
   ]
  },
  {
   "cell_type": "code",
   "execution_count": 567,
   "metadata": {},
   "outputs": [],
   "source": [
    "chase_dict['Black applicant error rate'] = (black_conf.ravel()[2] - black_to_white_conf.ravel()[2]) "
   ]
  },
  {
   "cell_type": "markdown",
   "metadata": {},
   "source": [
    "#### Compare error rates for Asian and white applicants after switching those values\n"
   ]
  },
  {
   "cell_type": "code",
   "execution_count": 549,
   "metadata": {},
   "outputs": [],
   "source": [
    "X_test_asian = X_test.copy()\n",
    "cond = (X_test_asian['derived_race_Asian'] ==1) | (X_test_asian['derived_race_White'] == 1)\n",
    "true_race = 'derived_race_Asian'\n",
    "white = 'derived_race_White'\n",
    "X_test_asian.loc[cond, [true_race, white]] = X_test_asian.loc[cond, [white, true_race]].values\n",
    "# Predict on swapped race DF\n",
    "pred_swap_asian = fitted.predict(X_test_asian)\n",
    "\n",
    "# re-rerun confusion matrix stats\n",
    "asian_swap_analysis = X_test_asian.copy()\n",
    "asian_swap_analysis['Pred Approval'] = pred_swap_asian\n",
    "asian_swap_analysis['Actual Approval'] = y_test\n",
    "\n",
    "# white applicants coded as asian\n",
    "white_to_asian = asian_swap_analysis[asian_swap_analysis['derived_race_Asian'] == 1]\n",
    "\n",
    "# asian applicants coded as white\n",
    "asian_to_white = asian_swap_analysis[asian_swap_analysis['derived_race_White'] == 1]\n",
    "\n",
    "white_to_asian_conf = confusion_matrix(white_to_asian['Actual Approval'], white_to_asian['Pred Approval'], normalize= 'all')\n",
    "asian_to_white_conf = confusion_matrix(asian_to_white['Actual Approval'], asian_to_white['Pred Approval'], normalize = 'all')"
   ]
  },
  {
   "cell_type": "code",
   "execution_count": 550,
   "metadata": {},
   "outputs": [
    {
     "name": "stdout",
     "output_type": "stream",
     "text": [
      "type II error changed for asian applicants by -0.06% when coded as white\n",
      "type II error changed for white applicants by -0.09% when coded as asian\n"
     ]
    }
   ],
   "source": [
    "baseline_fn = asian_conf.ravel()[2]\n",
    "asian_swapped_fn = asian_to_white_conf.ravel()[2]\n",
    "white_swapped_fn = white_to_asian_conf.ravel()[2]\n",
    "print(f'type II error changed for asian applicants by {round(((baseline_fn - swapped_fn)*100), 2)}% when coded as white')\n",
    "print(f'type II error changed for white applicants by {round(((asian_swapped_fn - baseline_fn)*100), 2)}% when coded as asian')"
   ]
  },
  {
   "cell_type": "code",
   "execution_count": 568,
   "metadata": {},
   "outputs": [],
   "source": [
    "chase_dict['Asian applicant error rate'] = (asian_conf.ravel()[2] - asian_to_white_conf.ravel()[2])"
   ]
  },
  {
   "cell_type": "markdown",
   "metadata": {},
   "source": [
    "#### Compare error rates for biracial or multiracial applicants and white applicants after switching those values\n"
   ]
  },
  {
   "cell_type": "code",
   "execution_count": 552,
   "metadata": {},
   "outputs": [],
   "source": [
    "X_test_biracial = X_test.copy()\n",
    "cond = (X_test_biracial['derived_race_2 or more minority races'] ==1) | (X_test_biracial['derived_race_White'] == 1)\n",
    "true_race = 'derived_race_2 or more minority races'\n",
    "white = 'derived_race_White'\n",
    "X_test_biracial.loc[cond, [true_race, white]] = X_test_biracial.loc[cond, [white, true_race]].values\n",
    "# Predict on swapped race DF\n",
    "pred_swap_biracial = fitted.predict(X_test_biracial)\n",
    "\n",
    "# re-rerun confusion matrix stats\n",
    "biracial_swap_analysis = X_test_biracial.copy()\n",
    "biracial_swap_analysis['Pred Approval'] = pred_swap_biracial\n",
    "biracial_swap_analysis['Actual Approval'] = y_test\n",
    "\n",
    "# white applicants coded as biracial\n",
    "white_to_biracial = biracial_swap_analysis[biracial_swap_analysis['derived_race_2 or more minority races'] == 1]\n",
    "\n",
    "# biracial applicants coded as white\n",
    "biracial_to_white = biracial_swap_analysis[biracial_swap_analysis['derived_race_White'] == 1]\n",
    "\n",
    "white_to_biracial_conf = confusion_matrix(white_to_biracial['Actual Approval'], white_to_biracial['Pred Approval'], normalize= 'all')\n",
    "biracial_to_white_conf = confusion_matrix(biracial_to_white['Actual Approval'], biracial_to_white['Pred Approval'], normalize = 'all')"
   ]
  },
  {
   "cell_type": "code",
   "execution_count": 553,
   "metadata": {},
   "outputs": [
    {
     "name": "stdout",
     "output_type": "stream",
     "text": [
      "type II error changed for biracial applicants by 0.21% when coded as white\n",
      "type II error changed for white applicants by -0.21% when coded as biracial\n"
     ]
    }
   ],
   "source": [
    "baseline_fn = race_unavail_conf.ravel()[2]\n",
    "biracial_swapped_fn = biracial_to_white_conf.ravel()[2]\n",
    "white_swapped_fn = white_to_biracial_conf.ravel()[2]\n",
    "print(f'type II error changed for biracial applicants by {round(((baseline_fn - biracial_swapped_fn)*100), 2)}% when coded as white')\n",
    "print(f'type II error changed for white applicants by {round(((biracial_swapped_fn - baseline_fn)*100), 2)}% when coded as biracial')"
   ]
  },
  {
   "cell_type": "code",
   "execution_count": 569,
   "metadata": {},
   "outputs": [],
   "source": [
    "chase_dict['biracial'] = (race_unavail_conf.ravel()[2] - biracial_to_white_conf.ravel()[2])"
   ]
  },
  {
   "cell_type": "markdown",
   "metadata": {},
   "source": [
    "#### Compare error rates for applicants that did not specify their race and white applicants after switching those values\n"
   ]
  },
  {
   "cell_type": "code",
   "execution_count": 555,
   "metadata": {},
   "outputs": [],
   "source": [
    "X_test_unavail = X_test.copy()\n",
    "cond = (X_test_unavail['derived_race_Race Not Available'] ==1) | (X_test_unavail['derived_race_White'] == 1)\n",
    "true_race = 'derived_race_Race Not Available'\n",
    "white = 'derived_race_White'\n",
    "X_test_unavail.loc[cond, [true_race, white]] = X_test_unavail.loc[cond, [white, true_race]].values\n",
    "# Predict on swapped race DF\n",
    "pred_swap_unavail = fitted.predict(X_test_unavail)\n",
    "\n",
    "# re-rerun confusion matrix stats\n",
    "unavail_swap_analysis = X_test_unavail.copy()\n",
    "unavail_swap_analysis['Pred Approval'] = pred_swap_unavail\n",
    "unavail_swap_analysis['Actual Approval'] = y_test\n",
    "\n",
    "# white applicants coded as unavail\n",
    "white_to_unavail = unavail_swap_analysis[unavail_swap_analysis['derived_race_Race Not Available'] == 1]\n",
    "\n",
    "# unavail applicants coded as white\n",
    "unavail_to_white = unavail_swap_analysis[unavail_swap_analysis['derived_race_White'] == 1]\n",
    "\n",
    "white_to_unavail_conf = confusion_matrix(white_to_unavail['Actual Approval'], white_to_unavail['Pred Approval'], normalize= 'all')\n",
    "unavail_to_white_conf = confusion_matrix(unavail_to_white['Actual Approval'], unavail_to_white['Pred Approval'], normalize = 'all')"
   ]
  },
  {
   "cell_type": "code",
   "execution_count": 556,
   "metadata": {},
   "outputs": [
    {
     "name": "stdout",
     "output_type": "stream",
     "text": [
      "type II error changed for applicants who did not specify their race by -0.08% when coded as white\n",
      "type II error changed for white applicants by 0.08% when coded as race unavailable\n"
     ]
    }
   ],
   "source": [
    "baseline_fn = joint_race_conf.ravel()[2]\n",
    "unavail_swapped_fn = unavail_to_white_conf.ravel()[2]\n",
    "white_swapped_fn = white_to_unavail_conf.ravel()[2]\n",
    "print(f'type II error changed for applicants who did not specify their race by {round(((baseline_fn - unavail_swapped_fn)*100), 2)}% when coded as white')\n",
    "print(f'type II error changed for white applicants by {round(((unavail_swapped_fn - baseline_fn)*100), 2)}% when coded as race unavailable')"
   ]
  },
  {
   "cell_type": "code",
   "execution_count": 570,
   "metadata": {},
   "outputs": [],
   "source": [
    "chase_dict['unspecified'] = (joint_race_conf.ravel()[2] - unavail_to_white_conf.ravel()[2])"
   ]
  },
  {
   "cell_type": "markdown",
   "metadata": {},
   "source": [
    "#### Compare error rates for male and female applicants\n"
   ]
  },
  {
   "cell_type": "code",
   "execution_count": 558,
   "metadata": {},
   "outputs": [],
   "source": [
    "X_test_sex = X_test.copy()\n",
    "cond = (X_test_sex['derived_sex_Male'] ==1) | (X_test_sex['derived_sex_Male'] == 0)\n",
    "\n",
    "X_test_sex['derived_sex_Male'] = ~X_test['derived_sex_Male'].values.astype(bool)\n",
    "\n",
    "pred_swap_sex = fitted.predict(X_test_sex)\n",
    "\n",
    "# re-rerun confusion matrix stats\n",
    "sex_swap_analysis = X_test_sex.copy()\n",
    "sex_swap_analysis['Pred Approval'] = pred_swap_sex\n",
    "sex_swap_analysis['Actual Approval'] = y_test\n",
    "\n",
    "# white applicants coded as sex\n",
    "female_to_male = sex_swap_analysis[sex_swap_analysis['derived_sex_Male'] == 1]\n",
    "\n",
    "# sex applicants coded as white\n",
    "male_to_female = sex_swap_analysis[sex_swap_analysis['derived_sex_Male'] == 0]\n",
    "\n",
    "female_to_male_conf = confusion_matrix(female_to_male['Actual Approval'], female_to_male['Pred Approval'], normalize= 'all')\n",
    "male_to_female_conf = confusion_matrix(male_to_female['Actual Approval'], male_to_female['Pred Approval'], normalize = 'all')"
   ]
  },
  {
   "cell_type": "code",
   "execution_count": 559,
   "metadata": {},
   "outputs": [
    {
     "name": "stdout",
     "output_type": "stream",
     "text": [
      "type II error changed for male applicants coded as female by 0.0% when coded as white\n",
      "type II error changed for female applicants coded as male applicants by 0.01% when coded as race unavailable\n"
     ]
    }
   ],
   "source": [
    "baseline_fn_m = male_conf.ravel()[2]\n",
    "m_to_f_fn = male_to_female_conf.ravel()[2]\n",
    "\n",
    "baseline_fn_f = female_conf.ravel()[2]\n",
    "f_to_m_fn = female_to_male_conf.ravel()[2]\n",
    "\n",
    "\n",
    "print(f'type II error changed for male applicants coded as female by {round(((baseline_fn_m - m_to_f_fn)*100), 2)}% when coded as white')\n",
    "print(f'type II error changed for female applicants coded as male applicants by {round(((baseline_fn_f - f_to_m_fn)*100), 2)}% when coded as race unavailable')"
   ]
  },
  {
   "cell_type": "code",
   "execution_count": 571,
   "metadata": {},
   "outputs": [],
   "source": [
    "chase_dict['Female applicant error rate'] = (female_conf.ravel()[2] - female_to_male_conf.ravel()[2])"
   ]
  },
  {
   "cell_type": "markdown",
   "metadata": {},
   "source": [
    "#### Compare error rates for hispanic vs non-hispanic"
   ]
  },
  {
   "cell_type": "code",
   "execution_count": 561,
   "metadata": {},
   "outputs": [],
   "source": [
    "X_test_hispanic = X_test.copy()\n",
    "cond = (X_test_hispanic['derived_ethnicity_Hispanic or Latino'] ==1) | (X_test_hispanic['derived_ethnicity_Hispanic or Latino'] == 0)\n",
    "\n",
    "X_test_hispanic['derived_ethnicity_Hispanic or Latino'] = ~X_test['derived_ethnicity_Hispanic or Latino'].values.astype(bool)\n",
    "\n",
    "pred_swap_hispanic = fitted.predict(X_test_hispanic)\n",
    "\n",
    "# re-rerun confusion matrix stats\n",
    "hispanic_swap_analysis = X_test_hispanic.copy()\n",
    "hispanic_swap_analysis['Pred Approval'] = pred_swap_hispanic\n",
    "hispanic_swap_analysis['Actual Approval'] = y_test\n",
    "\n",
    "# hispanic coded as non-hispanic\n",
    "his_to_non = hispanic_swap_analysis[hispanic_swap_analysis['derived_ethnicity_Hispanic or Latino'] == 1]\n",
    "\n",
    "# non-hispanic coded as hispanic\n",
    "non_to_his = hispanic_swap_analysis[hispanic_swap_analysis['derived_ethnicity_Hispanic or Latino'] == 0]\n",
    "\n",
    "his_to_non_conf = confusion_matrix(his_to_non['Actual Approval'], his_to_non['Pred Approval'], normalize= 'all')\n",
    "non_to_his_conf = confusion_matrix(non_to_his['Actual Approval'], non_to_his['Pred Approval'], normalize = 'all')"
   ]
  },
  {
   "cell_type": "code",
   "execution_count": 562,
   "metadata": {},
   "outputs": [
    {
     "name": "stdout",
     "output_type": "stream",
     "text": [
      "type II error changed for hispanic applicants coded as non-hispanic by -0.08% \n",
      "type II error changed for non-hispanic applicants coded as hispanic applicants by 0.03% \n"
     ]
    }
   ],
   "source": [
    "baseline_fn_his = hisp_conf.ravel()[2]\n",
    "his_to_non_conf_fn = his_to_non_conf.ravel()[2]\n",
    "\n",
    "baseline_fn_non = non_hisp_conf.ravel()[2]\n",
    "non_to_his_conf_fn = non_to_his_conf.ravel()[2]\n",
    "\n",
    "\n",
    "print(f'type II error changed for hispanic applicants coded as non-hispanic by {round(((baseline_fn_his - his_to_non_conf_fn)*100), 2)}% ')\n",
    "print(f'type II error changed for non-hispanic applicants coded as hispanic applicants by {round(((baseline_fn_non - non_to_his_conf_fn)*100), 2)}% ')"
   ]
  },
  {
   "cell_type": "code",
   "execution_count": 572,
   "metadata": {},
   "outputs": [],
   "source": [
    "chase_dict['Hispanic applicant error rate'] = (hisp_conf.ravel()[2] - his_to_non_conf.ravel()[2]) \n",
    "chase_dict['Lender'] = 'JPMorgan Chase'"
   ]
  },
  {
   "cell_type": "code",
   "execution_count": 650,
   "metadata": {},
   "outputs": [
    {
     "name": "stdout",
     "output_type": "stream",
     "text": [
      "Stored 'chase_dict' (dict)\n"
     ]
    }
   ],
   "source": [
    "%store chase_dict\n",
    "with open('chase_dict.pkl', 'wb') as f: \n",
    "    pickle.dump(chase_dict, f)\n",
    "with open('chase_preds.pkl', 'wb') as f:\n",
    "    pickle.dump(sgd_probs, f)"
   ]
  },
  {
   "cell_type": "markdown",
   "metadata": {},
   "source": [
    "# MVP - other algorithms explored\n",
    "### Logistic Regression\n",
    "* Training on entire dataset ~30 minutes, with similar ROC-AUC scores"
   ]
  },
  {
   "cell_type": "code",
   "execution_count": 47,
   "metadata": {},
   "outputs": [
    {
     "name": "stderr",
     "output_type": "stream",
     "text": [
      "/Users/carlahuebner/opt/anaconda3/lib/python3.7/site-packages/sklearn/model_selection/_validation.py:614: FitFailedWarning: Estimator fit failed. The score on this train-test partition for these parameters will be set to nan. Details: \n",
      "Traceback (most recent call last):\n",
      "  File \"/Users/carlahuebner/opt/anaconda3/lib/python3.7/site-packages/sklearn/model_selection/_validation.py\", line 593, in _fit_and_score\n",
      "    estimator.fit(X_train, y_train, **fit_params)\n",
      "  File \"/Users/carlahuebner/opt/anaconda3/lib/python3.7/site-packages/sklearn/pipeline.py\", line 341, in fit\n",
      "    Xt = self._fit(X, y, **fit_params_steps)\n",
      "  File \"/Users/carlahuebner/opt/anaconda3/lib/python3.7/site-packages/sklearn/pipeline.py\", line 307, in _fit\n",
      "    **fit_params_steps[name])\n",
      "  File \"/Users/carlahuebner/opt/anaconda3/lib/python3.7/site-packages/joblib/memory.py\", line 352, in __call__\n",
      "    return self.func(*args, **kwargs)\n",
      "  File \"/Users/carlahuebner/opt/anaconda3/lib/python3.7/site-packages/sklearn/pipeline.py\", line 754, in _fit_transform_one\n",
      "    res = transformer.fit_transform(X, y, **fit_params)\n",
      "  File \"/Users/carlahuebner/opt/anaconda3/lib/python3.7/site-packages/sklearn/base.py\", line 702, in fit_transform\n",
      "    return self.fit(X, y, **fit_params).transform(X)\n",
      "  File \"/Users/carlahuebner/opt/anaconda3/lib/python3.7/site-packages/sklearn/preprocessing/_data.py\", line 730, in fit\n",
      "    return self.partial_fit(X, y, sample_weight)\n",
      "  File \"/Users/carlahuebner/opt/anaconda3/lib/python3.7/site-packages/sklearn/preprocessing/_data.py\", line 768, in partial_fit\n",
      "    force_all_finite='allow-nan', reset=first_call)\n",
      "  File \"/Users/carlahuebner/opt/anaconda3/lib/python3.7/site-packages/sklearn/base.py\", line 421, in _validate_data\n",
      "    X = check_array(X, **check_params)\n",
      "  File \"/Users/carlahuebner/opt/anaconda3/lib/python3.7/site-packages/sklearn/utils/validation.py\", line 63, in inner_f\n",
      "    return f(*args, **kwargs)\n",
      "  File \"/Users/carlahuebner/opt/anaconda3/lib/python3.7/site-packages/sklearn/utils/validation.py\", line 616, in check_array\n",
      "    array = np.asarray(array, order=order, dtype=dtype)\n",
      "  File \"/Users/carlahuebner/opt/anaconda3/lib/python3.7/site-packages/numpy/core/_asarray.py\", line 85, in asarray\n",
      "    return array(a, dtype, copy=False, order=order)\n",
      "ValueError: could not convert string to float: '5-24'\n",
      "\n",
      "  FitFailedWarning)\n",
      "/Users/carlahuebner/opt/anaconda3/lib/python3.7/site-packages/sklearn/model_selection/_validation.py:614: FitFailedWarning: Estimator fit failed. The score on this train-test partition for these parameters will be set to nan. Details: \n",
      "Traceback (most recent call last):\n",
      "  File \"/Users/carlahuebner/opt/anaconda3/lib/python3.7/site-packages/sklearn/model_selection/_validation.py\", line 593, in _fit_and_score\n",
      "    estimator.fit(X_train, y_train, **fit_params)\n",
      "  File \"/Users/carlahuebner/opt/anaconda3/lib/python3.7/site-packages/sklearn/pipeline.py\", line 341, in fit\n",
      "    Xt = self._fit(X, y, **fit_params_steps)\n",
      "  File \"/Users/carlahuebner/opt/anaconda3/lib/python3.7/site-packages/sklearn/pipeline.py\", line 307, in _fit\n",
      "    **fit_params_steps[name])\n",
      "  File \"/Users/carlahuebner/opt/anaconda3/lib/python3.7/site-packages/joblib/memory.py\", line 352, in __call__\n",
      "    return self.func(*args, **kwargs)\n",
      "  File \"/Users/carlahuebner/opt/anaconda3/lib/python3.7/site-packages/sklearn/pipeline.py\", line 754, in _fit_transform_one\n",
      "    res = transformer.fit_transform(X, y, **fit_params)\n",
      "  File \"/Users/carlahuebner/opt/anaconda3/lib/python3.7/site-packages/sklearn/base.py\", line 702, in fit_transform\n",
      "    return self.fit(X, y, **fit_params).transform(X)\n",
      "  File \"/Users/carlahuebner/opt/anaconda3/lib/python3.7/site-packages/sklearn/preprocessing/_data.py\", line 730, in fit\n",
      "    return self.partial_fit(X, y, sample_weight)\n",
      "  File \"/Users/carlahuebner/opt/anaconda3/lib/python3.7/site-packages/sklearn/preprocessing/_data.py\", line 768, in partial_fit\n",
      "    force_all_finite='allow-nan', reset=first_call)\n",
      "  File \"/Users/carlahuebner/opt/anaconda3/lib/python3.7/site-packages/sklearn/base.py\", line 421, in _validate_data\n",
      "    X = check_array(X, **check_params)\n",
      "  File \"/Users/carlahuebner/opt/anaconda3/lib/python3.7/site-packages/sklearn/utils/validation.py\", line 63, in inner_f\n",
      "    return f(*args, **kwargs)\n",
      "  File \"/Users/carlahuebner/opt/anaconda3/lib/python3.7/site-packages/sklearn/utils/validation.py\", line 616, in check_array\n",
      "    array = np.asarray(array, order=order, dtype=dtype)\n",
      "  File \"/Users/carlahuebner/opt/anaconda3/lib/python3.7/site-packages/numpy/core/_asarray.py\", line 85, in asarray\n",
      "    return array(a, dtype, copy=False, order=order)\n",
      "ValueError: could not convert string to float: '5-24'\n",
      "\n",
      "  FitFailedWarning)\n",
      "/Users/carlahuebner/opt/anaconda3/lib/python3.7/site-packages/sklearn/model_selection/_validation.py:614: FitFailedWarning: Estimator fit failed. The score on this train-test partition for these parameters will be set to nan. Details: \n",
      "Traceback (most recent call last):\n",
      "  File \"/Users/carlahuebner/opt/anaconda3/lib/python3.7/site-packages/sklearn/model_selection/_validation.py\", line 593, in _fit_and_score\n",
      "    estimator.fit(X_train, y_train, **fit_params)\n",
      "  File \"/Users/carlahuebner/opt/anaconda3/lib/python3.7/site-packages/sklearn/pipeline.py\", line 341, in fit\n",
      "    Xt = self._fit(X, y, **fit_params_steps)\n",
      "  File \"/Users/carlahuebner/opt/anaconda3/lib/python3.7/site-packages/sklearn/pipeline.py\", line 307, in _fit\n",
      "    **fit_params_steps[name])\n",
      "  File \"/Users/carlahuebner/opt/anaconda3/lib/python3.7/site-packages/joblib/memory.py\", line 352, in __call__\n",
      "    return self.func(*args, **kwargs)\n",
      "  File \"/Users/carlahuebner/opt/anaconda3/lib/python3.7/site-packages/sklearn/pipeline.py\", line 754, in _fit_transform_one\n",
      "    res = transformer.fit_transform(X, y, **fit_params)\n",
      "  File \"/Users/carlahuebner/opt/anaconda3/lib/python3.7/site-packages/sklearn/base.py\", line 702, in fit_transform\n",
      "    return self.fit(X, y, **fit_params).transform(X)\n",
      "  File \"/Users/carlahuebner/opt/anaconda3/lib/python3.7/site-packages/sklearn/preprocessing/_data.py\", line 730, in fit\n",
      "    return self.partial_fit(X, y, sample_weight)\n",
      "  File \"/Users/carlahuebner/opt/anaconda3/lib/python3.7/site-packages/sklearn/preprocessing/_data.py\", line 768, in partial_fit\n",
      "    force_all_finite='allow-nan', reset=first_call)\n",
      "  File \"/Users/carlahuebner/opt/anaconda3/lib/python3.7/site-packages/sklearn/base.py\", line 421, in _validate_data\n",
      "    X = check_array(X, **check_params)\n",
      "  File \"/Users/carlahuebner/opt/anaconda3/lib/python3.7/site-packages/sklearn/utils/validation.py\", line 63, in inner_f\n",
      "    return f(*args, **kwargs)\n",
      "  File \"/Users/carlahuebner/opt/anaconda3/lib/python3.7/site-packages/sklearn/utils/validation.py\", line 616, in check_array\n",
      "    array = np.asarray(array, order=order, dtype=dtype)\n",
      "  File \"/Users/carlahuebner/opt/anaconda3/lib/python3.7/site-packages/numpy/core/_asarray.py\", line 85, in asarray\n",
      "    return array(a, dtype, copy=False, order=order)\n",
      "ValueError: could not convert string to float: '5-24'\n",
      "\n",
      "  FitFailedWarning)\n",
      "/Users/carlahuebner/opt/anaconda3/lib/python3.7/site-packages/sklearn/model_selection/_validation.py:614: FitFailedWarning: Estimator fit failed. The score on this train-test partition for these parameters will be set to nan. Details: \n",
      "Traceback (most recent call last):\n",
      "  File \"/Users/carlahuebner/opt/anaconda3/lib/python3.7/site-packages/sklearn/model_selection/_validation.py\", line 593, in _fit_and_score\n",
      "    estimator.fit(X_train, y_train, **fit_params)\n",
      "  File \"/Users/carlahuebner/opt/anaconda3/lib/python3.7/site-packages/sklearn/pipeline.py\", line 341, in fit\n",
      "    Xt = self._fit(X, y, **fit_params_steps)\n",
      "  File \"/Users/carlahuebner/opt/anaconda3/lib/python3.7/site-packages/sklearn/pipeline.py\", line 307, in _fit\n",
      "    **fit_params_steps[name])\n",
      "  File \"/Users/carlahuebner/opt/anaconda3/lib/python3.7/site-packages/joblib/memory.py\", line 352, in __call__\n",
      "    return self.func(*args, **kwargs)\n",
      "  File \"/Users/carlahuebner/opt/anaconda3/lib/python3.7/site-packages/sklearn/pipeline.py\", line 754, in _fit_transform_one\n",
      "    res = transformer.fit_transform(X, y, **fit_params)\n",
      "  File \"/Users/carlahuebner/opt/anaconda3/lib/python3.7/site-packages/sklearn/base.py\", line 702, in fit_transform\n",
      "    return self.fit(X, y, **fit_params).transform(X)\n",
      "  File \"/Users/carlahuebner/opt/anaconda3/lib/python3.7/site-packages/sklearn/preprocessing/_data.py\", line 730, in fit\n",
      "    return self.partial_fit(X, y, sample_weight)\n",
      "  File \"/Users/carlahuebner/opt/anaconda3/lib/python3.7/site-packages/sklearn/preprocessing/_data.py\", line 768, in partial_fit\n",
      "    force_all_finite='allow-nan', reset=first_call)\n",
      "  File \"/Users/carlahuebner/opt/anaconda3/lib/python3.7/site-packages/sklearn/base.py\", line 421, in _validate_data\n",
      "    X = check_array(X, **check_params)\n",
      "  File \"/Users/carlahuebner/opt/anaconda3/lib/python3.7/site-packages/sklearn/utils/validation.py\", line 63, in inner_f\n",
      "    return f(*args, **kwargs)\n",
      "  File \"/Users/carlahuebner/opt/anaconda3/lib/python3.7/site-packages/sklearn/utils/validation.py\", line 616, in check_array\n",
      "    array = np.asarray(array, order=order, dtype=dtype)\n",
      "  File \"/Users/carlahuebner/opt/anaconda3/lib/python3.7/site-packages/numpy/core/_asarray.py\", line 85, in asarray\n",
      "    return array(a, dtype, copy=False, order=order)\n",
      "ValueError: could not convert string to float: '5-24'\n",
      "\n",
      "  FitFailedWarning)\n"
     ]
    },
    {
     "name": "stderr",
     "output_type": "stream",
     "text": [
      "/Users/carlahuebner/opt/anaconda3/lib/python3.7/site-packages/sklearn/model_selection/_validation.py:614: FitFailedWarning: Estimator fit failed. The score on this train-test partition for these parameters will be set to nan. Details: \n",
      "Traceback (most recent call last):\n",
      "  File \"/Users/carlahuebner/opt/anaconda3/lib/python3.7/site-packages/sklearn/model_selection/_validation.py\", line 593, in _fit_and_score\n",
      "    estimator.fit(X_train, y_train, **fit_params)\n",
      "  File \"/Users/carlahuebner/opt/anaconda3/lib/python3.7/site-packages/sklearn/pipeline.py\", line 341, in fit\n",
      "    Xt = self._fit(X, y, **fit_params_steps)\n",
      "  File \"/Users/carlahuebner/opt/anaconda3/lib/python3.7/site-packages/sklearn/pipeline.py\", line 307, in _fit\n",
      "    **fit_params_steps[name])\n",
      "  File \"/Users/carlahuebner/opt/anaconda3/lib/python3.7/site-packages/joblib/memory.py\", line 352, in __call__\n",
      "    return self.func(*args, **kwargs)\n",
      "  File \"/Users/carlahuebner/opt/anaconda3/lib/python3.7/site-packages/sklearn/pipeline.py\", line 754, in _fit_transform_one\n",
      "    res = transformer.fit_transform(X, y, **fit_params)\n",
      "  File \"/Users/carlahuebner/opt/anaconda3/lib/python3.7/site-packages/sklearn/base.py\", line 702, in fit_transform\n",
      "    return self.fit(X, y, **fit_params).transform(X)\n",
      "  File \"/Users/carlahuebner/opt/anaconda3/lib/python3.7/site-packages/sklearn/preprocessing/_data.py\", line 730, in fit\n",
      "    return self.partial_fit(X, y, sample_weight)\n",
      "  File \"/Users/carlahuebner/opt/anaconda3/lib/python3.7/site-packages/sklearn/preprocessing/_data.py\", line 768, in partial_fit\n",
      "    force_all_finite='allow-nan', reset=first_call)\n",
      "  File \"/Users/carlahuebner/opt/anaconda3/lib/python3.7/site-packages/sklearn/base.py\", line 421, in _validate_data\n",
      "    X = check_array(X, **check_params)\n",
      "  File \"/Users/carlahuebner/opt/anaconda3/lib/python3.7/site-packages/sklearn/utils/validation.py\", line 63, in inner_f\n",
      "    return f(*args, **kwargs)\n",
      "  File \"/Users/carlahuebner/opt/anaconda3/lib/python3.7/site-packages/sklearn/utils/validation.py\", line 616, in check_array\n",
      "    array = np.asarray(array, order=order, dtype=dtype)\n",
      "  File \"/Users/carlahuebner/opt/anaconda3/lib/python3.7/site-packages/numpy/core/_asarray.py\", line 85, in asarray\n",
      "    return array(a, dtype, copy=False, order=order)\n",
      "ValueError: could not convert string to float: '5-24'\n",
      "\n",
      "  FitFailedWarning)\n",
      "/Users/carlahuebner/opt/anaconda3/lib/python3.7/site-packages/sklearn/model_selection/_validation.py:614: FitFailedWarning: Estimator fit failed. The score on this train-test partition for these parameters will be set to nan. Details: \n",
      "Traceback (most recent call last):\n",
      "  File \"/Users/carlahuebner/opt/anaconda3/lib/python3.7/site-packages/sklearn/model_selection/_validation.py\", line 593, in _fit_and_score\n",
      "    estimator.fit(X_train, y_train, **fit_params)\n",
      "  File \"/Users/carlahuebner/opt/anaconda3/lib/python3.7/site-packages/sklearn/pipeline.py\", line 346, in fit\n",
      "    self._final_estimator.fit(Xt, y, **fit_params_last_step)\n",
      "  File \"/Users/carlahuebner/opt/anaconda3/lib/python3.7/site-packages/sklearn/linear_model/_logistic.py\", line 1346, in fit\n",
      "    accept_large_sparse=solver != 'liblinear')\n",
      "  File \"/Users/carlahuebner/opt/anaconda3/lib/python3.7/site-packages/sklearn/base.py\", line 433, in _validate_data\n",
      "    X, y = check_X_y(X, y, **check_params)\n",
      "  File \"/Users/carlahuebner/opt/anaconda3/lib/python3.7/site-packages/sklearn/utils/validation.py\", line 63, in inner_f\n",
      "    return f(*args, **kwargs)\n",
      "  File \"/Users/carlahuebner/opt/anaconda3/lib/python3.7/site-packages/sklearn/utils/validation.py\", line 821, in check_X_y\n",
      "    estimator=estimator)\n",
      "  File \"/Users/carlahuebner/opt/anaconda3/lib/python3.7/site-packages/sklearn/utils/validation.py\", line 63, in inner_f\n",
      "    return f(*args, **kwargs)\n",
      "  File \"/Users/carlahuebner/opt/anaconda3/lib/python3.7/site-packages/sklearn/utils/validation.py\", line 664, in check_array\n",
      "    allow_nan=force_all_finite == 'allow-nan')\n",
      "  File \"/Users/carlahuebner/opt/anaconda3/lib/python3.7/site-packages/sklearn/utils/validation.py\", line 106, in _assert_all_finite\n",
      "    msg_dtype if msg_dtype is not None else X.dtype)\n",
      "ValueError: Input contains NaN, infinity or a value too large for dtype('float64').\n",
      "\n",
      "  FitFailedWarning)\n",
      "/Users/carlahuebner/opt/anaconda3/lib/python3.7/site-packages/sklearn/model_selection/_validation.py:614: FitFailedWarning: Estimator fit failed. The score on this train-test partition for these parameters will be set to nan. Details: \n",
      "Traceback (most recent call last):\n",
      "  File \"/Users/carlahuebner/opt/anaconda3/lib/python3.7/site-packages/sklearn/model_selection/_validation.py\", line 593, in _fit_and_score\n",
      "    estimator.fit(X_train, y_train, **fit_params)\n",
      "  File \"/Users/carlahuebner/opt/anaconda3/lib/python3.7/site-packages/sklearn/pipeline.py\", line 341, in fit\n",
      "    Xt = self._fit(X, y, **fit_params_steps)\n",
      "  File \"/Users/carlahuebner/opt/anaconda3/lib/python3.7/site-packages/sklearn/pipeline.py\", line 307, in _fit\n",
      "    **fit_params_steps[name])\n",
      "  File \"/Users/carlahuebner/opt/anaconda3/lib/python3.7/site-packages/joblib/memory.py\", line 352, in __call__\n",
      "    return self.func(*args, **kwargs)\n",
      "  File \"/Users/carlahuebner/opt/anaconda3/lib/python3.7/site-packages/sklearn/pipeline.py\", line 754, in _fit_transform_one\n",
      "    res = transformer.fit_transform(X, y, **fit_params)\n",
      "  File \"/Users/carlahuebner/opt/anaconda3/lib/python3.7/site-packages/sklearn/base.py\", line 702, in fit_transform\n",
      "    return self.fit(X, y, **fit_params).transform(X)\n",
      "  File \"/Users/carlahuebner/opt/anaconda3/lib/python3.7/site-packages/sklearn/preprocessing/_data.py\", line 730, in fit\n",
      "    return self.partial_fit(X, y, sample_weight)\n",
      "  File \"/Users/carlahuebner/opt/anaconda3/lib/python3.7/site-packages/sklearn/preprocessing/_data.py\", line 768, in partial_fit\n",
      "    force_all_finite='allow-nan', reset=first_call)\n",
      "  File \"/Users/carlahuebner/opt/anaconda3/lib/python3.7/site-packages/sklearn/base.py\", line 421, in _validate_data\n",
      "    X = check_array(X, **check_params)\n",
      "  File \"/Users/carlahuebner/opt/anaconda3/lib/python3.7/site-packages/sklearn/utils/validation.py\", line 63, in inner_f\n",
      "    return f(*args, **kwargs)\n",
      "  File \"/Users/carlahuebner/opt/anaconda3/lib/python3.7/site-packages/sklearn/utils/validation.py\", line 616, in check_array\n",
      "    array = np.asarray(array, order=order, dtype=dtype)\n",
      "  File \"/Users/carlahuebner/opt/anaconda3/lib/python3.7/site-packages/numpy/core/_asarray.py\", line 85, in asarray\n",
      "    return array(a, dtype, copy=False, order=order)\n",
      "ValueError: could not convert string to float: '5-24'\n",
      "\n",
      "  FitFailedWarning)\n",
      "/Users/carlahuebner/opt/anaconda3/lib/python3.7/site-packages/sklearn/model_selection/_validation.py:614: FitFailedWarning: Estimator fit failed. The score on this train-test partition for these parameters will be set to nan. Details: \n",
      "Traceback (most recent call last):\n",
      "  File \"/Users/carlahuebner/opt/anaconda3/lib/python3.7/site-packages/sklearn/model_selection/_validation.py\", line 593, in _fit_and_score\n",
      "    estimator.fit(X_train, y_train, **fit_params)\n",
      "  File \"/Users/carlahuebner/opt/anaconda3/lib/python3.7/site-packages/sklearn/pipeline.py\", line 341, in fit\n",
      "    Xt = self._fit(X, y, **fit_params_steps)\n",
      "  File \"/Users/carlahuebner/opt/anaconda3/lib/python3.7/site-packages/sklearn/pipeline.py\", line 307, in _fit\n",
      "    **fit_params_steps[name])\n",
      "  File \"/Users/carlahuebner/opt/anaconda3/lib/python3.7/site-packages/joblib/memory.py\", line 352, in __call__\n",
      "    return self.func(*args, **kwargs)\n",
      "  File \"/Users/carlahuebner/opt/anaconda3/lib/python3.7/site-packages/sklearn/pipeline.py\", line 754, in _fit_transform_one\n",
      "    res = transformer.fit_transform(X, y, **fit_params)\n",
      "  File \"/Users/carlahuebner/opt/anaconda3/lib/python3.7/site-packages/sklearn/base.py\", line 702, in fit_transform\n",
      "    return self.fit(X, y, **fit_params).transform(X)\n",
      "  File \"/Users/carlahuebner/opt/anaconda3/lib/python3.7/site-packages/sklearn/preprocessing/_data.py\", line 730, in fit\n",
      "    return self.partial_fit(X, y, sample_weight)\n",
      "  File \"/Users/carlahuebner/opt/anaconda3/lib/python3.7/site-packages/sklearn/preprocessing/_data.py\", line 768, in partial_fit\n",
      "    force_all_finite='allow-nan', reset=first_call)\n",
      "  File \"/Users/carlahuebner/opt/anaconda3/lib/python3.7/site-packages/sklearn/base.py\", line 421, in _validate_data\n",
      "    X = check_array(X, **check_params)\n",
      "  File \"/Users/carlahuebner/opt/anaconda3/lib/python3.7/site-packages/sklearn/utils/validation.py\", line 63, in inner_f\n",
      "    return f(*args, **kwargs)\n",
      "  File \"/Users/carlahuebner/opt/anaconda3/lib/python3.7/site-packages/sklearn/utils/validation.py\", line 616, in check_array\n",
      "    array = np.asarray(array, order=order, dtype=dtype)\n",
      "  File \"/Users/carlahuebner/opt/anaconda3/lib/python3.7/site-packages/numpy/core/_asarray.py\", line 85, in asarray\n",
      "    return array(a, dtype, copy=False, order=order)\n",
      "ValueError: could not convert string to float: '5-24'\n",
      "\n",
      "  FitFailedWarning)\n"
     ]
    },
    {
     "name": "stderr",
     "output_type": "stream",
     "text": [
      "/Users/carlahuebner/opt/anaconda3/lib/python3.7/site-packages/sklearn/model_selection/_validation.py:614: FitFailedWarning: Estimator fit failed. The score on this train-test partition for these parameters will be set to nan. Details: \n",
      "Traceback (most recent call last):\n",
      "  File \"/Users/carlahuebner/opt/anaconda3/lib/python3.7/site-packages/sklearn/model_selection/_validation.py\", line 593, in _fit_and_score\n",
      "    estimator.fit(X_train, y_train, **fit_params)\n",
      "  File \"/Users/carlahuebner/opt/anaconda3/lib/python3.7/site-packages/sklearn/pipeline.py\", line 341, in fit\n",
      "    Xt = self._fit(X, y, **fit_params_steps)\n",
      "  File \"/Users/carlahuebner/opt/anaconda3/lib/python3.7/site-packages/sklearn/pipeline.py\", line 307, in _fit\n",
      "    **fit_params_steps[name])\n",
      "  File \"/Users/carlahuebner/opt/anaconda3/lib/python3.7/site-packages/joblib/memory.py\", line 352, in __call__\n",
      "    return self.func(*args, **kwargs)\n",
      "  File \"/Users/carlahuebner/opt/anaconda3/lib/python3.7/site-packages/sklearn/pipeline.py\", line 754, in _fit_transform_one\n",
      "    res = transformer.fit_transform(X, y, **fit_params)\n",
      "  File \"/Users/carlahuebner/opt/anaconda3/lib/python3.7/site-packages/sklearn/base.py\", line 702, in fit_transform\n",
      "    return self.fit(X, y, **fit_params).transform(X)\n",
      "  File \"/Users/carlahuebner/opt/anaconda3/lib/python3.7/site-packages/sklearn/preprocessing/_data.py\", line 730, in fit\n",
      "    return self.partial_fit(X, y, sample_weight)\n",
      "  File \"/Users/carlahuebner/opt/anaconda3/lib/python3.7/site-packages/sklearn/preprocessing/_data.py\", line 768, in partial_fit\n",
      "    force_all_finite='allow-nan', reset=first_call)\n",
      "  File \"/Users/carlahuebner/opt/anaconda3/lib/python3.7/site-packages/sklearn/base.py\", line 421, in _validate_data\n",
      "    X = check_array(X, **check_params)\n",
      "  File \"/Users/carlahuebner/opt/anaconda3/lib/python3.7/site-packages/sklearn/utils/validation.py\", line 63, in inner_f\n",
      "    return f(*args, **kwargs)\n",
      "  File \"/Users/carlahuebner/opt/anaconda3/lib/python3.7/site-packages/sklearn/utils/validation.py\", line 616, in check_array\n",
      "    array = np.asarray(array, order=order, dtype=dtype)\n",
      "  File \"/Users/carlahuebner/opt/anaconda3/lib/python3.7/site-packages/numpy/core/_asarray.py\", line 85, in asarray\n",
      "    return array(a, dtype, copy=False, order=order)\n",
      "ValueError: could not convert string to float: '5-24'\n",
      "\n",
      "  FitFailedWarning)\n",
      "/Users/carlahuebner/opt/anaconda3/lib/python3.7/site-packages/sklearn/model_selection/_validation.py:614: FitFailedWarning: Estimator fit failed. The score on this train-test partition for these parameters will be set to nan. Details: \n",
      "Traceback (most recent call last):\n",
      "  File \"/Users/carlahuebner/opt/anaconda3/lib/python3.7/site-packages/sklearn/model_selection/_validation.py\", line 593, in _fit_and_score\n",
      "    estimator.fit(X_train, y_train, **fit_params)\n",
      "  File \"/Users/carlahuebner/opt/anaconda3/lib/python3.7/site-packages/sklearn/pipeline.py\", line 341, in fit\n",
      "    Xt = self._fit(X, y, **fit_params_steps)\n",
      "  File \"/Users/carlahuebner/opt/anaconda3/lib/python3.7/site-packages/sklearn/pipeline.py\", line 307, in _fit\n",
      "    **fit_params_steps[name])\n",
      "  File \"/Users/carlahuebner/opt/anaconda3/lib/python3.7/site-packages/joblib/memory.py\", line 352, in __call__\n",
      "    return self.func(*args, **kwargs)\n",
      "  File \"/Users/carlahuebner/opt/anaconda3/lib/python3.7/site-packages/sklearn/pipeline.py\", line 754, in _fit_transform_one\n",
      "    res = transformer.fit_transform(X, y, **fit_params)\n",
      "  File \"/Users/carlahuebner/opt/anaconda3/lib/python3.7/site-packages/sklearn/base.py\", line 702, in fit_transform\n",
      "    return self.fit(X, y, **fit_params).transform(X)\n",
      "  File \"/Users/carlahuebner/opt/anaconda3/lib/python3.7/site-packages/sklearn/preprocessing/_data.py\", line 730, in fit\n",
      "    return self.partial_fit(X, y, sample_weight)\n",
      "  File \"/Users/carlahuebner/opt/anaconda3/lib/python3.7/site-packages/sklearn/preprocessing/_data.py\", line 768, in partial_fit\n",
      "    force_all_finite='allow-nan', reset=first_call)\n",
      "  File \"/Users/carlahuebner/opt/anaconda3/lib/python3.7/site-packages/sklearn/base.py\", line 421, in _validate_data\n",
      "    X = check_array(X, **check_params)\n",
      "  File \"/Users/carlahuebner/opt/anaconda3/lib/python3.7/site-packages/sklearn/utils/validation.py\", line 63, in inner_f\n",
      "    return f(*args, **kwargs)\n",
      "  File \"/Users/carlahuebner/opt/anaconda3/lib/python3.7/site-packages/sklearn/utils/validation.py\", line 616, in check_array\n",
      "    array = np.asarray(array, order=order, dtype=dtype)\n",
      "  File \"/Users/carlahuebner/opt/anaconda3/lib/python3.7/site-packages/numpy/core/_asarray.py\", line 85, in asarray\n",
      "    return array(a, dtype, copy=False, order=order)\n",
      "ValueError: could not convert string to float: '5-24'\n",
      "\n",
      "  FitFailedWarning)\n",
      "/Users/carlahuebner/opt/anaconda3/lib/python3.7/site-packages/sklearn/model_selection/_search.py:921: UserWarning: One or more of the test scores are non-finite: [nan]\n",
      "  category=UserWarning\n"
     ]
    },
    {
     "ename": "ValueError",
     "evalue": "could not convert string to float: '5-24'",
     "output_type": "error",
     "traceback": [
      "\u001b[0;31m---------------------------------------------------------------------------\u001b[0m",
      "\u001b[0;31mValueError\u001b[0m                                Traceback (most recent call last)",
      "\u001b[0;32m<ipython-input-47-c335de40d2f7>\u001b[0m in \u001b[0;36m<module>\u001b[0;34m\u001b[0m\n\u001b[1;32m      3\u001b[0m \u001b[0mlr_grid_params\u001b[0m \u001b[0;34m=\u001b[0m \u001b[0;34m{\u001b[0m\u001b[0;34m}\u001b[0m\u001b[0;34m\u001b[0m\u001b[0;34m\u001b[0m\u001b[0m\n\u001b[1;32m      4\u001b[0m \u001b[0mlr_grid\u001b[0m \u001b[0;34m=\u001b[0m \u001b[0mGridSearchCV\u001b[0m\u001b[0;34m(\u001b[0m\u001b[0mlr_pipe\u001b[0m\u001b[0;34m,\u001b[0m \u001b[0mlr_grid_params\u001b[0m\u001b[0;34m,\u001b[0m \u001b[0mcv\u001b[0m\u001b[0;34m=\u001b[0m\u001b[0mStratifiedKFold\u001b[0m\u001b[0;34m(\u001b[0m\u001b[0;36m10\u001b[0m\u001b[0;34m,\u001b[0m \u001b[0mshuffle\u001b[0m\u001b[0;34m=\u001b[0m\u001b[0;32mTrue\u001b[0m\u001b[0;34m)\u001b[0m\u001b[0;34m,\u001b[0m \u001b[0mscoring\u001b[0m \u001b[0;34m=\u001b[0m \u001b[0;34m'f1'\u001b[0m\u001b[0;34m)\u001b[0m\u001b[0;34m\u001b[0m\u001b[0;34m\u001b[0m\u001b[0m\n\u001b[0;32m----> 5\u001b[0;31m \u001b[0mfitted\u001b[0m \u001b[0;34m=\u001b[0m \u001b[0mlr_grid\u001b[0m\u001b[0;34m.\u001b[0m\u001b[0mfit\u001b[0m\u001b[0;34m(\u001b[0m\u001b[0mX_train_sub\u001b[0m\u001b[0;34m,\u001b[0m \u001b[0my_train_sub\u001b[0m\u001b[0;34m)\u001b[0m\u001b[0;34m\u001b[0m\u001b[0;34m\u001b[0m\u001b[0m\n\u001b[0m\u001b[1;32m      6\u001b[0m \u001b[0mprint\u001b[0m\u001b[0;34m(\u001b[0m\u001b[0;34mf'Logistic Regression ROC-AUC training subset: { lr_grid.score(X_train_sub, y_train_sub)}'\u001b[0m\u001b[0;34m)\u001b[0m\u001b[0;34m\u001b[0m\u001b[0;34m\u001b[0m\u001b[0m\n\u001b[1;32m      7\u001b[0m \u001b[0mprint\u001b[0m\u001b[0;34m(\u001b[0m\u001b[0;34mf'Logistic Regression ROC-AUC test subset: { lr_grid.score(X_test_sub, y_test_sub)}'\u001b[0m\u001b[0;34m)\u001b[0m\u001b[0;34m\u001b[0m\u001b[0;34m\u001b[0m\u001b[0m\n",
      "\u001b[0;32m~/opt/anaconda3/lib/python3.7/site-packages/sklearn/utils/validation.py\u001b[0m in \u001b[0;36minner_f\u001b[0;34m(*args, **kwargs)\u001b[0m\n\u001b[1;32m     61\u001b[0m             \u001b[0mextra_args\u001b[0m \u001b[0;34m=\u001b[0m \u001b[0mlen\u001b[0m\u001b[0;34m(\u001b[0m\u001b[0margs\u001b[0m\u001b[0;34m)\u001b[0m \u001b[0;34m-\u001b[0m \u001b[0mlen\u001b[0m\u001b[0;34m(\u001b[0m\u001b[0mall_args\u001b[0m\u001b[0;34m)\u001b[0m\u001b[0;34m\u001b[0m\u001b[0;34m\u001b[0m\u001b[0m\n\u001b[1;32m     62\u001b[0m             \u001b[0;32mif\u001b[0m \u001b[0mextra_args\u001b[0m \u001b[0;34m<=\u001b[0m \u001b[0;36m0\u001b[0m\u001b[0;34m:\u001b[0m\u001b[0;34m\u001b[0m\u001b[0;34m\u001b[0m\u001b[0m\n\u001b[0;32m---> 63\u001b[0;31m                 \u001b[0;32mreturn\u001b[0m \u001b[0mf\u001b[0m\u001b[0;34m(\u001b[0m\u001b[0;34m*\u001b[0m\u001b[0margs\u001b[0m\u001b[0;34m,\u001b[0m \u001b[0;34m**\u001b[0m\u001b[0mkwargs\u001b[0m\u001b[0;34m)\u001b[0m\u001b[0;34m\u001b[0m\u001b[0;34m\u001b[0m\u001b[0m\n\u001b[0m\u001b[1;32m     64\u001b[0m \u001b[0;34m\u001b[0m\u001b[0m\n\u001b[1;32m     65\u001b[0m             \u001b[0;31m# extra_args > 0\u001b[0m\u001b[0;34m\u001b[0m\u001b[0;34m\u001b[0m\u001b[0;34m\u001b[0m\u001b[0m\n",
      "\u001b[0;32m~/opt/anaconda3/lib/python3.7/site-packages/sklearn/model_selection/_search.py\u001b[0m in \u001b[0;36mfit\u001b[0;34m(self, X, y, groups, **fit_params)\u001b[0m\n\u001b[1;32m    878\u001b[0m             \u001b[0mrefit_start_time\u001b[0m \u001b[0;34m=\u001b[0m \u001b[0mtime\u001b[0m\u001b[0;34m.\u001b[0m\u001b[0mtime\u001b[0m\u001b[0;34m(\u001b[0m\u001b[0;34m)\u001b[0m\u001b[0;34m\u001b[0m\u001b[0;34m\u001b[0m\u001b[0m\n\u001b[1;32m    879\u001b[0m             \u001b[0;32mif\u001b[0m \u001b[0my\u001b[0m \u001b[0;32mis\u001b[0m \u001b[0;32mnot\u001b[0m \u001b[0;32mNone\u001b[0m\u001b[0;34m:\u001b[0m\u001b[0;34m\u001b[0m\u001b[0;34m\u001b[0m\u001b[0m\n\u001b[0;32m--> 880\u001b[0;31m                 \u001b[0mself\u001b[0m\u001b[0;34m.\u001b[0m\u001b[0mbest_estimator_\u001b[0m\u001b[0;34m.\u001b[0m\u001b[0mfit\u001b[0m\u001b[0;34m(\u001b[0m\u001b[0mX\u001b[0m\u001b[0;34m,\u001b[0m \u001b[0my\u001b[0m\u001b[0;34m,\u001b[0m \u001b[0;34m**\u001b[0m\u001b[0mfit_params\u001b[0m\u001b[0;34m)\u001b[0m\u001b[0;34m\u001b[0m\u001b[0;34m\u001b[0m\u001b[0m\n\u001b[0m\u001b[1;32m    881\u001b[0m             \u001b[0;32melse\u001b[0m\u001b[0;34m:\u001b[0m\u001b[0;34m\u001b[0m\u001b[0;34m\u001b[0m\u001b[0m\n\u001b[1;32m    882\u001b[0m                 \u001b[0mself\u001b[0m\u001b[0;34m.\u001b[0m\u001b[0mbest_estimator_\u001b[0m\u001b[0;34m.\u001b[0m\u001b[0mfit\u001b[0m\u001b[0;34m(\u001b[0m\u001b[0mX\u001b[0m\u001b[0;34m,\u001b[0m \u001b[0;34m**\u001b[0m\u001b[0mfit_params\u001b[0m\u001b[0;34m)\u001b[0m\u001b[0;34m\u001b[0m\u001b[0;34m\u001b[0m\u001b[0m\n",
      "\u001b[0;32m~/opt/anaconda3/lib/python3.7/site-packages/sklearn/pipeline.py\u001b[0m in \u001b[0;36mfit\u001b[0;34m(self, X, y, **fit_params)\u001b[0m\n\u001b[1;32m    339\u001b[0m         \"\"\"\n\u001b[1;32m    340\u001b[0m         \u001b[0mfit_params_steps\u001b[0m \u001b[0;34m=\u001b[0m \u001b[0mself\u001b[0m\u001b[0;34m.\u001b[0m\u001b[0m_check_fit_params\u001b[0m\u001b[0;34m(\u001b[0m\u001b[0;34m**\u001b[0m\u001b[0mfit_params\u001b[0m\u001b[0;34m)\u001b[0m\u001b[0;34m\u001b[0m\u001b[0;34m\u001b[0m\u001b[0m\n\u001b[0;32m--> 341\u001b[0;31m         \u001b[0mXt\u001b[0m \u001b[0;34m=\u001b[0m \u001b[0mself\u001b[0m\u001b[0;34m.\u001b[0m\u001b[0m_fit\u001b[0m\u001b[0;34m(\u001b[0m\u001b[0mX\u001b[0m\u001b[0;34m,\u001b[0m \u001b[0my\u001b[0m\u001b[0;34m,\u001b[0m \u001b[0;34m**\u001b[0m\u001b[0mfit_params_steps\u001b[0m\u001b[0;34m)\u001b[0m\u001b[0;34m\u001b[0m\u001b[0;34m\u001b[0m\u001b[0m\n\u001b[0m\u001b[1;32m    342\u001b[0m         with _print_elapsed_time('Pipeline',\n\u001b[1;32m    343\u001b[0m                                  self._log_message(len(self.steps) - 1)):\n",
      "\u001b[0;32m~/opt/anaconda3/lib/python3.7/site-packages/sklearn/pipeline.py\u001b[0m in \u001b[0;36m_fit\u001b[0;34m(self, X, y, **fit_params_steps)\u001b[0m\n\u001b[1;32m    305\u001b[0m                 \u001b[0mmessage_clsname\u001b[0m\u001b[0;34m=\u001b[0m\u001b[0;34m'Pipeline'\u001b[0m\u001b[0;34m,\u001b[0m\u001b[0;34m\u001b[0m\u001b[0;34m\u001b[0m\u001b[0m\n\u001b[1;32m    306\u001b[0m                 \u001b[0mmessage\u001b[0m\u001b[0;34m=\u001b[0m\u001b[0mself\u001b[0m\u001b[0;34m.\u001b[0m\u001b[0m_log_message\u001b[0m\u001b[0;34m(\u001b[0m\u001b[0mstep_idx\u001b[0m\u001b[0;34m)\u001b[0m\u001b[0;34m,\u001b[0m\u001b[0;34m\u001b[0m\u001b[0;34m\u001b[0m\u001b[0m\n\u001b[0;32m--> 307\u001b[0;31m                 **fit_params_steps[name])\n\u001b[0m\u001b[1;32m    308\u001b[0m             \u001b[0;31m# Replace the transformer of the step with the fitted\u001b[0m\u001b[0;34m\u001b[0m\u001b[0;34m\u001b[0m\u001b[0;34m\u001b[0m\u001b[0m\n\u001b[1;32m    309\u001b[0m             \u001b[0;31m# transformer. This is necessary when loading the transformer\u001b[0m\u001b[0;34m\u001b[0m\u001b[0;34m\u001b[0m\u001b[0;34m\u001b[0m\u001b[0m\n",
      "\u001b[0;32m~/opt/anaconda3/lib/python3.7/site-packages/joblib/memory.py\u001b[0m in \u001b[0;36m__call__\u001b[0;34m(self, *args, **kwargs)\u001b[0m\n\u001b[1;32m    350\u001b[0m \u001b[0;34m\u001b[0m\u001b[0m\n\u001b[1;32m    351\u001b[0m     \u001b[0;32mdef\u001b[0m \u001b[0m__call__\u001b[0m\u001b[0;34m(\u001b[0m\u001b[0mself\u001b[0m\u001b[0;34m,\u001b[0m \u001b[0;34m*\u001b[0m\u001b[0margs\u001b[0m\u001b[0;34m,\u001b[0m \u001b[0;34m**\u001b[0m\u001b[0mkwargs\u001b[0m\u001b[0;34m)\u001b[0m\u001b[0;34m:\u001b[0m\u001b[0;34m\u001b[0m\u001b[0;34m\u001b[0m\u001b[0m\n\u001b[0;32m--> 352\u001b[0;31m         \u001b[0;32mreturn\u001b[0m \u001b[0mself\u001b[0m\u001b[0;34m.\u001b[0m\u001b[0mfunc\u001b[0m\u001b[0;34m(\u001b[0m\u001b[0;34m*\u001b[0m\u001b[0margs\u001b[0m\u001b[0;34m,\u001b[0m \u001b[0;34m**\u001b[0m\u001b[0mkwargs\u001b[0m\u001b[0;34m)\u001b[0m\u001b[0;34m\u001b[0m\u001b[0;34m\u001b[0m\u001b[0m\n\u001b[0m\u001b[1;32m    353\u001b[0m \u001b[0;34m\u001b[0m\u001b[0m\n\u001b[1;32m    354\u001b[0m     \u001b[0;32mdef\u001b[0m \u001b[0mcall_and_shelve\u001b[0m\u001b[0;34m(\u001b[0m\u001b[0mself\u001b[0m\u001b[0;34m,\u001b[0m \u001b[0;34m*\u001b[0m\u001b[0margs\u001b[0m\u001b[0;34m,\u001b[0m \u001b[0;34m**\u001b[0m\u001b[0mkwargs\u001b[0m\u001b[0;34m)\u001b[0m\u001b[0;34m:\u001b[0m\u001b[0;34m\u001b[0m\u001b[0;34m\u001b[0m\u001b[0m\n",
      "\u001b[0;32m~/opt/anaconda3/lib/python3.7/site-packages/sklearn/pipeline.py\u001b[0m in \u001b[0;36m_fit_transform_one\u001b[0;34m(transformer, X, y, weight, message_clsname, message, **fit_params)\u001b[0m\n\u001b[1;32m    752\u001b[0m     \u001b[0;32mwith\u001b[0m \u001b[0m_print_elapsed_time\u001b[0m\u001b[0;34m(\u001b[0m\u001b[0mmessage_clsname\u001b[0m\u001b[0;34m,\u001b[0m \u001b[0mmessage\u001b[0m\u001b[0;34m)\u001b[0m\u001b[0;34m:\u001b[0m\u001b[0;34m\u001b[0m\u001b[0;34m\u001b[0m\u001b[0m\n\u001b[1;32m    753\u001b[0m         \u001b[0;32mif\u001b[0m \u001b[0mhasattr\u001b[0m\u001b[0;34m(\u001b[0m\u001b[0mtransformer\u001b[0m\u001b[0;34m,\u001b[0m \u001b[0;34m'fit_transform'\u001b[0m\u001b[0;34m)\u001b[0m\u001b[0;34m:\u001b[0m\u001b[0;34m\u001b[0m\u001b[0;34m\u001b[0m\u001b[0m\n\u001b[0;32m--> 754\u001b[0;31m             \u001b[0mres\u001b[0m \u001b[0;34m=\u001b[0m \u001b[0mtransformer\u001b[0m\u001b[0;34m.\u001b[0m\u001b[0mfit_transform\u001b[0m\u001b[0;34m(\u001b[0m\u001b[0mX\u001b[0m\u001b[0;34m,\u001b[0m \u001b[0my\u001b[0m\u001b[0;34m,\u001b[0m \u001b[0;34m**\u001b[0m\u001b[0mfit_params\u001b[0m\u001b[0;34m)\u001b[0m\u001b[0;34m\u001b[0m\u001b[0;34m\u001b[0m\u001b[0m\n\u001b[0m\u001b[1;32m    755\u001b[0m         \u001b[0;32melse\u001b[0m\u001b[0;34m:\u001b[0m\u001b[0;34m\u001b[0m\u001b[0;34m\u001b[0m\u001b[0m\n\u001b[1;32m    756\u001b[0m             \u001b[0mres\u001b[0m \u001b[0;34m=\u001b[0m \u001b[0mtransformer\u001b[0m\u001b[0;34m.\u001b[0m\u001b[0mfit\u001b[0m\u001b[0;34m(\u001b[0m\u001b[0mX\u001b[0m\u001b[0;34m,\u001b[0m \u001b[0my\u001b[0m\u001b[0;34m,\u001b[0m \u001b[0;34m**\u001b[0m\u001b[0mfit_params\u001b[0m\u001b[0;34m)\u001b[0m\u001b[0;34m.\u001b[0m\u001b[0mtransform\u001b[0m\u001b[0;34m(\u001b[0m\u001b[0mX\u001b[0m\u001b[0;34m)\u001b[0m\u001b[0;34m\u001b[0m\u001b[0;34m\u001b[0m\u001b[0m\n",
      "\u001b[0;32m~/opt/anaconda3/lib/python3.7/site-packages/sklearn/base.py\u001b[0m in \u001b[0;36mfit_transform\u001b[0;34m(self, X, y, **fit_params)\u001b[0m\n\u001b[1;32m    700\u001b[0m         \u001b[0;32melse\u001b[0m\u001b[0;34m:\u001b[0m\u001b[0;34m\u001b[0m\u001b[0;34m\u001b[0m\u001b[0m\n\u001b[1;32m    701\u001b[0m             \u001b[0;31m# fit method of arity 2 (supervised transformation)\u001b[0m\u001b[0;34m\u001b[0m\u001b[0;34m\u001b[0m\u001b[0;34m\u001b[0m\u001b[0m\n\u001b[0;32m--> 702\u001b[0;31m             \u001b[0;32mreturn\u001b[0m \u001b[0mself\u001b[0m\u001b[0;34m.\u001b[0m\u001b[0mfit\u001b[0m\u001b[0;34m(\u001b[0m\u001b[0mX\u001b[0m\u001b[0;34m,\u001b[0m \u001b[0my\u001b[0m\u001b[0;34m,\u001b[0m \u001b[0;34m**\u001b[0m\u001b[0mfit_params\u001b[0m\u001b[0;34m)\u001b[0m\u001b[0;34m.\u001b[0m\u001b[0mtransform\u001b[0m\u001b[0;34m(\u001b[0m\u001b[0mX\u001b[0m\u001b[0;34m)\u001b[0m\u001b[0;34m\u001b[0m\u001b[0;34m\u001b[0m\u001b[0m\n\u001b[0m\u001b[1;32m    703\u001b[0m \u001b[0;34m\u001b[0m\u001b[0m\n\u001b[1;32m    704\u001b[0m \u001b[0;34m\u001b[0m\u001b[0m\n",
      "\u001b[0;32m~/opt/anaconda3/lib/python3.7/site-packages/sklearn/preprocessing/_data.py\u001b[0m in \u001b[0;36mfit\u001b[0;34m(self, X, y, sample_weight)\u001b[0m\n\u001b[1;32m    728\u001b[0m         \u001b[0;31m# Reset internal state before fitting\u001b[0m\u001b[0;34m\u001b[0m\u001b[0;34m\u001b[0m\u001b[0;34m\u001b[0m\u001b[0m\n\u001b[1;32m    729\u001b[0m         \u001b[0mself\u001b[0m\u001b[0;34m.\u001b[0m\u001b[0m_reset\u001b[0m\u001b[0;34m(\u001b[0m\u001b[0;34m)\u001b[0m\u001b[0;34m\u001b[0m\u001b[0;34m\u001b[0m\u001b[0m\n\u001b[0;32m--> 730\u001b[0;31m         \u001b[0;32mreturn\u001b[0m \u001b[0mself\u001b[0m\u001b[0;34m.\u001b[0m\u001b[0mpartial_fit\u001b[0m\u001b[0;34m(\u001b[0m\u001b[0mX\u001b[0m\u001b[0;34m,\u001b[0m \u001b[0my\u001b[0m\u001b[0;34m,\u001b[0m \u001b[0msample_weight\u001b[0m\u001b[0;34m)\u001b[0m\u001b[0;34m\u001b[0m\u001b[0;34m\u001b[0m\u001b[0m\n\u001b[0m\u001b[1;32m    731\u001b[0m \u001b[0;34m\u001b[0m\u001b[0m\n\u001b[1;32m    732\u001b[0m     \u001b[0;32mdef\u001b[0m \u001b[0mpartial_fit\u001b[0m\u001b[0;34m(\u001b[0m\u001b[0mself\u001b[0m\u001b[0;34m,\u001b[0m \u001b[0mX\u001b[0m\u001b[0;34m,\u001b[0m \u001b[0my\u001b[0m\u001b[0;34m=\u001b[0m\u001b[0;32mNone\u001b[0m\u001b[0;34m,\u001b[0m \u001b[0msample_weight\u001b[0m\u001b[0;34m=\u001b[0m\u001b[0;32mNone\u001b[0m\u001b[0;34m)\u001b[0m\u001b[0;34m:\u001b[0m\u001b[0;34m\u001b[0m\u001b[0;34m\u001b[0m\u001b[0m\n",
      "\u001b[0;32m~/opt/anaconda3/lib/python3.7/site-packages/sklearn/preprocessing/_data.py\u001b[0m in \u001b[0;36mpartial_fit\u001b[0;34m(self, X, y, sample_weight)\u001b[0m\n\u001b[1;32m    766\u001b[0m         X = self._validate_data(X, accept_sparse=('csr', 'csc'),\n\u001b[1;32m    767\u001b[0m                                 \u001b[0mestimator\u001b[0m\u001b[0;34m=\u001b[0m\u001b[0mself\u001b[0m\u001b[0;34m,\u001b[0m \u001b[0mdtype\u001b[0m\u001b[0;34m=\u001b[0m\u001b[0mFLOAT_DTYPES\u001b[0m\u001b[0;34m,\u001b[0m\u001b[0;34m\u001b[0m\u001b[0;34m\u001b[0m\u001b[0m\n\u001b[0;32m--> 768\u001b[0;31m                                 force_all_finite='allow-nan', reset=first_call)\n\u001b[0m\u001b[1;32m    769\u001b[0m         \u001b[0mn_features\u001b[0m \u001b[0;34m=\u001b[0m \u001b[0mX\u001b[0m\u001b[0;34m.\u001b[0m\u001b[0mshape\u001b[0m\u001b[0;34m[\u001b[0m\u001b[0;36m1\u001b[0m\u001b[0;34m]\u001b[0m\u001b[0;34m\u001b[0m\u001b[0;34m\u001b[0m\u001b[0m\n\u001b[1;32m    770\u001b[0m \u001b[0;34m\u001b[0m\u001b[0m\n",
      "\u001b[0;32m~/opt/anaconda3/lib/python3.7/site-packages/sklearn/base.py\u001b[0m in \u001b[0;36m_validate_data\u001b[0;34m(self, X, y, reset, validate_separately, **check_params)\u001b[0m\n\u001b[1;32m    419\u001b[0m             \u001b[0mout\u001b[0m \u001b[0;34m=\u001b[0m \u001b[0mX\u001b[0m\u001b[0;34m\u001b[0m\u001b[0;34m\u001b[0m\u001b[0m\n\u001b[1;32m    420\u001b[0m         \u001b[0;32melif\u001b[0m \u001b[0misinstance\u001b[0m\u001b[0;34m(\u001b[0m\u001b[0my\u001b[0m\u001b[0;34m,\u001b[0m \u001b[0mstr\u001b[0m\u001b[0;34m)\u001b[0m \u001b[0;32mand\u001b[0m \u001b[0my\u001b[0m \u001b[0;34m==\u001b[0m \u001b[0;34m'no_validation'\u001b[0m\u001b[0;34m:\u001b[0m\u001b[0;34m\u001b[0m\u001b[0;34m\u001b[0m\u001b[0m\n\u001b[0;32m--> 421\u001b[0;31m             \u001b[0mX\u001b[0m \u001b[0;34m=\u001b[0m \u001b[0mcheck_array\u001b[0m\u001b[0;34m(\u001b[0m\u001b[0mX\u001b[0m\u001b[0;34m,\u001b[0m \u001b[0;34m**\u001b[0m\u001b[0mcheck_params\u001b[0m\u001b[0;34m)\u001b[0m\u001b[0;34m\u001b[0m\u001b[0;34m\u001b[0m\u001b[0m\n\u001b[0m\u001b[1;32m    422\u001b[0m             \u001b[0mout\u001b[0m \u001b[0;34m=\u001b[0m \u001b[0mX\u001b[0m\u001b[0;34m\u001b[0m\u001b[0;34m\u001b[0m\u001b[0m\n\u001b[1;32m    423\u001b[0m         \u001b[0;32melse\u001b[0m\u001b[0;34m:\u001b[0m\u001b[0;34m\u001b[0m\u001b[0;34m\u001b[0m\u001b[0m\n",
      "\u001b[0;32m~/opt/anaconda3/lib/python3.7/site-packages/sklearn/utils/validation.py\u001b[0m in \u001b[0;36minner_f\u001b[0;34m(*args, **kwargs)\u001b[0m\n\u001b[1;32m     61\u001b[0m             \u001b[0mextra_args\u001b[0m \u001b[0;34m=\u001b[0m \u001b[0mlen\u001b[0m\u001b[0;34m(\u001b[0m\u001b[0margs\u001b[0m\u001b[0;34m)\u001b[0m \u001b[0;34m-\u001b[0m \u001b[0mlen\u001b[0m\u001b[0;34m(\u001b[0m\u001b[0mall_args\u001b[0m\u001b[0;34m)\u001b[0m\u001b[0;34m\u001b[0m\u001b[0;34m\u001b[0m\u001b[0m\n\u001b[1;32m     62\u001b[0m             \u001b[0;32mif\u001b[0m \u001b[0mextra_args\u001b[0m \u001b[0;34m<=\u001b[0m \u001b[0;36m0\u001b[0m\u001b[0;34m:\u001b[0m\u001b[0;34m\u001b[0m\u001b[0;34m\u001b[0m\u001b[0m\n\u001b[0;32m---> 63\u001b[0;31m                 \u001b[0;32mreturn\u001b[0m \u001b[0mf\u001b[0m\u001b[0;34m(\u001b[0m\u001b[0;34m*\u001b[0m\u001b[0margs\u001b[0m\u001b[0;34m,\u001b[0m \u001b[0;34m**\u001b[0m\u001b[0mkwargs\u001b[0m\u001b[0;34m)\u001b[0m\u001b[0;34m\u001b[0m\u001b[0;34m\u001b[0m\u001b[0m\n\u001b[0m\u001b[1;32m     64\u001b[0m \u001b[0;34m\u001b[0m\u001b[0m\n\u001b[1;32m     65\u001b[0m             \u001b[0;31m# extra_args > 0\u001b[0m\u001b[0;34m\u001b[0m\u001b[0;34m\u001b[0m\u001b[0;34m\u001b[0m\u001b[0m\n",
      "\u001b[0;32m~/opt/anaconda3/lib/python3.7/site-packages/sklearn/utils/validation.py\u001b[0m in \u001b[0;36mcheck_array\u001b[0;34m(array, accept_sparse, accept_large_sparse, dtype, order, copy, force_all_finite, ensure_2d, allow_nd, ensure_min_samples, ensure_min_features, estimator)\u001b[0m\n\u001b[1;32m    614\u001b[0m                     \u001b[0marray\u001b[0m \u001b[0;34m=\u001b[0m \u001b[0marray\u001b[0m\u001b[0;34m.\u001b[0m\u001b[0mastype\u001b[0m\u001b[0;34m(\u001b[0m\u001b[0mdtype\u001b[0m\u001b[0;34m,\u001b[0m \u001b[0mcasting\u001b[0m\u001b[0;34m=\u001b[0m\u001b[0;34m\"unsafe\"\u001b[0m\u001b[0;34m,\u001b[0m \u001b[0mcopy\u001b[0m\u001b[0;34m=\u001b[0m\u001b[0;32mFalse\u001b[0m\u001b[0;34m)\u001b[0m\u001b[0;34m\u001b[0m\u001b[0;34m\u001b[0m\u001b[0m\n\u001b[1;32m    615\u001b[0m                 \u001b[0;32melse\u001b[0m\u001b[0;34m:\u001b[0m\u001b[0;34m\u001b[0m\u001b[0;34m\u001b[0m\u001b[0m\n\u001b[0;32m--> 616\u001b[0;31m                     \u001b[0marray\u001b[0m \u001b[0;34m=\u001b[0m \u001b[0mnp\u001b[0m\u001b[0;34m.\u001b[0m\u001b[0masarray\u001b[0m\u001b[0;34m(\u001b[0m\u001b[0marray\u001b[0m\u001b[0;34m,\u001b[0m \u001b[0morder\u001b[0m\u001b[0;34m=\u001b[0m\u001b[0morder\u001b[0m\u001b[0;34m,\u001b[0m \u001b[0mdtype\u001b[0m\u001b[0;34m=\u001b[0m\u001b[0mdtype\u001b[0m\u001b[0;34m)\u001b[0m\u001b[0;34m\u001b[0m\u001b[0;34m\u001b[0m\u001b[0m\n\u001b[0m\u001b[1;32m    617\u001b[0m             \u001b[0;32mexcept\u001b[0m \u001b[0mComplexWarning\u001b[0m \u001b[0;32mas\u001b[0m \u001b[0mcomplex_warning\u001b[0m\u001b[0;34m:\u001b[0m\u001b[0;34m\u001b[0m\u001b[0;34m\u001b[0m\u001b[0m\n\u001b[1;32m    618\u001b[0m                 raise ValueError(\"Complex data not supported\\n\"\n",
      "\u001b[0;32m~/opt/anaconda3/lib/python3.7/site-packages/numpy/core/_asarray.py\u001b[0m in \u001b[0;36masarray\u001b[0;34m(a, dtype, order)\u001b[0m\n\u001b[1;32m     83\u001b[0m \u001b[0;34m\u001b[0m\u001b[0m\n\u001b[1;32m     84\u001b[0m     \"\"\"\n\u001b[0;32m---> 85\u001b[0;31m     \u001b[0;32mreturn\u001b[0m \u001b[0marray\u001b[0m\u001b[0;34m(\u001b[0m\u001b[0ma\u001b[0m\u001b[0;34m,\u001b[0m \u001b[0mdtype\u001b[0m\u001b[0;34m,\u001b[0m \u001b[0mcopy\u001b[0m\u001b[0;34m=\u001b[0m\u001b[0;32mFalse\u001b[0m\u001b[0;34m,\u001b[0m \u001b[0morder\u001b[0m\u001b[0;34m=\u001b[0m\u001b[0morder\u001b[0m\u001b[0;34m)\u001b[0m\u001b[0;34m\u001b[0m\u001b[0;34m\u001b[0m\u001b[0m\n\u001b[0m\u001b[1;32m     86\u001b[0m \u001b[0;34m\u001b[0m\u001b[0m\n\u001b[1;32m     87\u001b[0m \u001b[0;34m\u001b[0m\u001b[0m\n",
      "\u001b[0;31mValueError\u001b[0m: could not convert string to float: '5-24'"
     ]
    }
   ],
   "source": [
    "# 8:34\n",
    "lr_pipe = Pipeline([('scaler', StandardScaler()), ('classifier', LogisticRegression(solver='liblinear'))])\n",
    "lr_grid_params = {}\n",
    "lr_grid = GridSearchCV(lr_pipe, lr_grid_params, cv=StratifiedKFold(10, shuffle=True), scoring = 'f1')\n",
    "fitted = lr_grid.fit(X_train_sub, y_train_sub)\n",
    "print(f'Logistic Regression ROC-AUC training subset: { lr_grid.score(X_train_sub, y_train_sub)}')\n",
    "print(f'Logistic Regression ROC-AUC test subset: { lr_grid.score(X_test_sub, y_test_sub)}')"
   ]
  },
  {
   "cell_type": "code",
   "execution_count": 104,
   "metadata": {},
   "outputs": [],
   "source": [
    "# Creating a ROC Curve\n",
    "\n",
    "# predict probabilities\n",
    "lr_probs = fitted.predict_proba(X_test_sub)\n",
    "\n",
    "# keep probabilities for the positive outcome only\n",
    "lr_probs = lr_probs[:, 1]\n",
    "\n",
    "# calculate scores\n",
    "lr_auc = roc_auc_score(y_test_sub, lr_probs)"
   ]
  },
  {
   "cell_type": "code",
   "execution_count": 106,
   "metadata": {},
   "outputs": [
    {
     "data": {
      "image/png": "[encoded data removed]",
      "text/plain": [
       "<Figure size 576x396 with 1 Axes>"
      ]
     },
     "metadata": {},
     "output_type": "display_data"
    }
   ],
   "source": [
    "# roc curve for logistic regression model\n",
    "# calculate roc curves\n",
    "fpr, tpr, thresholds = roc_curve(y_test_sub, lr_probs)\n",
    "\n",
    "# plot the roc curve for the model\n",
    "pyplot.plot([0,1], [0,1], linestyle='--', label='No Skill')\n",
    "pyplot.plot(fpr, tpr, marker='.', label='Logistic')\n",
    "\n",
    "# axis labels\n",
    "pyplot.xlabel('False Positive Rate')\n",
    "pyplot.ylabel('True Positive Rate')\n",
    "pyplot.legend()\n",
    "\n",
    "# show the plot\n",
    "pyplot.show()"
   ]
  },
  {
   "cell_type": "code",
   "execution_count": 182,
   "metadata": {},
   "outputs": [
    {
     "name": "stderr",
     "output_type": "stream",
     "text": [
      "/Users/carlahuebner/opt/anaconda3/lib/python3.7/site-packages/sklearn/linear_model/_sag.py:330: ConvergenceWarning: The max_iter was reached which means the coef_ did not converge\n",
      "  \"the coef_ did not converge\", ConvergenceWarning)\n",
      "/Users/carlahuebner/opt/anaconda3/lib/python3.7/site-packages/sklearn/linear_model/_sag.py:330: ConvergenceWarning: The max_iter was reached which means the coef_ did not converge\n",
      "  \"the coef_ did not converge\", ConvergenceWarning)\n",
      "/Users/carlahuebner/opt/anaconda3/lib/python3.7/site-packages/sklearn/linear_model/_sag.py:330: ConvergenceWarning: The max_iter was reached which means the coef_ did not converge\n",
      "  \"the coef_ did not converge\", ConvergenceWarning)\n",
      "/Users/carlahuebner/opt/anaconda3/lib/python3.7/site-packages/sklearn/linear_model/_sag.py:330: ConvergenceWarning: The max_iter was reached which means the coef_ did not converge\n",
      "  \"the coef_ did not converge\", ConvergenceWarning)\n",
      "/Users/carlahuebner/opt/anaconda3/lib/python3.7/site-packages/sklearn/linear_model/_sag.py:330: ConvergenceWarning: The max_iter was reached which means the coef_ did not converge\n",
      "  \"the coef_ did not converge\", ConvergenceWarning)\n",
      "/Users/carlahuebner/opt/anaconda3/lib/python3.7/site-packages/sklearn/linear_model/_sag.py:330: ConvergenceWarning: The max_iter was reached which means the coef_ did not converge\n",
      "  \"the coef_ did not converge\", ConvergenceWarning)\n",
      "/Users/carlahuebner/opt/anaconda3/lib/python3.7/site-packages/sklearn/linear_model/_sag.py:330: ConvergenceWarning: The max_iter was reached which means the coef_ did not converge\n",
      "  \"the coef_ did not converge\", ConvergenceWarning)\n",
      "/Users/carlahuebner/opt/anaconda3/lib/python3.7/site-packages/sklearn/linear_model/_sag.py:330: ConvergenceWarning: The max_iter was reached which means the coef_ did not converge\n",
      "  \"the coef_ did not converge\", ConvergenceWarning)\n",
      "/Users/carlahuebner/opt/anaconda3/lib/python3.7/site-packages/sklearn/linear_model/_sag.py:330: ConvergenceWarning: The max_iter was reached which means the coef_ did not converge\n",
      "  \"the coef_ did not converge\", ConvergenceWarning)\n",
      "/Users/carlahuebner/opt/anaconda3/lib/python3.7/site-packages/sklearn/linear_model/_sag.py:330: ConvergenceWarning: The max_iter was reached which means the coef_ did not converge\n",
      "  \"the coef_ did not converge\", ConvergenceWarning)\n",
      "/Users/carlahuebner/opt/anaconda3/lib/python3.7/site-packages/sklearn/linear_model/_sag.py:330: ConvergenceWarning: The max_iter was reached which means the coef_ did not converge\n",
      "  \"the coef_ did not converge\", ConvergenceWarning)\n",
      "/Users/carlahuebner/opt/anaconda3/lib/python3.7/site-packages/sklearn/linear_model/_sag.py:330: ConvergenceWarning: The max_iter was reached which means the coef_ did not converge\n",
      "  \"the coef_ did not converge\", ConvergenceWarning)\n",
      "/Users/carlahuebner/opt/anaconda3/lib/python3.7/site-packages/sklearn/linear_model/_sag.py:330: ConvergenceWarning: The max_iter was reached which means the coef_ did not converge\n",
      "  \"the coef_ did not converge\", ConvergenceWarning)\n",
      "/Users/carlahuebner/opt/anaconda3/lib/python3.7/site-packages/sklearn/linear_model/_sag.py:330: ConvergenceWarning: The max_iter was reached which means the coef_ did not converge\n",
      "  \"the coef_ did not converge\", ConvergenceWarning)\n",
      "/Users/carlahuebner/opt/anaconda3/lib/python3.7/site-packages/sklearn/linear_model/_sag.py:330: ConvergenceWarning: The max_iter was reached which means the coef_ did not converge\n",
      "  \"the coef_ did not converge\", ConvergenceWarning)\n",
      "/Users/carlahuebner/opt/anaconda3/lib/python3.7/site-packages/sklearn/linear_model/_sag.py:330: ConvergenceWarning: The max_iter was reached which means the coef_ did not converge\n",
      "  \"the coef_ did not converge\", ConvergenceWarning)\n",
      "/Users/carlahuebner/opt/anaconda3/lib/python3.7/site-packages/sklearn/linear_model/_sag.py:330: ConvergenceWarning: The max_iter was reached which means the coef_ did not converge\n",
      "  \"the coef_ did not converge\", ConvergenceWarning)\n",
      "/Users/carlahuebner/opt/anaconda3/lib/python3.7/site-packages/sklearn/linear_model/_sag.py:330: ConvergenceWarning: The max_iter was reached which means the coef_ did not converge\n",
      "  \"the coef_ did not converge\", ConvergenceWarning)\n",
      "/Users/carlahuebner/opt/anaconda3/lib/python3.7/site-packages/sklearn/linear_model/_sag.py:330: ConvergenceWarning: The max_iter was reached which means the coef_ did not converge\n",
      "  \"the coef_ did not converge\", ConvergenceWarning)\n",
      "/Users/carlahuebner/opt/anaconda3/lib/python3.7/site-packages/sklearn/linear_model/_sag.py:330: ConvergenceWarning: The max_iter was reached which means the coef_ did not converge\n",
      "  \"the coef_ did not converge\", ConvergenceWarning)\n",
      "/Users/carlahuebner/opt/anaconda3/lib/python3.7/site-packages/sklearn/model_selection/_validation.py:552: FitFailedWarning: Estimator fit failed. The score on this train-test partition for these parameters will be set to nan. Details: \n",
      "Traceback (most recent call last):\n",
      "  File \"/Users/carlahuebner/opt/anaconda3/lib/python3.7/site-packages/sklearn/model_selection/_validation.py\", line 531, in _fit_and_score\n",
      "    estimator.fit(X_train, y_train, **fit_params)\n",
      "  File \"/Users/carlahuebner/opt/anaconda3/lib/python3.7/site-packages/sklearn/pipeline.py\", line 335, in fit\n",
      "    self._final_estimator.fit(Xt, y, **fit_params_last_step)\n",
      "  File \"/Users/carlahuebner/opt/anaconda3/lib/python3.7/site-packages/sklearn/linear_model/_logistic.py\", line 1313, in fit\n",
      "    \" got (l1_ratio=%r)\" % self.l1_ratio)\n",
      "ValueError: l1_ratio must be between 0 and 1; got (l1_ratio=None)\n",
      "\n",
      "  FitFailedWarning)\n",
      "/Users/carlahuebner/opt/anaconda3/lib/python3.7/site-packages/sklearn/model_selection/_validation.py:552: FitFailedWarning: Estimator fit failed. The score on this train-test partition for these parameters will be set to nan. Details: \n",
      "Traceback (most recent call last):\n",
      "  File \"/Users/carlahuebner/opt/anaconda3/lib/python3.7/site-packages/sklearn/model_selection/_validation.py\", line 531, in _fit_and_score\n",
      "    estimator.fit(X_train, y_train, **fit_params)\n",
      "  File \"/Users/carlahuebner/opt/anaconda3/lib/python3.7/site-packages/sklearn/pipeline.py\", line 335, in fit\n",
      "    self._final_estimator.fit(Xt, y, **fit_params_last_step)\n",
      "  File \"/Users/carlahuebner/opt/anaconda3/lib/python3.7/site-packages/sklearn/linear_model/_logistic.py\", line 1313, in fit\n",
      "    \" got (l1_ratio=%r)\" % self.l1_ratio)\n",
      "ValueError: l1_ratio must be between 0 and 1; got (l1_ratio=None)\n",
      "\n",
      "  FitFailedWarning)\n",
      "/Users/carlahuebner/opt/anaconda3/lib/python3.7/site-packages/sklearn/model_selection/_validation.py:552: FitFailedWarning: Estimator fit failed. The score on this train-test partition for these parameters will be set to nan. Details: \n",
      "Traceback (most recent call last):\n",
      "  File \"/Users/carlahuebner/opt/anaconda3/lib/python3.7/site-packages/sklearn/model_selection/_validation.py\", line 531, in _fit_and_score\n",
      "    estimator.fit(X_train, y_train, **fit_params)\n",
      "  File \"/Users/carlahuebner/opt/anaconda3/lib/python3.7/site-packages/sklearn/pipeline.py\", line 335, in fit\n",
      "    self._final_estimator.fit(Xt, y, **fit_params_last_step)\n",
      "  File \"/Users/carlahuebner/opt/anaconda3/lib/python3.7/site-packages/sklearn/linear_model/_logistic.py\", line 1313, in fit\n",
      "    \" got (l1_ratio=%r)\" % self.l1_ratio)\n",
      "ValueError: l1_ratio must be between 0 and 1; got (l1_ratio=None)\n",
      "\n",
      "  FitFailedWarning)\n",
      "/Users/carlahuebner/opt/anaconda3/lib/python3.7/site-packages/sklearn/model_selection/_validation.py:552: FitFailedWarning: Estimator fit failed. The score on this train-test partition for these parameters will be set to nan. Details: \n",
      "Traceback (most recent call last):\n",
      "  File \"/Users/carlahuebner/opt/anaconda3/lib/python3.7/site-packages/sklearn/model_selection/_validation.py\", line 531, in _fit_and_score\n",
      "    estimator.fit(X_train, y_train, **fit_params)\n",
      "  File \"/Users/carlahuebner/opt/anaconda3/lib/python3.7/site-packages/sklearn/pipeline.py\", line 335, in fit\n",
      "    self._final_estimator.fit(Xt, y, **fit_params_last_step)\n",
      "  File \"/Users/carlahuebner/opt/anaconda3/lib/python3.7/site-packages/sklearn/linear_model/_logistic.py\", line 1313, in fit\n",
      "    \" got (l1_ratio=%r)\" % self.l1_ratio)\n",
      "ValueError: l1_ratio must be between 0 and 1; got (l1_ratio=None)\n",
      "\n",
      "  FitFailedWarning)\n",
      "/Users/carlahuebner/opt/anaconda3/lib/python3.7/site-packages/sklearn/model_selection/_validation.py:552: FitFailedWarning: Estimator fit failed. The score on this train-test partition for these parameters will be set to nan. Details: \n",
      "Traceback (most recent call last):\n",
      "  File \"/Users/carlahuebner/opt/anaconda3/lib/python3.7/site-packages/sklearn/model_selection/_validation.py\", line 531, in _fit_and_score\n",
      "    estimator.fit(X_train, y_train, **fit_params)\n",
      "  File \"/Users/carlahuebner/opt/anaconda3/lib/python3.7/site-packages/sklearn/pipeline.py\", line 335, in fit\n",
      "    self._final_estimator.fit(Xt, y, **fit_params_last_step)\n",
      "  File \"/Users/carlahuebner/opt/anaconda3/lib/python3.7/site-packages/sklearn/linear_model/_logistic.py\", line 1313, in fit\n",
      "    \" got (l1_ratio=%r)\" % self.l1_ratio)\n",
      "ValueError: l1_ratio must be between 0 and 1; got (l1_ratio=None)\n",
      "\n",
      "  FitFailedWarning)\n",
      "/Users/carlahuebner/opt/anaconda3/lib/python3.7/site-packages/sklearn/model_selection/_validation.py:552: FitFailedWarning: Estimator fit failed. The score on this train-test partition for these parameters will be set to nan. Details: \n",
      "Traceback (most recent call last):\n",
      "  File \"/Users/carlahuebner/opt/anaconda3/lib/python3.7/site-packages/sklearn/model_selection/_validation.py\", line 531, in _fit_and_score\n",
      "    estimator.fit(X_train, y_train, **fit_params)\n",
      "  File \"/Users/carlahuebner/opt/anaconda3/lib/python3.7/site-packages/sklearn/pipeline.py\", line 335, in fit\n",
      "    self._final_estimator.fit(Xt, y, **fit_params_last_step)\n",
      "  File \"/Users/carlahuebner/opt/anaconda3/lib/python3.7/site-packages/sklearn/linear_model/_logistic.py\", line 1313, in fit\n",
      "    \" got (l1_ratio=%r)\" % self.l1_ratio)\n",
      "ValueError: l1_ratio must be between 0 and 1; got (l1_ratio=None)\n",
      "\n",
      "  FitFailedWarning)\n",
      "/Users/carlahuebner/opt/anaconda3/lib/python3.7/site-packages/sklearn/model_selection/_validation.py:552: FitFailedWarning: Estimator fit failed. The score on this train-test partition for these parameters will be set to nan. Details: \n",
      "Traceback (most recent call last):\n",
      "  File \"/Users/carlahuebner/opt/anaconda3/lib/python3.7/site-packages/sklearn/model_selection/_validation.py\", line 531, in _fit_and_score\n",
      "    estimator.fit(X_train, y_train, **fit_params)\n",
      "  File \"/Users/carlahuebner/opt/anaconda3/lib/python3.7/site-packages/sklearn/pipeline.py\", line 335, in fit\n",
      "    self._final_estimator.fit(Xt, y, **fit_params_last_step)\n",
      "  File \"/Users/carlahuebner/opt/anaconda3/lib/python3.7/site-packages/sklearn/linear_model/_logistic.py\", line 1313, in fit\n",
      "    \" got (l1_ratio=%r)\" % self.l1_ratio)\n",
      "ValueError: l1_ratio must be between 0 and 1; got (l1_ratio=None)\n",
      "\n",
      "  FitFailedWarning)\n",
      "/Users/carlahuebner/opt/anaconda3/lib/python3.7/site-packages/sklearn/model_selection/_validation.py:552: FitFailedWarning: Estimator fit failed. The score on this train-test partition for these parameters will be set to nan. Details: \n",
      "Traceback (most recent call last):\n",
      "  File \"/Users/carlahuebner/opt/anaconda3/lib/python3.7/site-packages/sklearn/model_selection/_validation.py\", line 531, in _fit_and_score\n",
      "    estimator.fit(X_train, y_train, **fit_params)\n",
      "  File \"/Users/carlahuebner/opt/anaconda3/lib/python3.7/site-packages/sklearn/pipeline.py\", line 335, in fit\n",
      "    self._final_estimator.fit(Xt, y, **fit_params_last_step)\n",
      "  File \"/Users/carlahuebner/opt/anaconda3/lib/python3.7/site-packages/sklearn/linear_model/_logistic.py\", line 1313, in fit\n",
      "    \" got (l1_ratio=%r)\" % self.l1_ratio)\n",
      "ValueError: l1_ratio must be between 0 and 1; got (l1_ratio=None)\n",
      "\n",
      "  FitFailedWarning)\n",
      "/Users/carlahuebner/opt/anaconda3/lib/python3.7/site-packages/sklearn/model_selection/_validation.py:552: FitFailedWarning: Estimator fit failed. The score on this train-test partition for these parameters will be set to nan. Details: \n",
      "Traceback (most recent call last):\n",
      "  File \"/Users/carlahuebner/opt/anaconda3/lib/python3.7/site-packages/sklearn/model_selection/_validation.py\", line 531, in _fit_and_score\n",
      "    estimator.fit(X_train, y_train, **fit_params)\n",
      "  File \"/Users/carlahuebner/opt/anaconda3/lib/python3.7/site-packages/sklearn/pipeline.py\", line 335, in fit\n",
      "    self._final_estimator.fit(Xt, y, **fit_params_last_step)\n",
      "  File \"/Users/carlahuebner/opt/anaconda3/lib/python3.7/site-packages/sklearn/linear_model/_logistic.py\", line 1313, in fit\n",
      "    \" got (l1_ratio=%r)\" % self.l1_ratio)\n",
      "ValueError: l1_ratio must be between 0 and 1; got (l1_ratio=None)\n",
      "\n",
      "  FitFailedWarning)\n",
      "/Users/carlahuebner/opt/anaconda3/lib/python3.7/site-packages/sklearn/model_selection/_validation.py:552: FitFailedWarning: Estimator fit failed. The score on this train-test partition for these parameters will be set to nan. Details: \n",
      "Traceback (most recent call last):\n",
      "  File \"/Users/carlahuebner/opt/anaconda3/lib/python3.7/site-packages/sklearn/model_selection/_validation.py\", line 531, in _fit_and_score\n",
      "    estimator.fit(X_train, y_train, **fit_params)\n",
      "  File \"/Users/carlahuebner/opt/anaconda3/lib/python3.7/site-packages/sklearn/pipeline.py\", line 335, in fit\n",
      "    self._final_estimator.fit(Xt, y, **fit_params_last_step)\n",
      "  File \"/Users/carlahuebner/opt/anaconda3/lib/python3.7/site-packages/sklearn/linear_model/_logistic.py\", line 1313, in fit\n",
      "    \" got (l1_ratio=%r)\" % self.l1_ratio)\n",
      "ValueError: l1_ratio must be between 0 and 1; got (l1_ratio=None)\n",
      "\n",
      "  FitFailedWarning)\n"
     ]
    },
    {
     "name": "stderr",
     "output_type": "stream",
     "text": [
      "/Users/carlahuebner/opt/anaconda3/lib/python3.7/site-packages/sklearn/linear_model/_sag.py:330: ConvergenceWarning: The max_iter was reached which means the coef_ did not converge\n",
      "  \"the coef_ did not converge\", ConvergenceWarning)\n",
      "/Users/carlahuebner/opt/anaconda3/lib/python3.7/site-packages/sklearn/linear_model/_sag.py:330: ConvergenceWarning: The max_iter was reached which means the coef_ did not converge\n",
      "  \"the coef_ did not converge\", ConvergenceWarning)\n",
      "/Users/carlahuebner/opt/anaconda3/lib/python3.7/site-packages/sklearn/linear_model/_sag.py:330: ConvergenceWarning: The max_iter was reached which means the coef_ did not converge\n",
      "  \"the coef_ did not converge\", ConvergenceWarning)\n",
      "/Users/carlahuebner/opt/anaconda3/lib/python3.7/site-packages/sklearn/linear_model/_sag.py:330: ConvergenceWarning: The max_iter was reached which means the coef_ did not converge\n",
      "  \"the coef_ did not converge\", ConvergenceWarning)\n",
      "/Users/carlahuebner/opt/anaconda3/lib/python3.7/site-packages/sklearn/linear_model/_sag.py:330: ConvergenceWarning: The max_iter was reached which means the coef_ did not converge\n",
      "  \"the coef_ did not converge\", ConvergenceWarning)\n",
      "/Users/carlahuebner/opt/anaconda3/lib/python3.7/site-packages/sklearn/linear_model/_sag.py:330: ConvergenceWarning: The max_iter was reached which means the coef_ did not converge\n",
      "  \"the coef_ did not converge\", ConvergenceWarning)\n",
      "/Users/carlahuebner/opt/anaconda3/lib/python3.7/site-packages/sklearn/linear_model/_sag.py:330: ConvergenceWarning: The max_iter was reached which means the coef_ did not converge\n",
      "  \"the coef_ did not converge\", ConvergenceWarning)\n",
      "/Users/carlahuebner/opt/anaconda3/lib/python3.7/site-packages/sklearn/linear_model/_sag.py:330: ConvergenceWarning: The max_iter was reached which means the coef_ did not converge\n",
      "  \"the coef_ did not converge\", ConvergenceWarning)\n",
      "/Users/carlahuebner/opt/anaconda3/lib/python3.7/site-packages/sklearn/linear_model/_sag.py:330: ConvergenceWarning: The max_iter was reached which means the coef_ did not converge\n",
      "  \"the coef_ did not converge\", ConvergenceWarning)\n",
      "/Users/carlahuebner/opt/anaconda3/lib/python3.7/site-packages/sklearn/linear_model/_sag.py:330: ConvergenceWarning: The max_iter was reached which means the coef_ did not converge\n",
      "  \"the coef_ did not converge\", ConvergenceWarning)\n"
     ]
    },
    {
     "name": "stdout",
     "output_type": "stream",
     "text": [
      "Logistic Regression ROC-AUC training subset: 0.9088408644400786\n",
      "Logistic Regression ROC-AUC test subset: 0.9086614173228347\n"
     ]
    },
    {
     "name": "stderr",
     "output_type": "stream",
     "text": [
      "/Users/carlahuebner/opt/anaconda3/lib/python3.7/site-packages/sklearn/linear_model/_sag.py:330: ConvergenceWarning: The max_iter was reached which means the coef_ did not converge\n",
      "  \"the coef_ did not converge\", ConvergenceWarning)\n"
     ]
    }
   ],
   "source": [
    "lr_pipe = Pipeline([('scaler', StandardScaler()), ('classifier', LogisticRegression(solver='saga'))])\n",
    "lr_grid_params = {'classifier__penalty': ['l1', 'l2', 'elasticnet', 'none']}\n",
    "lr_grid = GridSearchCV(lr_pipe, lr_grid_params, cv=StratifiedKFold(10, shuffle=True), scoring = 'f1')\n",
    "fitted = lr_grid.fit(X_train_sub, y_train_sub)\n",
    "print(f'Logistic Regression ROC-AUC training subset: { lr_grid.score(X_train_sub, y_train_sub)}')\n",
    "print(f'Logistic Regression ROC-AUC test subset: { lr_grid.score(X_test_sub, y_test_sub)}')\n"
   ]
  },
  {
   "cell_type": "code",
   "execution_count": 140,
   "metadata": {},
   "outputs": [
    {
     "data": {
      "text/plain": [
       "0.8336314847942755"
      ]
     },
     "execution_count": 140,
     "metadata": {},
     "output_type": "execute_result"
    }
   ],
   "source": [
    "accuracy_score(fitted.predict(X_test_sub), y_test_sub)"
   ]
  },
  {
   "cell_type": "code",
   "execution_count": 137,
   "metadata": {},
   "outputs": [
    {
     "data": {
      "text/plain": [
       "array([0, 1])"
      ]
     },
     "execution_count": 137,
     "metadata": {},
     "output_type": "execute_result"
    }
   ],
   "source": [
    "# create an array of predicted probabilities, keeping only the positive outcomes\n",
    "lr_probs = fitted.predict_proba(X_test_sub)\n",
    "\n",
    "# Predicted values based on fitted regression model\n",
    "lr_pred = fitted.predict(X_test_sub)\n",
    "np.unique(lr_pred)"
   ]
  },
  {
   "cell_type": "markdown",
   "metadata": {},
   "source": [
    "### Random Forest"
   ]
  },
  {
   "cell_type": "code",
   "execution_count": 48,
   "metadata": {},
   "outputs": [
    {
     "name": "stderr",
     "output_type": "stream",
     "text": [
      "/Users/carlahuebner/opt/anaconda3/lib/python3.7/site-packages/sklearn/model_selection/_validation.py:614: FitFailedWarning: Estimator fit failed. The score on this train-test partition for these parameters will be set to nan. Details: \n",
      "Traceback (most recent call last):\n",
      "  File \"/Users/carlahuebner/opt/anaconda3/lib/python3.7/site-packages/sklearn/model_selection/_validation.py\", line 593, in _fit_and_score\n",
      "    estimator.fit(X_train, y_train, **fit_params)\n",
      "  File \"/Users/carlahuebner/opt/anaconda3/lib/python3.7/site-packages/sklearn/pipeline.py\", line 341, in fit\n",
      "    Xt = self._fit(X, y, **fit_params_steps)\n",
      "  File \"/Users/carlahuebner/opt/anaconda3/lib/python3.7/site-packages/sklearn/pipeline.py\", line 307, in _fit\n",
      "    **fit_params_steps[name])\n",
      "  File \"/Users/carlahuebner/opt/anaconda3/lib/python3.7/site-packages/joblib/memory.py\", line 352, in __call__\n",
      "    return self.func(*args, **kwargs)\n",
      "  File \"/Users/carlahuebner/opt/anaconda3/lib/python3.7/site-packages/sklearn/pipeline.py\", line 754, in _fit_transform_one\n",
      "    res = transformer.fit_transform(X, y, **fit_params)\n",
      "  File \"/Users/carlahuebner/opt/anaconda3/lib/python3.7/site-packages/sklearn/base.py\", line 702, in fit_transform\n",
      "    return self.fit(X, y, **fit_params).transform(X)\n",
      "  File \"/Users/carlahuebner/opt/anaconda3/lib/python3.7/site-packages/sklearn/preprocessing/_data.py\", line 730, in fit\n",
      "    return self.partial_fit(X, y, sample_weight)\n",
      "  File \"/Users/carlahuebner/opt/anaconda3/lib/python3.7/site-packages/sklearn/preprocessing/_data.py\", line 768, in partial_fit\n",
      "    force_all_finite='allow-nan', reset=first_call)\n",
      "  File \"/Users/carlahuebner/opt/anaconda3/lib/python3.7/site-packages/sklearn/base.py\", line 421, in _validate_data\n",
      "    X = check_array(X, **check_params)\n",
      "  File \"/Users/carlahuebner/opt/anaconda3/lib/python3.7/site-packages/sklearn/utils/validation.py\", line 63, in inner_f\n",
      "    return f(*args, **kwargs)\n",
      "  File \"/Users/carlahuebner/opt/anaconda3/lib/python3.7/site-packages/sklearn/utils/validation.py\", line 616, in check_array\n",
      "    array = np.asarray(array, order=order, dtype=dtype)\n",
      "  File \"/Users/carlahuebner/opt/anaconda3/lib/python3.7/site-packages/numpy/core/_asarray.py\", line 85, in asarray\n",
      "    return array(a, dtype, copy=False, order=order)\n",
      "ValueError: could not convert string to float: '5-24'\n",
      "\n",
      "  FitFailedWarning)\n",
      "/Users/carlahuebner/opt/anaconda3/lib/python3.7/site-packages/sklearn/model_selection/_validation.py:614: FitFailedWarning: Estimator fit failed. The score on this train-test partition for these parameters will be set to nan. Details: \n",
      "Traceback (most recent call last):\n",
      "  File \"/Users/carlahuebner/opt/anaconda3/lib/python3.7/site-packages/sklearn/model_selection/_validation.py\", line 593, in _fit_and_score\n",
      "    estimator.fit(X_train, y_train, **fit_params)\n",
      "  File \"/Users/carlahuebner/opt/anaconda3/lib/python3.7/site-packages/sklearn/pipeline.py\", line 341, in fit\n",
      "    Xt = self._fit(X, y, **fit_params_steps)\n",
      "  File \"/Users/carlahuebner/opt/anaconda3/lib/python3.7/site-packages/sklearn/pipeline.py\", line 307, in _fit\n",
      "    **fit_params_steps[name])\n",
      "  File \"/Users/carlahuebner/opt/anaconda3/lib/python3.7/site-packages/joblib/memory.py\", line 352, in __call__\n",
      "    return self.func(*args, **kwargs)\n",
      "  File \"/Users/carlahuebner/opt/anaconda3/lib/python3.7/site-packages/sklearn/pipeline.py\", line 754, in _fit_transform_one\n",
      "    res = transformer.fit_transform(X, y, **fit_params)\n",
      "  File \"/Users/carlahuebner/opt/anaconda3/lib/python3.7/site-packages/sklearn/base.py\", line 702, in fit_transform\n",
      "    return self.fit(X, y, **fit_params).transform(X)\n",
      "  File \"/Users/carlahuebner/opt/anaconda3/lib/python3.7/site-packages/sklearn/preprocessing/_data.py\", line 730, in fit\n",
      "    return self.partial_fit(X, y, sample_weight)\n",
      "  File \"/Users/carlahuebner/opt/anaconda3/lib/python3.7/site-packages/sklearn/preprocessing/_data.py\", line 768, in partial_fit\n",
      "    force_all_finite='allow-nan', reset=first_call)\n",
      "  File \"/Users/carlahuebner/opt/anaconda3/lib/python3.7/site-packages/sklearn/base.py\", line 421, in _validate_data\n",
      "    X = check_array(X, **check_params)\n",
      "  File \"/Users/carlahuebner/opt/anaconda3/lib/python3.7/site-packages/sklearn/utils/validation.py\", line 63, in inner_f\n",
      "    return f(*args, **kwargs)\n",
      "  File \"/Users/carlahuebner/opt/anaconda3/lib/python3.7/site-packages/sklearn/utils/validation.py\", line 616, in check_array\n",
      "    array = np.asarray(array, order=order, dtype=dtype)\n",
      "  File \"/Users/carlahuebner/opt/anaconda3/lib/python3.7/site-packages/numpy/core/_asarray.py\", line 85, in asarray\n",
      "    return array(a, dtype, copy=False, order=order)\n",
      "ValueError: could not convert string to float: '5-24'\n",
      "\n",
      "  FitFailedWarning)\n",
      "/Users/carlahuebner/opt/anaconda3/lib/python3.7/site-packages/sklearn/model_selection/_validation.py:614: FitFailedWarning: Estimator fit failed. The score on this train-test partition for these parameters will be set to nan. Details: \n",
      "Traceback (most recent call last):\n",
      "  File \"/Users/carlahuebner/opt/anaconda3/lib/python3.7/site-packages/sklearn/model_selection/_validation.py\", line 593, in _fit_and_score\n",
      "    estimator.fit(X_train, y_train, **fit_params)\n",
      "  File \"/Users/carlahuebner/opt/anaconda3/lib/python3.7/site-packages/sklearn/pipeline.py\", line 341, in fit\n",
      "    Xt = self._fit(X, y, **fit_params_steps)\n",
      "  File \"/Users/carlahuebner/opt/anaconda3/lib/python3.7/site-packages/sklearn/pipeline.py\", line 307, in _fit\n",
      "    **fit_params_steps[name])\n",
      "  File \"/Users/carlahuebner/opt/anaconda3/lib/python3.7/site-packages/joblib/memory.py\", line 352, in __call__\n",
      "    return self.func(*args, **kwargs)\n",
      "  File \"/Users/carlahuebner/opt/anaconda3/lib/python3.7/site-packages/sklearn/pipeline.py\", line 754, in _fit_transform_one\n",
      "    res = transformer.fit_transform(X, y, **fit_params)\n",
      "  File \"/Users/carlahuebner/opt/anaconda3/lib/python3.7/site-packages/sklearn/base.py\", line 702, in fit_transform\n",
      "    return self.fit(X, y, **fit_params).transform(X)\n",
      "  File \"/Users/carlahuebner/opt/anaconda3/lib/python3.7/site-packages/sklearn/preprocessing/_data.py\", line 730, in fit\n",
      "    return self.partial_fit(X, y, sample_weight)\n",
      "  File \"/Users/carlahuebner/opt/anaconda3/lib/python3.7/site-packages/sklearn/preprocessing/_data.py\", line 768, in partial_fit\n",
      "    force_all_finite='allow-nan', reset=first_call)\n",
      "  File \"/Users/carlahuebner/opt/anaconda3/lib/python3.7/site-packages/sklearn/base.py\", line 421, in _validate_data\n",
      "    X = check_array(X, **check_params)\n",
      "  File \"/Users/carlahuebner/opt/anaconda3/lib/python3.7/site-packages/sklearn/utils/validation.py\", line 63, in inner_f\n",
      "    return f(*args, **kwargs)\n",
      "  File \"/Users/carlahuebner/opt/anaconda3/lib/python3.7/site-packages/sklearn/utils/validation.py\", line 616, in check_array\n",
      "    array = np.asarray(array, order=order, dtype=dtype)\n",
      "  File \"/Users/carlahuebner/opt/anaconda3/lib/python3.7/site-packages/numpy/core/_asarray.py\", line 85, in asarray\n",
      "    return array(a, dtype, copy=False, order=order)\n",
      "ValueError: could not convert string to float: '5-24'\n",
      "\n",
      "  FitFailedWarning)\n",
      "/Users/carlahuebner/opt/anaconda3/lib/python3.7/site-packages/sklearn/model_selection/_validation.py:614: FitFailedWarning: Estimator fit failed. The score on this train-test partition for these parameters will be set to nan. Details: \n",
      "Traceback (most recent call last):\n",
      "  File \"/Users/carlahuebner/opt/anaconda3/lib/python3.7/site-packages/sklearn/model_selection/_validation.py\", line 593, in _fit_and_score\n",
      "    estimator.fit(X_train, y_train, **fit_params)\n",
      "  File \"/Users/carlahuebner/opt/anaconda3/lib/python3.7/site-packages/sklearn/pipeline.py\", line 341, in fit\n",
      "    Xt = self._fit(X, y, **fit_params_steps)\n",
      "  File \"/Users/carlahuebner/opt/anaconda3/lib/python3.7/site-packages/sklearn/pipeline.py\", line 307, in _fit\n",
      "    **fit_params_steps[name])\n",
      "  File \"/Users/carlahuebner/opt/anaconda3/lib/python3.7/site-packages/joblib/memory.py\", line 352, in __call__\n",
      "    return self.func(*args, **kwargs)\n",
      "  File \"/Users/carlahuebner/opt/anaconda3/lib/python3.7/site-packages/sklearn/pipeline.py\", line 754, in _fit_transform_one\n",
      "    res = transformer.fit_transform(X, y, **fit_params)\n",
      "  File \"/Users/carlahuebner/opt/anaconda3/lib/python3.7/site-packages/sklearn/base.py\", line 702, in fit_transform\n",
      "    return self.fit(X, y, **fit_params).transform(X)\n",
      "  File \"/Users/carlahuebner/opt/anaconda3/lib/python3.7/site-packages/sklearn/preprocessing/_data.py\", line 730, in fit\n",
      "    return self.partial_fit(X, y, sample_weight)\n",
      "  File \"/Users/carlahuebner/opt/anaconda3/lib/python3.7/site-packages/sklearn/preprocessing/_data.py\", line 768, in partial_fit\n",
      "    force_all_finite='allow-nan', reset=first_call)\n",
      "  File \"/Users/carlahuebner/opt/anaconda3/lib/python3.7/site-packages/sklearn/base.py\", line 421, in _validate_data\n",
      "    X = check_array(X, **check_params)\n",
      "  File \"/Users/carlahuebner/opt/anaconda3/lib/python3.7/site-packages/sklearn/utils/validation.py\", line 63, in inner_f\n",
      "    return f(*args, **kwargs)\n",
      "  File \"/Users/carlahuebner/opt/anaconda3/lib/python3.7/site-packages/sklearn/utils/validation.py\", line 616, in check_array\n",
      "    array = np.asarray(array, order=order, dtype=dtype)\n",
      "  File \"/Users/carlahuebner/opt/anaconda3/lib/python3.7/site-packages/numpy/core/_asarray.py\", line 85, in asarray\n",
      "    return array(a, dtype, copy=False, order=order)\n",
      "ValueError: could not convert string to float: '5-24'\n",
      "\n",
      "  FitFailedWarning)\n",
      "/Users/carlahuebner/opt/anaconda3/lib/python3.7/site-packages/sklearn/model_selection/_validation.py:614: FitFailedWarning: Estimator fit failed. The score on this train-test partition for these parameters will be set to nan. Details: \n",
      "Traceback (most recent call last):\n",
      "  File \"/Users/carlahuebner/opt/anaconda3/lib/python3.7/site-packages/sklearn/model_selection/_validation.py\", line 593, in _fit_and_score\n",
      "    estimator.fit(X_train, y_train, **fit_params)\n",
      "  File \"/Users/carlahuebner/opt/anaconda3/lib/python3.7/site-packages/sklearn/pipeline.py\", line 341, in fit\n",
      "    Xt = self._fit(X, y, **fit_params_steps)\n",
      "  File \"/Users/carlahuebner/opt/anaconda3/lib/python3.7/site-packages/sklearn/pipeline.py\", line 307, in _fit\n",
      "    **fit_params_steps[name])\n",
      "  File \"/Users/carlahuebner/opt/anaconda3/lib/python3.7/site-packages/joblib/memory.py\", line 352, in __call__\n",
      "    return self.func(*args, **kwargs)\n",
      "  File \"/Users/carlahuebner/opt/anaconda3/lib/python3.7/site-packages/sklearn/pipeline.py\", line 754, in _fit_transform_one\n",
      "    res = transformer.fit_transform(X, y, **fit_params)\n",
      "  File \"/Users/carlahuebner/opt/anaconda3/lib/python3.7/site-packages/sklearn/base.py\", line 702, in fit_transform\n",
      "    return self.fit(X, y, **fit_params).transform(X)\n",
      "  File \"/Users/carlahuebner/opt/anaconda3/lib/python3.7/site-packages/sklearn/preprocessing/_data.py\", line 730, in fit\n",
      "    return self.partial_fit(X, y, sample_weight)\n",
      "  File \"/Users/carlahuebner/opt/anaconda3/lib/python3.7/site-packages/sklearn/preprocessing/_data.py\", line 768, in partial_fit\n",
      "    force_all_finite='allow-nan', reset=first_call)\n",
      "  File \"/Users/carlahuebner/opt/anaconda3/lib/python3.7/site-packages/sklearn/base.py\", line 421, in _validate_data\n",
      "    X = check_array(X, **check_params)\n",
      "  File \"/Users/carlahuebner/opt/anaconda3/lib/python3.7/site-packages/sklearn/utils/validation.py\", line 63, in inner_f\n",
      "    return f(*args, **kwargs)\n",
      "  File \"/Users/carlahuebner/opt/anaconda3/lib/python3.7/site-packages/sklearn/utils/validation.py\", line 616, in check_array\n",
      "    array = np.asarray(array, order=order, dtype=dtype)\n",
      "  File \"/Users/carlahuebner/opt/anaconda3/lib/python3.7/site-packages/numpy/core/_asarray.py\", line 85, in asarray\n",
      "    return array(a, dtype, copy=False, order=order)\n",
      "ValueError: could not convert string to float: '5-24'\n",
      "\n",
      "  FitFailedWarning)\n"
     ]
    },
    {
     "name": "stderr",
     "output_type": "stream",
     "text": [
      "/Users/carlahuebner/opt/anaconda3/lib/python3.7/site-packages/sklearn/model_selection/_validation.py:614: FitFailedWarning: Estimator fit failed. The score on this train-test partition for these parameters will be set to nan. Details: \n",
      "Traceback (most recent call last):\n",
      "  File \"/Users/carlahuebner/opt/anaconda3/lib/python3.7/site-packages/sklearn/model_selection/_validation.py\", line 593, in _fit_and_score\n",
      "    estimator.fit(X_train, y_train, **fit_params)\n",
      "  File \"/Users/carlahuebner/opt/anaconda3/lib/python3.7/site-packages/sklearn/pipeline.py\", line 341, in fit\n",
      "    Xt = self._fit(X, y, **fit_params_steps)\n",
      "  File \"/Users/carlahuebner/opt/anaconda3/lib/python3.7/site-packages/sklearn/pipeline.py\", line 307, in _fit\n",
      "    **fit_params_steps[name])\n",
      "  File \"/Users/carlahuebner/opt/anaconda3/lib/python3.7/site-packages/joblib/memory.py\", line 352, in __call__\n",
      "    return self.func(*args, **kwargs)\n",
      "  File \"/Users/carlahuebner/opt/anaconda3/lib/python3.7/site-packages/sklearn/pipeline.py\", line 754, in _fit_transform_one\n",
      "    res = transformer.fit_transform(X, y, **fit_params)\n",
      "  File \"/Users/carlahuebner/opt/anaconda3/lib/python3.7/site-packages/sklearn/base.py\", line 702, in fit_transform\n",
      "    return self.fit(X, y, **fit_params).transform(X)\n",
      "  File \"/Users/carlahuebner/opt/anaconda3/lib/python3.7/site-packages/sklearn/preprocessing/_data.py\", line 730, in fit\n",
      "    return self.partial_fit(X, y, sample_weight)\n",
      "  File \"/Users/carlahuebner/opt/anaconda3/lib/python3.7/site-packages/sklearn/preprocessing/_data.py\", line 768, in partial_fit\n",
      "    force_all_finite='allow-nan', reset=first_call)\n",
      "  File \"/Users/carlahuebner/opt/anaconda3/lib/python3.7/site-packages/sklearn/base.py\", line 421, in _validate_data\n",
      "    X = check_array(X, **check_params)\n",
      "  File \"/Users/carlahuebner/opt/anaconda3/lib/python3.7/site-packages/sklearn/utils/validation.py\", line 63, in inner_f\n",
      "    return f(*args, **kwargs)\n",
      "  File \"/Users/carlahuebner/opt/anaconda3/lib/python3.7/site-packages/sklearn/utils/validation.py\", line 616, in check_array\n",
      "    array = np.asarray(array, order=order, dtype=dtype)\n",
      "  File \"/Users/carlahuebner/opt/anaconda3/lib/python3.7/site-packages/numpy/core/_asarray.py\", line 85, in asarray\n",
      "    return array(a, dtype, copy=False, order=order)\n",
      "ValueError: could not convert string to float: '5-24'\n",
      "\n",
      "  FitFailedWarning)\n",
      "/Users/carlahuebner/opt/anaconda3/lib/python3.7/site-packages/sklearn/model_selection/_validation.py:614: FitFailedWarning: Estimator fit failed. The score on this train-test partition for these parameters will be set to nan. Details: \n",
      "Traceback (most recent call last):\n",
      "  File \"/Users/carlahuebner/opt/anaconda3/lib/python3.7/site-packages/sklearn/model_selection/_validation.py\", line 593, in _fit_and_score\n",
      "    estimator.fit(X_train, y_train, **fit_params)\n",
      "  File \"/Users/carlahuebner/opt/anaconda3/lib/python3.7/site-packages/sklearn/pipeline.py\", line 341, in fit\n",
      "    Xt = self._fit(X, y, **fit_params_steps)\n",
      "  File \"/Users/carlahuebner/opt/anaconda3/lib/python3.7/site-packages/sklearn/pipeline.py\", line 307, in _fit\n",
      "    **fit_params_steps[name])\n",
      "  File \"/Users/carlahuebner/opt/anaconda3/lib/python3.7/site-packages/joblib/memory.py\", line 352, in __call__\n",
      "    return self.func(*args, **kwargs)\n",
      "  File \"/Users/carlahuebner/opt/anaconda3/lib/python3.7/site-packages/sklearn/pipeline.py\", line 754, in _fit_transform_one\n",
      "    res = transformer.fit_transform(X, y, **fit_params)\n",
      "  File \"/Users/carlahuebner/opt/anaconda3/lib/python3.7/site-packages/sklearn/base.py\", line 702, in fit_transform\n",
      "    return self.fit(X, y, **fit_params).transform(X)\n",
      "  File \"/Users/carlahuebner/opt/anaconda3/lib/python3.7/site-packages/sklearn/preprocessing/_data.py\", line 730, in fit\n",
      "    return self.partial_fit(X, y, sample_weight)\n",
      "  File \"/Users/carlahuebner/opt/anaconda3/lib/python3.7/site-packages/sklearn/preprocessing/_data.py\", line 768, in partial_fit\n",
      "    force_all_finite='allow-nan', reset=first_call)\n",
      "  File \"/Users/carlahuebner/opt/anaconda3/lib/python3.7/site-packages/sklearn/base.py\", line 421, in _validate_data\n",
      "    X = check_array(X, **check_params)\n",
      "  File \"/Users/carlahuebner/opt/anaconda3/lib/python3.7/site-packages/sklearn/utils/validation.py\", line 63, in inner_f\n",
      "    return f(*args, **kwargs)\n",
      "  File \"/Users/carlahuebner/opt/anaconda3/lib/python3.7/site-packages/sklearn/utils/validation.py\", line 616, in check_array\n",
      "    array = np.asarray(array, order=order, dtype=dtype)\n",
      "  File \"/Users/carlahuebner/opt/anaconda3/lib/python3.7/site-packages/numpy/core/_asarray.py\", line 85, in asarray\n",
      "    return array(a, dtype, copy=False, order=order)\n",
      "ValueError: could not convert string to float: '5-24'\n",
      "\n",
      "  FitFailedWarning)\n",
      "/Users/carlahuebner/opt/anaconda3/lib/python3.7/site-packages/sklearn/model_selection/_validation.py:614: FitFailedWarning: Estimator fit failed. The score on this train-test partition for these parameters will be set to nan. Details: \n",
      "Traceback (most recent call last):\n",
      "  File \"/Users/carlahuebner/opt/anaconda3/lib/python3.7/site-packages/sklearn/model_selection/_validation.py\", line 593, in _fit_and_score\n",
      "    estimator.fit(X_train, y_train, **fit_params)\n",
      "  File \"/Users/carlahuebner/opt/anaconda3/lib/python3.7/site-packages/sklearn/pipeline.py\", line 346, in fit\n",
      "    self._final_estimator.fit(Xt, y, **fit_params_last_step)\n",
      "  File \"/Users/carlahuebner/opt/anaconda3/lib/python3.7/site-packages/sklearn/ensemble/_forest.py\", line 305, in fit\n",
      "    accept_sparse=\"csc\", dtype=DTYPE)\n",
      "  File \"/Users/carlahuebner/opt/anaconda3/lib/python3.7/site-packages/sklearn/base.py\", line 433, in _validate_data\n",
      "    X, y = check_X_y(X, y, **check_params)\n",
      "  File \"/Users/carlahuebner/opt/anaconda3/lib/python3.7/site-packages/sklearn/utils/validation.py\", line 63, in inner_f\n",
      "    return f(*args, **kwargs)\n",
      "  File \"/Users/carlahuebner/opt/anaconda3/lib/python3.7/site-packages/sklearn/utils/validation.py\", line 821, in check_X_y\n",
      "    estimator=estimator)\n",
      "  File \"/Users/carlahuebner/opt/anaconda3/lib/python3.7/site-packages/sklearn/utils/validation.py\", line 63, in inner_f\n",
      "    return f(*args, **kwargs)\n",
      "  File \"/Users/carlahuebner/opt/anaconda3/lib/python3.7/site-packages/sklearn/utils/validation.py\", line 664, in check_array\n",
      "    allow_nan=force_all_finite == 'allow-nan')\n",
      "  File \"/Users/carlahuebner/opt/anaconda3/lib/python3.7/site-packages/sklearn/utils/validation.py\", line 106, in _assert_all_finite\n",
      "    msg_dtype if msg_dtype is not None else X.dtype)\n",
      "ValueError: Input contains NaN, infinity or a value too large for dtype('float32').\n",
      "\n",
      "  FitFailedWarning)\n",
      "/Users/carlahuebner/opt/anaconda3/lib/python3.7/site-packages/sklearn/model_selection/_validation.py:614: FitFailedWarning: Estimator fit failed. The score on this train-test partition for these parameters will be set to nan. Details: \n",
      "Traceback (most recent call last):\n",
      "  File \"/Users/carlahuebner/opt/anaconda3/lib/python3.7/site-packages/sklearn/model_selection/_validation.py\", line 593, in _fit_and_score\n",
      "    estimator.fit(X_train, y_train, **fit_params)\n",
      "  File \"/Users/carlahuebner/opt/anaconda3/lib/python3.7/site-packages/sklearn/pipeline.py\", line 341, in fit\n",
      "    Xt = self._fit(X, y, **fit_params_steps)\n",
      "  File \"/Users/carlahuebner/opt/anaconda3/lib/python3.7/site-packages/sklearn/pipeline.py\", line 307, in _fit\n",
      "    **fit_params_steps[name])\n",
      "  File \"/Users/carlahuebner/opt/anaconda3/lib/python3.7/site-packages/joblib/memory.py\", line 352, in __call__\n",
      "    return self.func(*args, **kwargs)\n",
      "  File \"/Users/carlahuebner/opt/anaconda3/lib/python3.7/site-packages/sklearn/pipeline.py\", line 754, in _fit_transform_one\n",
      "    res = transformer.fit_transform(X, y, **fit_params)\n",
      "  File \"/Users/carlahuebner/opt/anaconda3/lib/python3.7/site-packages/sklearn/base.py\", line 702, in fit_transform\n",
      "    return self.fit(X, y, **fit_params).transform(X)\n",
      "  File \"/Users/carlahuebner/opt/anaconda3/lib/python3.7/site-packages/sklearn/preprocessing/_data.py\", line 730, in fit\n",
      "    return self.partial_fit(X, y, sample_weight)\n",
      "  File \"/Users/carlahuebner/opt/anaconda3/lib/python3.7/site-packages/sklearn/preprocessing/_data.py\", line 768, in partial_fit\n",
      "    force_all_finite='allow-nan', reset=first_call)\n",
      "  File \"/Users/carlahuebner/opt/anaconda3/lib/python3.7/site-packages/sklearn/base.py\", line 421, in _validate_data\n",
      "    X = check_array(X, **check_params)\n",
      "  File \"/Users/carlahuebner/opt/anaconda3/lib/python3.7/site-packages/sklearn/utils/validation.py\", line 63, in inner_f\n",
      "    return f(*args, **kwargs)\n",
      "  File \"/Users/carlahuebner/opt/anaconda3/lib/python3.7/site-packages/sklearn/utils/validation.py\", line 616, in check_array\n",
      "    array = np.asarray(array, order=order, dtype=dtype)\n",
      "  File \"/Users/carlahuebner/opt/anaconda3/lib/python3.7/site-packages/numpy/core/_asarray.py\", line 85, in asarray\n",
      "    return array(a, dtype, copy=False, order=order)\n",
      "ValueError: could not convert string to float: '5-24'\n",
      "\n",
      "  FitFailedWarning)\n",
      "/Users/carlahuebner/opt/anaconda3/lib/python3.7/site-packages/sklearn/model_selection/_validation.py:614: FitFailedWarning: Estimator fit failed. The score on this train-test partition for these parameters will be set to nan. Details: \n",
      "Traceback (most recent call last):\n",
      "  File \"/Users/carlahuebner/opt/anaconda3/lib/python3.7/site-packages/sklearn/model_selection/_validation.py\", line 593, in _fit_and_score\n",
      "    estimator.fit(X_train, y_train, **fit_params)\n",
      "  File \"/Users/carlahuebner/opt/anaconda3/lib/python3.7/site-packages/sklearn/pipeline.py\", line 341, in fit\n",
      "    Xt = self._fit(X, y, **fit_params_steps)\n",
      "  File \"/Users/carlahuebner/opt/anaconda3/lib/python3.7/site-packages/sklearn/pipeline.py\", line 307, in _fit\n",
      "    **fit_params_steps[name])\n",
      "  File \"/Users/carlahuebner/opt/anaconda3/lib/python3.7/site-packages/joblib/memory.py\", line 352, in __call__\n",
      "    return self.func(*args, **kwargs)\n",
      "  File \"/Users/carlahuebner/opt/anaconda3/lib/python3.7/site-packages/sklearn/pipeline.py\", line 754, in _fit_transform_one\n",
      "    res = transformer.fit_transform(X, y, **fit_params)\n",
      "  File \"/Users/carlahuebner/opt/anaconda3/lib/python3.7/site-packages/sklearn/base.py\", line 702, in fit_transform\n",
      "    return self.fit(X, y, **fit_params).transform(X)\n",
      "  File \"/Users/carlahuebner/opt/anaconda3/lib/python3.7/site-packages/sklearn/preprocessing/_data.py\", line 730, in fit\n",
      "    return self.partial_fit(X, y, sample_weight)\n",
      "  File \"/Users/carlahuebner/opt/anaconda3/lib/python3.7/site-packages/sklearn/preprocessing/_data.py\", line 768, in partial_fit\n",
      "    force_all_finite='allow-nan', reset=first_call)\n",
      "  File \"/Users/carlahuebner/opt/anaconda3/lib/python3.7/site-packages/sklearn/base.py\", line 421, in _validate_data\n",
      "    X = check_array(X, **check_params)\n",
      "  File \"/Users/carlahuebner/opt/anaconda3/lib/python3.7/site-packages/sklearn/utils/validation.py\", line 63, in inner_f\n",
      "    return f(*args, **kwargs)\n",
      "  File \"/Users/carlahuebner/opt/anaconda3/lib/python3.7/site-packages/sklearn/utils/validation.py\", line 616, in check_array\n",
      "    array = np.asarray(array, order=order, dtype=dtype)\n",
      "  File \"/Users/carlahuebner/opt/anaconda3/lib/python3.7/site-packages/numpy/core/_asarray.py\", line 85, in asarray\n",
      "    return array(a, dtype, copy=False, order=order)\n",
      "ValueError: could not convert string to float: '5-24'\n",
      "\n",
      "  FitFailedWarning)\n",
      "/Users/carlahuebner/opt/anaconda3/lib/python3.7/site-packages/sklearn/model_selection/_search.py:921: UserWarning: One or more of the test scores are non-finite: [nan]\n",
      "  category=UserWarning\n"
     ]
    },
    {
     "ename": "ValueError",
     "evalue": "could not convert string to float: '5-24'",
     "output_type": "error",
     "traceback": [
      "\u001b[0;31m---------------------------------------------------------------------------\u001b[0m",
      "\u001b[0;31mValueError\u001b[0m                                Traceback (most recent call last)",
      "\u001b[0;32m<ipython-input-48-9f0ce220e674>\u001b[0m in \u001b[0;36m<module>\u001b[0;34m\u001b[0m\n\u001b[1;32m      2\u001b[0m \u001b[0mrf_grid_params\u001b[0m \u001b[0;34m=\u001b[0m \u001b[0;34m{\u001b[0m\u001b[0;34m}\u001b[0m\u001b[0;34m\u001b[0m\u001b[0;34m\u001b[0m\u001b[0m\n\u001b[1;32m      3\u001b[0m \u001b[0mrf_grid\u001b[0m \u001b[0;34m=\u001b[0m \u001b[0mGridSearchCV\u001b[0m\u001b[0;34m(\u001b[0m\u001b[0mrf_pipe\u001b[0m\u001b[0;34m,\u001b[0m \u001b[0mrf_grid_params\u001b[0m\u001b[0;34m,\u001b[0m \u001b[0mcv\u001b[0m\u001b[0;34m=\u001b[0m\u001b[0mStratifiedKFold\u001b[0m\u001b[0;34m(\u001b[0m\u001b[0;36m10\u001b[0m\u001b[0;34m,\u001b[0m \u001b[0mshuffle\u001b[0m\u001b[0;34m=\u001b[0m\u001b[0;32mTrue\u001b[0m\u001b[0;34m)\u001b[0m\u001b[0;34m,\u001b[0m \u001b[0mscoring\u001b[0m \u001b[0;34m=\u001b[0m \u001b[0;34m'f1'\u001b[0m\u001b[0;34m)\u001b[0m\u001b[0;34m\u001b[0m\u001b[0;34m\u001b[0m\u001b[0m\n\u001b[0;32m----> 4\u001b[0;31m \u001b[0mfitted\u001b[0m \u001b[0;34m=\u001b[0m \u001b[0mrf_grid\u001b[0m\u001b[0;34m.\u001b[0m\u001b[0mfit\u001b[0m\u001b[0;34m(\u001b[0m\u001b[0mX_train_sub\u001b[0m\u001b[0;34m,\u001b[0m \u001b[0my_train_sub\u001b[0m\u001b[0;34m)\u001b[0m\u001b[0;34m\u001b[0m\u001b[0;34m\u001b[0m\u001b[0m\n\u001b[0m\u001b[1;32m      5\u001b[0m \u001b[0mprint\u001b[0m\u001b[0;34m(\u001b[0m\u001b[0;34mf'Random Forest ROC-AUC training subset: { fitted.score(X_train_sub, y_train_sub)}'\u001b[0m\u001b[0;34m)\u001b[0m\u001b[0;34m\u001b[0m\u001b[0;34m\u001b[0m\u001b[0m\n\u001b[1;32m      6\u001b[0m \u001b[0mprint\u001b[0m\u001b[0;34m(\u001b[0m\u001b[0;34mf'Random Forest ROC-AUC test subset: { fitted.score(X_test_sub, y_test_sub)}'\u001b[0m\u001b[0;34m)\u001b[0m\u001b[0;34m\u001b[0m\u001b[0;34m\u001b[0m\u001b[0m\n",
      "\u001b[0;32m~/opt/anaconda3/lib/python3.7/site-packages/sklearn/utils/validation.py\u001b[0m in \u001b[0;36minner_f\u001b[0;34m(*args, **kwargs)\u001b[0m\n\u001b[1;32m     61\u001b[0m             \u001b[0mextra_args\u001b[0m \u001b[0;34m=\u001b[0m \u001b[0mlen\u001b[0m\u001b[0;34m(\u001b[0m\u001b[0margs\u001b[0m\u001b[0;34m)\u001b[0m \u001b[0;34m-\u001b[0m \u001b[0mlen\u001b[0m\u001b[0;34m(\u001b[0m\u001b[0mall_args\u001b[0m\u001b[0;34m)\u001b[0m\u001b[0;34m\u001b[0m\u001b[0;34m\u001b[0m\u001b[0m\n\u001b[1;32m     62\u001b[0m             \u001b[0;32mif\u001b[0m \u001b[0mextra_args\u001b[0m \u001b[0;34m<=\u001b[0m \u001b[0;36m0\u001b[0m\u001b[0;34m:\u001b[0m\u001b[0;34m\u001b[0m\u001b[0;34m\u001b[0m\u001b[0m\n\u001b[0;32m---> 63\u001b[0;31m                 \u001b[0;32mreturn\u001b[0m \u001b[0mf\u001b[0m\u001b[0;34m(\u001b[0m\u001b[0;34m*\u001b[0m\u001b[0margs\u001b[0m\u001b[0;34m,\u001b[0m \u001b[0;34m**\u001b[0m\u001b[0mkwargs\u001b[0m\u001b[0;34m)\u001b[0m\u001b[0;34m\u001b[0m\u001b[0;34m\u001b[0m\u001b[0m\n\u001b[0m\u001b[1;32m     64\u001b[0m \u001b[0;34m\u001b[0m\u001b[0m\n\u001b[1;32m     65\u001b[0m             \u001b[0;31m# extra_args > 0\u001b[0m\u001b[0;34m\u001b[0m\u001b[0;34m\u001b[0m\u001b[0;34m\u001b[0m\u001b[0m\n",
      "\u001b[0;32m~/opt/anaconda3/lib/python3.7/site-packages/sklearn/model_selection/_search.py\u001b[0m in \u001b[0;36mfit\u001b[0;34m(self, X, y, groups, **fit_params)\u001b[0m\n\u001b[1;32m    878\u001b[0m             \u001b[0mrefit_start_time\u001b[0m \u001b[0;34m=\u001b[0m \u001b[0mtime\u001b[0m\u001b[0;34m.\u001b[0m\u001b[0mtime\u001b[0m\u001b[0;34m(\u001b[0m\u001b[0;34m)\u001b[0m\u001b[0;34m\u001b[0m\u001b[0;34m\u001b[0m\u001b[0m\n\u001b[1;32m    879\u001b[0m             \u001b[0;32mif\u001b[0m \u001b[0my\u001b[0m \u001b[0;32mis\u001b[0m \u001b[0;32mnot\u001b[0m \u001b[0;32mNone\u001b[0m\u001b[0;34m:\u001b[0m\u001b[0;34m\u001b[0m\u001b[0;34m\u001b[0m\u001b[0m\n\u001b[0;32m--> 880\u001b[0;31m                 \u001b[0mself\u001b[0m\u001b[0;34m.\u001b[0m\u001b[0mbest_estimator_\u001b[0m\u001b[0;34m.\u001b[0m\u001b[0mfit\u001b[0m\u001b[0;34m(\u001b[0m\u001b[0mX\u001b[0m\u001b[0;34m,\u001b[0m \u001b[0my\u001b[0m\u001b[0;34m,\u001b[0m \u001b[0;34m**\u001b[0m\u001b[0mfit_params\u001b[0m\u001b[0;34m)\u001b[0m\u001b[0;34m\u001b[0m\u001b[0;34m\u001b[0m\u001b[0m\n\u001b[0m\u001b[1;32m    881\u001b[0m             \u001b[0;32melse\u001b[0m\u001b[0;34m:\u001b[0m\u001b[0;34m\u001b[0m\u001b[0;34m\u001b[0m\u001b[0m\n\u001b[1;32m    882\u001b[0m                 \u001b[0mself\u001b[0m\u001b[0;34m.\u001b[0m\u001b[0mbest_estimator_\u001b[0m\u001b[0;34m.\u001b[0m\u001b[0mfit\u001b[0m\u001b[0;34m(\u001b[0m\u001b[0mX\u001b[0m\u001b[0;34m,\u001b[0m \u001b[0;34m**\u001b[0m\u001b[0mfit_params\u001b[0m\u001b[0;34m)\u001b[0m\u001b[0;34m\u001b[0m\u001b[0;34m\u001b[0m\u001b[0m\n",
      "\u001b[0;32m~/opt/anaconda3/lib/python3.7/site-packages/sklearn/pipeline.py\u001b[0m in \u001b[0;36mfit\u001b[0;34m(self, X, y, **fit_params)\u001b[0m\n\u001b[1;32m    339\u001b[0m         \"\"\"\n\u001b[1;32m    340\u001b[0m         \u001b[0mfit_params_steps\u001b[0m \u001b[0;34m=\u001b[0m \u001b[0mself\u001b[0m\u001b[0;34m.\u001b[0m\u001b[0m_check_fit_params\u001b[0m\u001b[0;34m(\u001b[0m\u001b[0;34m**\u001b[0m\u001b[0mfit_params\u001b[0m\u001b[0;34m)\u001b[0m\u001b[0;34m\u001b[0m\u001b[0;34m\u001b[0m\u001b[0m\n\u001b[0;32m--> 341\u001b[0;31m         \u001b[0mXt\u001b[0m \u001b[0;34m=\u001b[0m \u001b[0mself\u001b[0m\u001b[0;34m.\u001b[0m\u001b[0m_fit\u001b[0m\u001b[0;34m(\u001b[0m\u001b[0mX\u001b[0m\u001b[0;34m,\u001b[0m \u001b[0my\u001b[0m\u001b[0;34m,\u001b[0m \u001b[0;34m**\u001b[0m\u001b[0mfit_params_steps\u001b[0m\u001b[0;34m)\u001b[0m\u001b[0;34m\u001b[0m\u001b[0;34m\u001b[0m\u001b[0m\n\u001b[0m\u001b[1;32m    342\u001b[0m         with _print_elapsed_time('Pipeline',\n\u001b[1;32m    343\u001b[0m                                  self._log_message(len(self.steps) - 1)):\n",
      "\u001b[0;32m~/opt/anaconda3/lib/python3.7/site-packages/sklearn/pipeline.py\u001b[0m in \u001b[0;36m_fit\u001b[0;34m(self, X, y, **fit_params_steps)\u001b[0m\n\u001b[1;32m    305\u001b[0m                 \u001b[0mmessage_clsname\u001b[0m\u001b[0;34m=\u001b[0m\u001b[0;34m'Pipeline'\u001b[0m\u001b[0;34m,\u001b[0m\u001b[0;34m\u001b[0m\u001b[0;34m\u001b[0m\u001b[0m\n\u001b[1;32m    306\u001b[0m                 \u001b[0mmessage\u001b[0m\u001b[0;34m=\u001b[0m\u001b[0mself\u001b[0m\u001b[0;34m.\u001b[0m\u001b[0m_log_message\u001b[0m\u001b[0;34m(\u001b[0m\u001b[0mstep_idx\u001b[0m\u001b[0;34m)\u001b[0m\u001b[0;34m,\u001b[0m\u001b[0;34m\u001b[0m\u001b[0;34m\u001b[0m\u001b[0m\n\u001b[0;32m--> 307\u001b[0;31m                 **fit_params_steps[name])\n\u001b[0m\u001b[1;32m    308\u001b[0m             \u001b[0;31m# Replace the transformer of the step with the fitted\u001b[0m\u001b[0;34m\u001b[0m\u001b[0;34m\u001b[0m\u001b[0;34m\u001b[0m\u001b[0m\n\u001b[1;32m    309\u001b[0m             \u001b[0;31m# transformer. This is necessary when loading the transformer\u001b[0m\u001b[0;34m\u001b[0m\u001b[0;34m\u001b[0m\u001b[0;34m\u001b[0m\u001b[0m\n",
      "\u001b[0;32m~/opt/anaconda3/lib/python3.7/site-packages/joblib/memory.py\u001b[0m in \u001b[0;36m__call__\u001b[0;34m(self, *args, **kwargs)\u001b[0m\n\u001b[1;32m    350\u001b[0m \u001b[0;34m\u001b[0m\u001b[0m\n\u001b[1;32m    351\u001b[0m     \u001b[0;32mdef\u001b[0m \u001b[0m__call__\u001b[0m\u001b[0;34m(\u001b[0m\u001b[0mself\u001b[0m\u001b[0;34m,\u001b[0m \u001b[0;34m*\u001b[0m\u001b[0margs\u001b[0m\u001b[0;34m,\u001b[0m \u001b[0;34m**\u001b[0m\u001b[0mkwargs\u001b[0m\u001b[0;34m)\u001b[0m\u001b[0;34m:\u001b[0m\u001b[0;34m\u001b[0m\u001b[0;34m\u001b[0m\u001b[0m\n\u001b[0;32m--> 352\u001b[0;31m         \u001b[0;32mreturn\u001b[0m \u001b[0mself\u001b[0m\u001b[0;34m.\u001b[0m\u001b[0mfunc\u001b[0m\u001b[0;34m(\u001b[0m\u001b[0;34m*\u001b[0m\u001b[0margs\u001b[0m\u001b[0;34m,\u001b[0m \u001b[0;34m**\u001b[0m\u001b[0mkwargs\u001b[0m\u001b[0;34m)\u001b[0m\u001b[0;34m\u001b[0m\u001b[0;34m\u001b[0m\u001b[0m\n\u001b[0m\u001b[1;32m    353\u001b[0m \u001b[0;34m\u001b[0m\u001b[0m\n\u001b[1;32m    354\u001b[0m     \u001b[0;32mdef\u001b[0m \u001b[0mcall_and_shelve\u001b[0m\u001b[0;34m(\u001b[0m\u001b[0mself\u001b[0m\u001b[0;34m,\u001b[0m \u001b[0;34m*\u001b[0m\u001b[0margs\u001b[0m\u001b[0;34m,\u001b[0m \u001b[0;34m**\u001b[0m\u001b[0mkwargs\u001b[0m\u001b[0;34m)\u001b[0m\u001b[0;34m:\u001b[0m\u001b[0;34m\u001b[0m\u001b[0;34m\u001b[0m\u001b[0m\n",
      "\u001b[0;32m~/opt/anaconda3/lib/python3.7/site-packages/sklearn/pipeline.py\u001b[0m in \u001b[0;36m_fit_transform_one\u001b[0;34m(transformer, X, y, weight, message_clsname, message, **fit_params)\u001b[0m\n\u001b[1;32m    752\u001b[0m     \u001b[0;32mwith\u001b[0m \u001b[0m_print_elapsed_time\u001b[0m\u001b[0;34m(\u001b[0m\u001b[0mmessage_clsname\u001b[0m\u001b[0;34m,\u001b[0m \u001b[0mmessage\u001b[0m\u001b[0;34m)\u001b[0m\u001b[0;34m:\u001b[0m\u001b[0;34m\u001b[0m\u001b[0;34m\u001b[0m\u001b[0m\n\u001b[1;32m    753\u001b[0m         \u001b[0;32mif\u001b[0m \u001b[0mhasattr\u001b[0m\u001b[0;34m(\u001b[0m\u001b[0mtransformer\u001b[0m\u001b[0;34m,\u001b[0m \u001b[0;34m'fit_transform'\u001b[0m\u001b[0;34m)\u001b[0m\u001b[0;34m:\u001b[0m\u001b[0;34m\u001b[0m\u001b[0;34m\u001b[0m\u001b[0m\n\u001b[0;32m--> 754\u001b[0;31m             \u001b[0mres\u001b[0m \u001b[0;34m=\u001b[0m \u001b[0mtransformer\u001b[0m\u001b[0;34m.\u001b[0m\u001b[0mfit_transform\u001b[0m\u001b[0;34m(\u001b[0m\u001b[0mX\u001b[0m\u001b[0;34m,\u001b[0m \u001b[0my\u001b[0m\u001b[0;34m,\u001b[0m \u001b[0;34m**\u001b[0m\u001b[0mfit_params\u001b[0m\u001b[0;34m)\u001b[0m\u001b[0;34m\u001b[0m\u001b[0;34m\u001b[0m\u001b[0m\n\u001b[0m\u001b[1;32m    755\u001b[0m         \u001b[0;32melse\u001b[0m\u001b[0;34m:\u001b[0m\u001b[0;34m\u001b[0m\u001b[0;34m\u001b[0m\u001b[0m\n\u001b[1;32m    756\u001b[0m             \u001b[0mres\u001b[0m \u001b[0;34m=\u001b[0m \u001b[0mtransformer\u001b[0m\u001b[0;34m.\u001b[0m\u001b[0mfit\u001b[0m\u001b[0;34m(\u001b[0m\u001b[0mX\u001b[0m\u001b[0;34m,\u001b[0m \u001b[0my\u001b[0m\u001b[0;34m,\u001b[0m \u001b[0;34m**\u001b[0m\u001b[0mfit_params\u001b[0m\u001b[0;34m)\u001b[0m\u001b[0;34m.\u001b[0m\u001b[0mtransform\u001b[0m\u001b[0;34m(\u001b[0m\u001b[0mX\u001b[0m\u001b[0;34m)\u001b[0m\u001b[0;34m\u001b[0m\u001b[0;34m\u001b[0m\u001b[0m\n",
      "\u001b[0;32m~/opt/anaconda3/lib/python3.7/site-packages/sklearn/base.py\u001b[0m in \u001b[0;36mfit_transform\u001b[0;34m(self, X, y, **fit_params)\u001b[0m\n\u001b[1;32m    700\u001b[0m         \u001b[0;32melse\u001b[0m\u001b[0;34m:\u001b[0m\u001b[0;34m\u001b[0m\u001b[0;34m\u001b[0m\u001b[0m\n\u001b[1;32m    701\u001b[0m             \u001b[0;31m# fit method of arity 2 (supervised transformation)\u001b[0m\u001b[0;34m\u001b[0m\u001b[0;34m\u001b[0m\u001b[0;34m\u001b[0m\u001b[0m\n\u001b[0;32m--> 702\u001b[0;31m             \u001b[0;32mreturn\u001b[0m \u001b[0mself\u001b[0m\u001b[0;34m.\u001b[0m\u001b[0mfit\u001b[0m\u001b[0;34m(\u001b[0m\u001b[0mX\u001b[0m\u001b[0;34m,\u001b[0m \u001b[0my\u001b[0m\u001b[0;34m,\u001b[0m \u001b[0;34m**\u001b[0m\u001b[0mfit_params\u001b[0m\u001b[0;34m)\u001b[0m\u001b[0;34m.\u001b[0m\u001b[0mtransform\u001b[0m\u001b[0;34m(\u001b[0m\u001b[0mX\u001b[0m\u001b[0;34m)\u001b[0m\u001b[0;34m\u001b[0m\u001b[0;34m\u001b[0m\u001b[0m\n\u001b[0m\u001b[1;32m    703\u001b[0m \u001b[0;34m\u001b[0m\u001b[0m\n\u001b[1;32m    704\u001b[0m \u001b[0;34m\u001b[0m\u001b[0m\n",
      "\u001b[0;32m~/opt/anaconda3/lib/python3.7/site-packages/sklearn/preprocessing/_data.py\u001b[0m in \u001b[0;36mfit\u001b[0;34m(self, X, y, sample_weight)\u001b[0m\n\u001b[1;32m    728\u001b[0m         \u001b[0;31m# Reset internal state before fitting\u001b[0m\u001b[0;34m\u001b[0m\u001b[0;34m\u001b[0m\u001b[0;34m\u001b[0m\u001b[0m\n\u001b[1;32m    729\u001b[0m         \u001b[0mself\u001b[0m\u001b[0;34m.\u001b[0m\u001b[0m_reset\u001b[0m\u001b[0;34m(\u001b[0m\u001b[0;34m)\u001b[0m\u001b[0;34m\u001b[0m\u001b[0;34m\u001b[0m\u001b[0m\n\u001b[0;32m--> 730\u001b[0;31m         \u001b[0;32mreturn\u001b[0m \u001b[0mself\u001b[0m\u001b[0;34m.\u001b[0m\u001b[0mpartial_fit\u001b[0m\u001b[0;34m(\u001b[0m\u001b[0mX\u001b[0m\u001b[0;34m,\u001b[0m \u001b[0my\u001b[0m\u001b[0;34m,\u001b[0m \u001b[0msample_weight\u001b[0m\u001b[0;34m)\u001b[0m\u001b[0;34m\u001b[0m\u001b[0;34m\u001b[0m\u001b[0m\n\u001b[0m\u001b[1;32m    731\u001b[0m \u001b[0;34m\u001b[0m\u001b[0m\n\u001b[1;32m    732\u001b[0m     \u001b[0;32mdef\u001b[0m \u001b[0mpartial_fit\u001b[0m\u001b[0;34m(\u001b[0m\u001b[0mself\u001b[0m\u001b[0;34m,\u001b[0m \u001b[0mX\u001b[0m\u001b[0;34m,\u001b[0m \u001b[0my\u001b[0m\u001b[0;34m=\u001b[0m\u001b[0;32mNone\u001b[0m\u001b[0;34m,\u001b[0m \u001b[0msample_weight\u001b[0m\u001b[0;34m=\u001b[0m\u001b[0;32mNone\u001b[0m\u001b[0;34m)\u001b[0m\u001b[0;34m:\u001b[0m\u001b[0;34m\u001b[0m\u001b[0;34m\u001b[0m\u001b[0m\n",
      "\u001b[0;32m~/opt/anaconda3/lib/python3.7/site-packages/sklearn/preprocessing/_data.py\u001b[0m in \u001b[0;36mpartial_fit\u001b[0;34m(self, X, y, sample_weight)\u001b[0m\n\u001b[1;32m    766\u001b[0m         X = self._validate_data(X, accept_sparse=('csr', 'csc'),\n\u001b[1;32m    767\u001b[0m                                 \u001b[0mestimator\u001b[0m\u001b[0;34m=\u001b[0m\u001b[0mself\u001b[0m\u001b[0;34m,\u001b[0m \u001b[0mdtype\u001b[0m\u001b[0;34m=\u001b[0m\u001b[0mFLOAT_DTYPES\u001b[0m\u001b[0;34m,\u001b[0m\u001b[0;34m\u001b[0m\u001b[0;34m\u001b[0m\u001b[0m\n\u001b[0;32m--> 768\u001b[0;31m                                 force_all_finite='allow-nan', reset=first_call)\n\u001b[0m\u001b[1;32m    769\u001b[0m         \u001b[0mn_features\u001b[0m \u001b[0;34m=\u001b[0m \u001b[0mX\u001b[0m\u001b[0;34m.\u001b[0m\u001b[0mshape\u001b[0m\u001b[0;34m[\u001b[0m\u001b[0;36m1\u001b[0m\u001b[0;34m]\u001b[0m\u001b[0;34m\u001b[0m\u001b[0;34m\u001b[0m\u001b[0m\n\u001b[1;32m    770\u001b[0m \u001b[0;34m\u001b[0m\u001b[0m\n",
      "\u001b[0;32m~/opt/anaconda3/lib/python3.7/site-packages/sklearn/base.py\u001b[0m in \u001b[0;36m_validate_data\u001b[0;34m(self, X, y, reset, validate_separately, **check_params)\u001b[0m\n\u001b[1;32m    419\u001b[0m             \u001b[0mout\u001b[0m \u001b[0;34m=\u001b[0m \u001b[0mX\u001b[0m\u001b[0;34m\u001b[0m\u001b[0;34m\u001b[0m\u001b[0m\n\u001b[1;32m    420\u001b[0m         \u001b[0;32melif\u001b[0m \u001b[0misinstance\u001b[0m\u001b[0;34m(\u001b[0m\u001b[0my\u001b[0m\u001b[0;34m,\u001b[0m \u001b[0mstr\u001b[0m\u001b[0;34m)\u001b[0m \u001b[0;32mand\u001b[0m \u001b[0my\u001b[0m \u001b[0;34m==\u001b[0m \u001b[0;34m'no_validation'\u001b[0m\u001b[0;34m:\u001b[0m\u001b[0;34m\u001b[0m\u001b[0;34m\u001b[0m\u001b[0m\n\u001b[0;32m--> 421\u001b[0;31m             \u001b[0mX\u001b[0m \u001b[0;34m=\u001b[0m \u001b[0mcheck_array\u001b[0m\u001b[0;34m(\u001b[0m\u001b[0mX\u001b[0m\u001b[0;34m,\u001b[0m \u001b[0;34m**\u001b[0m\u001b[0mcheck_params\u001b[0m\u001b[0;34m)\u001b[0m\u001b[0;34m\u001b[0m\u001b[0;34m\u001b[0m\u001b[0m\n\u001b[0m\u001b[1;32m    422\u001b[0m             \u001b[0mout\u001b[0m \u001b[0;34m=\u001b[0m \u001b[0mX\u001b[0m\u001b[0;34m\u001b[0m\u001b[0;34m\u001b[0m\u001b[0m\n\u001b[1;32m    423\u001b[0m         \u001b[0;32melse\u001b[0m\u001b[0;34m:\u001b[0m\u001b[0;34m\u001b[0m\u001b[0;34m\u001b[0m\u001b[0m\n",
      "\u001b[0;32m~/opt/anaconda3/lib/python3.7/site-packages/sklearn/utils/validation.py\u001b[0m in \u001b[0;36minner_f\u001b[0;34m(*args, **kwargs)\u001b[0m\n\u001b[1;32m     61\u001b[0m             \u001b[0mextra_args\u001b[0m \u001b[0;34m=\u001b[0m \u001b[0mlen\u001b[0m\u001b[0;34m(\u001b[0m\u001b[0margs\u001b[0m\u001b[0;34m)\u001b[0m \u001b[0;34m-\u001b[0m \u001b[0mlen\u001b[0m\u001b[0;34m(\u001b[0m\u001b[0mall_args\u001b[0m\u001b[0;34m)\u001b[0m\u001b[0;34m\u001b[0m\u001b[0;34m\u001b[0m\u001b[0m\n\u001b[1;32m     62\u001b[0m             \u001b[0;32mif\u001b[0m \u001b[0mextra_args\u001b[0m \u001b[0;34m<=\u001b[0m \u001b[0;36m0\u001b[0m\u001b[0;34m:\u001b[0m\u001b[0;34m\u001b[0m\u001b[0;34m\u001b[0m\u001b[0m\n\u001b[0;32m---> 63\u001b[0;31m                 \u001b[0;32mreturn\u001b[0m \u001b[0mf\u001b[0m\u001b[0;34m(\u001b[0m\u001b[0;34m*\u001b[0m\u001b[0margs\u001b[0m\u001b[0;34m,\u001b[0m \u001b[0;34m**\u001b[0m\u001b[0mkwargs\u001b[0m\u001b[0;34m)\u001b[0m\u001b[0;34m\u001b[0m\u001b[0;34m\u001b[0m\u001b[0m\n\u001b[0m\u001b[1;32m     64\u001b[0m \u001b[0;34m\u001b[0m\u001b[0m\n\u001b[1;32m     65\u001b[0m             \u001b[0;31m# extra_args > 0\u001b[0m\u001b[0;34m\u001b[0m\u001b[0;34m\u001b[0m\u001b[0;34m\u001b[0m\u001b[0m\n",
      "\u001b[0;32m~/opt/anaconda3/lib/python3.7/site-packages/sklearn/utils/validation.py\u001b[0m in \u001b[0;36mcheck_array\u001b[0;34m(array, accept_sparse, accept_large_sparse, dtype, order, copy, force_all_finite, ensure_2d, allow_nd, ensure_min_samples, ensure_min_features, estimator)\u001b[0m\n\u001b[1;32m    614\u001b[0m                     \u001b[0marray\u001b[0m \u001b[0;34m=\u001b[0m \u001b[0marray\u001b[0m\u001b[0;34m.\u001b[0m\u001b[0mastype\u001b[0m\u001b[0;34m(\u001b[0m\u001b[0mdtype\u001b[0m\u001b[0;34m,\u001b[0m \u001b[0mcasting\u001b[0m\u001b[0;34m=\u001b[0m\u001b[0;34m\"unsafe\"\u001b[0m\u001b[0;34m,\u001b[0m \u001b[0mcopy\u001b[0m\u001b[0;34m=\u001b[0m\u001b[0;32mFalse\u001b[0m\u001b[0;34m)\u001b[0m\u001b[0;34m\u001b[0m\u001b[0;34m\u001b[0m\u001b[0m\n\u001b[1;32m    615\u001b[0m                 \u001b[0;32melse\u001b[0m\u001b[0;34m:\u001b[0m\u001b[0;34m\u001b[0m\u001b[0;34m\u001b[0m\u001b[0m\n\u001b[0;32m--> 616\u001b[0;31m                     \u001b[0marray\u001b[0m \u001b[0;34m=\u001b[0m \u001b[0mnp\u001b[0m\u001b[0;34m.\u001b[0m\u001b[0masarray\u001b[0m\u001b[0;34m(\u001b[0m\u001b[0marray\u001b[0m\u001b[0;34m,\u001b[0m \u001b[0morder\u001b[0m\u001b[0;34m=\u001b[0m\u001b[0morder\u001b[0m\u001b[0;34m,\u001b[0m \u001b[0mdtype\u001b[0m\u001b[0;34m=\u001b[0m\u001b[0mdtype\u001b[0m\u001b[0;34m)\u001b[0m\u001b[0;34m\u001b[0m\u001b[0;34m\u001b[0m\u001b[0m\n\u001b[0m\u001b[1;32m    617\u001b[0m             \u001b[0;32mexcept\u001b[0m \u001b[0mComplexWarning\u001b[0m \u001b[0;32mas\u001b[0m \u001b[0mcomplex_warning\u001b[0m\u001b[0;34m:\u001b[0m\u001b[0;34m\u001b[0m\u001b[0;34m\u001b[0m\u001b[0m\n\u001b[1;32m    618\u001b[0m                 raise ValueError(\"Complex data not supported\\n\"\n",
      "\u001b[0;32m~/opt/anaconda3/lib/python3.7/site-packages/numpy/core/_asarray.py\u001b[0m in \u001b[0;36masarray\u001b[0;34m(a, dtype, order)\u001b[0m\n\u001b[1;32m     83\u001b[0m \u001b[0;34m\u001b[0m\u001b[0m\n\u001b[1;32m     84\u001b[0m     \"\"\"\n\u001b[0;32m---> 85\u001b[0;31m     \u001b[0;32mreturn\u001b[0m \u001b[0marray\u001b[0m\u001b[0;34m(\u001b[0m\u001b[0ma\u001b[0m\u001b[0;34m,\u001b[0m \u001b[0mdtype\u001b[0m\u001b[0;34m,\u001b[0m \u001b[0mcopy\u001b[0m\u001b[0;34m=\u001b[0m\u001b[0;32mFalse\u001b[0m\u001b[0;34m,\u001b[0m \u001b[0morder\u001b[0m\u001b[0;34m=\u001b[0m\u001b[0morder\u001b[0m\u001b[0;34m)\u001b[0m\u001b[0;34m\u001b[0m\u001b[0;34m\u001b[0m\u001b[0m\n\u001b[0m\u001b[1;32m     86\u001b[0m \u001b[0;34m\u001b[0m\u001b[0m\n\u001b[1;32m     87\u001b[0m \u001b[0;34m\u001b[0m\u001b[0m\n",
      "\u001b[0;31mValueError\u001b[0m: could not convert string to float: '5-24'"
     ]
    }
   ],
   "source": [
    "rf_pipe = Pipeline([('scaler', StandardScaler()), ('classifier', RandomForestClassifier())])\n",
    "rf_grid_params = {}\n",
    "rf_grid = GridSearchCV(rf_pipe, rf_grid_params, cv=StratifiedKFold(10, shuffle=True), scoring = 'f1')\n",
    "fitted = rf_grid.fit(X_train_sub, y_train_sub) \n",
    "print(f'Random Forest ROC-AUC training subset: { fitted.score(X_train_sub, y_train_sub)}')\n",
    "print(f'Random Forest ROC-AUC test subset: { fitted.score(X_test_sub, y_test_sub)}')"
   ]
  },
  {
   "cell_type": "code",
   "execution_count": 29,
   "metadata": {},
   "outputs": [
    {
     "name": "stdout",
     "output_type": "stream",
     "text": [
      "Random Forest ROC-AUC training subset: 0.9072043852779953\n",
      "Random Forest ROC-AUC test subset: 0.9068128425998434\n"
     ]
    }
   ],
   "source": [
    "## Tuning Random Forest\n",
    "# Random Forest is overfitting. Increased the num for min_samples_split to 6\n",
    "\n",
    "rf_pipe2 = Pipeline([('classifier', RandomForestClassifier(max_depth=12, max_features = 6, min_samples_leaf = 60, \n",
    "                                                           min_samples_split = 6, n_jobs=-1, n_estimators = 250,\n",
    "                                                           oob_score=True, random_state=42))])\n",
    "\n",
    "rf_grid_params2 = {}\n",
    "\n",
    "rf_grid2 = GridSearchCV(rf_pipe2, rf_grid_params2, cv=StratifiedKFold(10, shuffle=True), scoring = 'f1')\n",
    "rf_fitted2 = rf_grid2.fit(X_train_sub, y_train_sub) \n",
    "print(f'Random Forest ROC-AUC training subset: { rf_grid2.score(X_train_sub, y_train_sub)}')\n",
    "print(f'Random Forest ROC-AUC test subset: { rf_grid2.score(X_test_sub, y_test_sub)}')"
   ]
  },
  {
   "cell_type": "code",
   "execution_count": 193,
   "metadata": {},
   "outputs": [
    {
     "data": {
      "text/plain": [
       "0.829512893982808"
      ]
     },
     "execution_count": 193,
     "metadata": {},
     "output_type": "execute_result"
    }
   ],
   "source": [
    "accuracy_score(rf_fitted2.predict(X_test_sub), y_test_sub)"
   ]
  },
  {
   "cell_type": "code",
   "execution_count": 30,
   "metadata": {},
   "outputs": [],
   "source": [
    "rf_pred = rf_fitted2.predict(X_test_sub)\n"
   ]
  },
  {
   "cell_type": "code",
   "execution_count": 175,
   "metadata": {},
   "outputs": [
    {
     "data": {
      "image/png": "[encoded data removed]",
      "text/plain": [
       "<Figure size 576x396 with 1 Axes>"
      ]
     },
     "metadata": {},
     "output_type": "display_data"
    }
   ],
   "source": [
    "lr_probs = rf_fitted2.predict_proba(X_test_sub)\n",
    "\n",
    "# keep probabilities for the positive outcome only\n",
    "lr_probs = lr_probs[:, 1]\n",
    "\n",
    "# calculate scores\n",
    "lr_auc = roc_auc_score(y_test_sub, lr_probs)\n",
    "# roc curve for logistic regression model\n",
    "# calculate roc curves\n",
    "fpr, tpr, thresholds = roc_curve(y_test_sub, lr_probs)\n",
    "\n",
    "# plot the roc curve for the model\n",
    "pyplot.plot([0,1], [0,1], linestyle='--', label='No Skill')\n",
    "pyplot.plot(fpr, tpr, marker='.', label='Logistic')\n",
    "\n",
    "# axis labels\n",
    "pyplot.xlabel('False Positive Rate')\n",
    "pyplot.ylabel('True Positive Rate')\n",
    "pyplot.legend()\n",
    "\n",
    "# show the plot\n",
    "pyplot.show()"
   ]
  },
  {
   "cell_type": "code",
   "execution_count": 110,
   "metadata": {},
   "outputs": [
    {
     "data": {
      "text/plain": [
       "array([[  0, 119],\n",
       "       [  0, 579]])"
      ]
     },
     "execution_count": 110,
     "metadata": {},
     "output_type": "execute_result"
    }
   ],
   "source": [
    "tn, fp, fn, tp = confusion_matrix(y_test_sub, rf_pred)"
   ]
  },
  {
   "cell_type": "code",
   "execution_count": 208,
   "metadata": {},
   "outputs": [
    {
     "data": {
      "text/plain": [
       "(0, 119, 0, 579)"
      ]
     },
     "execution_count": 208,
     "metadata": {},
     "output_type": "execute_result"
    }
   ],
   "source": [
    "(tn, fp, fn, tp)"
   ]
  },
  {
   "cell_type": "code",
   "execution_count": 210,
   "metadata": {},
   "outputs": [
    {
     "data": {
      "text/plain": [
       "<sklearn.metrics._plot.confusion_matrix.ConfusionMatrixDisplay at 0x12c8c2bd0>"
      ]
     },
     "execution_count": 210,
     "metadata": {},
     "output_type": "execute_result"
    },
    {
     "data": {
      "image/png": "[encoded data removed]",
      "text/plain": [
       "<Figure size 576x396 with 2 Axes>"
      ]
     },
     "metadata": {},
     "output_type": "display_data"
    }
   ],
   "source": [
    "from sklearn.metrics import plot_confusion_matrix\n",
    "plot_confusion_matrix(rf_fitted2, X_test_sub, y_test_sub)"
   ]
  },
  {
   "cell_type": "markdown",
   "metadata": {},
   "source": [
    "# Class Imbalance - Random Undersampling\n",
    "* RUS generated a model that predicts both classes rather than just the positive class. However, the threshold appears to be off, so I've created a profit curve to determine the best threshold to use in this business case. \n",
    "* Profit Curve shows that profit levels off at a threshold of ~0.80"
   ]
  },
  {
   "cell_type": "code",
   "execution_count": 41,
   "metadata": {},
   "outputs": [
    {
     "data": {
      "text/plain": [
       "(56882, 51)"
      ]
     },
     "execution_count": 41,
     "metadata": {},
     "output_type": "execute_result"
    }
   ],
   "source": [
    "\n",
    "undersample = RandomUnderSampler(sampling_strategy=0.7)\n",
    "# fit and apply the transform\n",
    "X_under, y_under = undersample.fit_resample(X, y)\n",
    "\n",
    "X_under.shape"
   ]
  },
  {
   "cell_type": "code",
   "execution_count": 35,
   "metadata": {},
   "outputs": [],
   "source": [
    "X_train_u, X_test_u, y_train_u, y_test_u = train_test_split(X_under, y_under, test_size = 0.20, \n",
    "                                                                    shuffle=True)"
   ]
  },
  {
   "cell_type": "code",
   "execution_count": 38,
   "metadata": {},
   "outputs": [
    {
     "name": "stdout",
     "output_type": "stream",
     "text": [
      "Random Forest F1 training subset: 0.7822210819998077\n",
      "Random Forest F1 test subset: 0.7747909967845659\n"
     ]
    }
   ],
   "source": [
    "# Train and evaluate a model using undersampled data\n",
    "rf_pipe_under = Pipeline([('classifier', RandomForestClassifier(max_depth=12, max_features = 6, min_samples_leaf = 60, \n",
    "                                                           min_samples_split = 6, n_jobs=-1, n_estimators = 250,\n",
    "                                                           oob_score=True, random_state=42))])\n",
    "\n",
    "rf_grid_params_under = {}\n",
    "\n",
    "rf_grid_under = GridSearchCV(rf_pipe_under, rf_grid_params_under, \n",
    "                             cv=StratifiedKFold(10, shuffle=True), scoring = 'roc_auc')\n",
    "rf_fitted_under = rf_grid2.fit(X_train_u, y_train_u) \n",
    "rf_pred_under = rf_fitted_under.predict(X_test_u)\n",
    "print(f'Random Forest F1 training subset: { rf_grid2.score(X_train_u, y_train_u)}')\n",
    "print(f'Random Forest F1 test subset: { rf_grid2.score(X_test_u, y_test_u)}')"
   ]
  },
  {
   "cell_type": "code",
   "execution_count": 55,
   "metadata": {},
   "outputs": [],
   "source": [
    "rf_probs_u = rf_fitted_under.predict_proba(X_test_u)"
   ]
  },
  {
   "cell_type": "code",
   "execution_count": 188,
   "metadata": {},
   "outputs": [
    {
     "data": {
      "text/plain": [
       "<matplotlib.axes._subplots.AxesSubplot at 0x126da5a10>"
      ]
     },
     "execution_count": 188,
     "metadata": {},
     "output_type": "execute_result"
    },
    {
     "data": {
      "image/png": "[encoded data removed]",
      "text/plain": [
       "<Figure size 1440x1440 with 1 Axes>"
      ]
     },
     "metadata": {},
     "output_type": "display_data"
    }
   ],
   "source": [
    "feat_import = rf_fitted2.best_estimator_.named_steps['classifier'].feature_importances_\n",
    "feature_importance = pd.Series(feat_import, index= X_train_sub.columns)\n",
    "feature_importance.sort_values(inplace = True)\n",
    "feature_importance.plot(kind = 'barh', figsize=(20,20))"
   ]
  },
  {
   "cell_type": "code",
   "execution_count": 39,
   "metadata": {},
   "outputs": [
    {
     "data": {
      "text/plain": [
       "<sklearn.metrics._plot.confusion_matrix.ConfusionMatrixDisplay at 0x123494e50>"
      ]
     },
     "execution_count": 39,
     "metadata": {},
     "output_type": "execute_result"
    },
    {
     "data": {
      "image/png": "[encoded data removed]",
      "text/plain": [
       "<Figure size 432x288 with 2 Axes>"
      ]
     },
     "metadata": {
      "needs_background": "light"
     },
     "output_type": "display_data"
    }
   ],
   "source": [
    "from sklearn.metrics import plot_confusion_matrix\n",
    "plot_confusion_matrix(rf_fitted_under, X_test_u, y_test_u)"
   ]
  },
  {
   "cell_type": "code",
   "execution_count": 48,
   "metadata": {},
   "outputs": [
    {
     "data": {
      "text/plain": [
       "8887"
      ]
     },
     "execution_count": 48,
     "metadata": {},
     "output_type": "execute_result"
    }
   ],
   "source": [
    "len(rf_pred_under[rf_pred_under == 1])"
   ]
  },
  {
   "cell_type": "code",
   "execution_count": 42,
   "metadata": {},
   "outputs": [
    {
     "data": {
      "text/plain": [
       "(111626,)"
      ]
     },
     "execution_count": 42,
     "metadata": {},
     "output_type": "execute_result"
    }
   ],
   "source": [
    "y_train.shape"
   ]
  },
  {
   "cell_type": "code",
   "execution_count": 1,
   "metadata": {},
   "outputs": [],
   "source": [
    "from matplotlib import pyplot\n",
    "rf_probs_u = rf_fitted2.predict_proba(X_test_u)\n",
    "\n",
    "# keep probabilities for the positive outcome only\n",
    "rf_probs_u = lr_probs_u[:, 1]\n",
    "\n",
    "# calculate scores\n",
    "rf_auc = roc_auc_score(y_test_u, lr_probs_u)\n",
    "# roc curve for logistic regression model\n",
    "# calculate roc curves\n",
    "fpr, tpr, thresholds = roc_curve(y_test_u, rf_probs_u)\n",
    "\n",
    "# plot the roc curve for the model\n",
    "pyplot.plot([0,1], [0,1], linestyle='--', label='No Skill')\n",
    "pyplot.plot(fpr, tpr, marker='.', label='Logistic')\n",
    "\n",
    "# axis labels\n",
    "pyplot.xlabel('False Positive Rate')\n",
    "pyplot.ylabel('True Positive Rate')\n",
    "pyplot.legend()\n",
    "\n",
    "# show the plot\n",
    "pyplot.show()"
   ]
  },
  {
   "cell_type": "code",
   "execution_count": 52,
   "metadata": {},
   "outputs": [
    {
     "data": {
      "text/plain": [
       "0.6921859892766107"
      ]
     },
     "execution_count": 52,
     "metadata": {},
     "output_type": "execute_result"
    }
   ],
   "source": [
    "accuracy_score(y_test_u, rf_pred_under)"
   ]
  },
  {
   "cell_type": "markdown",
   "metadata": {},
   "source": [
    "# Stochastic Gradient Descent Classifier - ran almost instantaneously\n",
    "* Parameter Tuning:\n",
    "    * will use either log or modified-huber for the loss function as these support probabilistic estimates\n"
   ]
  },
  {
   "cell_type": "code",
   "execution_count": 221,
   "metadata": {},
   "outputs": [],
   "source": [
    "# Baseline Model\n",
    "# compare full dataset vs RUS\n",
    "sgd_pipe = Pipeline([('scaler', StandardScaler()), ('classifier', SGDClassifier(loss='log'))])\n",
    "fitted = sgd_pipe.fit(X_train, y_train)\n",
    "sgd_preds = fitted.predict(X_test)"
   ]
  },
  {
   "cell_type": "code",
   "execution_count": 223,
   "metadata": {},
   "outputs": [
    {
     "data": {
      "text/html": [
       "<div>\n",
       "<style scoped>\n",
       "    .dataframe tbody tr th:only-of-type {\n",
       "        vertical-align: middle;\n",
       "    }\n",
       "\n",
       "    .dataframe tbody tr th {\n",
       "        vertical-align: top;\n",
       "    }\n",
       "\n",
       "    .dataframe thead th {\n",
       "        text-align: right;\n",
       "    }\n",
       "</style>\n",
       "<table border=\"1\" class=\"dataframe\">\n",
       "  <thead>\n",
       "    <tr style=\"text-align: right;\">\n",
       "      <th></th>\n",
       "      <th>0</th>\n",
       "    </tr>\n",
       "  </thead>\n",
       "  <tbody>\n",
       "    <tr>\n",
       "      <th>accuracy</th>\n",
       "      <td>0.835740</td>\n",
       "    </tr>\n",
       "    <tr>\n",
       "      <th>recall</th>\n",
       "      <td>0.999182</td>\n",
       "    </tr>\n",
       "    <tr>\n",
       "      <th>precision</th>\n",
       "      <td>0.835608</td>\n",
       "    </tr>\n",
       "    <tr>\n",
       "      <th>roc_auc_score</th>\n",
       "      <td>0.512294</td>\n",
       "    </tr>\n",
       "    <tr>\n",
       "      <th>f1 score</th>\n",
       "      <td>0.910104</td>\n",
       "    </tr>\n",
       "  </tbody>\n",
       "</table>\n",
       "</div>"
      ],
      "text/plain": [
       "                      0\n",
       "accuracy       0.835740\n",
       "recall         0.999182\n",
       "precision      0.835608\n",
       "roc_auc_score  0.512294\n",
       "f1 score       0.910104"
      ]
     },
     "execution_count": 223,
     "metadata": {},
     "output_type": "execute_result"
    }
   ],
   "source": [
    "pd.DataFrame(data=[accuracy_score(y_test, sgd_preds), recall_score(y_test, sgd_preds),\n",
    "                   precision_score(y_test, sgd_preds), roc_auc_score(y_test, sgd_preds), \n",
    "                   f1_score(y_test, sgd_preds)], \n",
    "             index=[\"accuracy\", \"recall\", \"precision\", \"roc_auc_score\", \"f1 score\"])"
   ]
  },
  {
   "cell_type": "code",
   "execution_count": 231,
   "metadata": {},
   "outputs": [],
   "source": [
    "# Parameter Tuning\n",
    "\n",
    "sgd_pipe2 = Pipeline([('scaler', StandardScaler()), ('classifier', SGDClassifier())])\n",
    "sgd_grid_params2 = {'classifier__alpha': 10.0**-np.arange(1,7), \n",
    "                   'classifier__loss': ['log'], \n",
    "                  'classifier__penalty': ['l2', 'l1', 'elasticnet']}\n",
    "sgd_grid2 = GridSearchCV(sgd_pipe2, sgd_grid_params2, cv=StratifiedKFold(10, shuffle=True), scoring = 'f1')\n",
    "sgd_fitted2 = sgd_grid2.fit(X_train, y_train)\n",
    "sgd_preds2 = sgd_fitted2.predict(X_test)\n",
    "\n"
   ]
  },
  {
   "cell_type": "code",
   "execution_count": 232,
   "metadata": {},
   "outputs": [
    {
     "data": {
      "text/html": [
       "<div>\n",
       "<style scoped>\n",
       "    .dataframe tbody tr th:only-of-type {\n",
       "        vertical-align: middle;\n",
       "    }\n",
       "\n",
       "    .dataframe tbody tr th {\n",
       "        vertical-align: top;\n",
       "    }\n",
       "\n",
       "    .dataframe thead th {\n",
       "        text-align: right;\n",
       "    }\n",
       "</style>\n",
       "<table border=\"1\" class=\"dataframe\">\n",
       "  <thead>\n",
       "    <tr style=\"text-align: right;\">\n",
       "      <th></th>\n",
       "      <th>0</th>\n",
       "    </tr>\n",
       "  </thead>\n",
       "  <tbody>\n",
       "    <tr>\n",
       "      <th>accuracy</th>\n",
       "      <td>0.833303</td>\n",
       "    </tr>\n",
       "    <tr>\n",
       "      <th>recall</th>\n",
       "      <td>0.998622</td>\n",
       "    </tr>\n",
       "    <tr>\n",
       "      <th>precision</th>\n",
       "      <td>0.833879</td>\n",
       "    </tr>\n",
       "    <tr>\n",
       "      <th>roc_auc_score</th>\n",
       "      <td>0.506143</td>\n",
       "    </tr>\n",
       "    <tr>\n",
       "      <th>f1 score</th>\n",
       "      <td>0.908845</td>\n",
       "    </tr>\n",
       "  </tbody>\n",
       "</table>\n",
       "</div>"
      ],
      "text/plain": [
       "                      0\n",
       "accuracy       0.833303\n",
       "recall         0.998622\n",
       "precision      0.833879\n",
       "roc_auc_score  0.506143\n",
       "f1 score       0.908845"
      ]
     },
     "execution_count": 232,
     "metadata": {},
     "output_type": "execute_result"
    }
   ],
   "source": [
    "pd.DataFrame(data=[accuracy_score(y_test, sgd_preds2), recall_score(y_test, sgd_preds2),\n",
    "                   precision_score(y_test, sgd_preds2), roc_auc_score(y_test, sgd_preds2), \n",
    "                   f1_score(y_test, sgd_preds2)], \n",
    "             index=[\"accuracy\", \"recall\", \"precision\", \"roc_auc_score\", \"f1 score\"])"
   ]
  },
  {
   "cell_type": "code",
   "execution_count": 233,
   "metadata": {},
   "outputs": [],
   "source": [
    "# Baseline Model: RUS\n",
    "sgd_pipe_u = Pipeline([('scaler', StandardScaler()), ('classifier', SGDClassifier(loss='log'))])\n",
    "fitted_u = sgd_pipe.fit(X_train_u, y_train_u)\n",
    "sgd_preds_u = fitted.predict(X_test_u)"
   ]
  },
  {
   "cell_type": "code",
   "execution_count": 234,
   "metadata": {},
   "outputs": [
    {
     "data": {
      "text/html": [
       "<div>\n",
       "<style scoped>\n",
       "    .dataframe tbody tr th:only-of-type {\n",
       "        vertical-align: middle;\n",
       "    }\n",
       "\n",
       "    .dataframe tbody tr th {\n",
       "        vertical-align: top;\n",
       "    }\n",
       "\n",
       "    .dataframe thead th {\n",
       "        text-align: right;\n",
       "    }\n",
       "</style>\n",
       "<table border=\"1\" class=\"dataframe\">\n",
       "  <thead>\n",
       "    <tr style=\"text-align: right;\">\n",
       "      <th></th>\n",
       "      <th>0</th>\n",
       "    </tr>\n",
       "  </thead>\n",
       "  <tbody>\n",
       "    <tr>\n",
       "      <th>accuracy</th>\n",
       "      <td>0.626000</td>\n",
       "    </tr>\n",
       "    <tr>\n",
       "      <th>recall</th>\n",
       "      <td>0.789134</td>\n",
       "    </tr>\n",
       "    <tr>\n",
       "      <th>precision</th>\n",
       "      <td>0.648495</td>\n",
       "    </tr>\n",
       "    <tr>\n",
       "      <th>roc_auc_score</th>\n",
       "      <td>0.592276</td>\n",
       "    </tr>\n",
       "    <tr>\n",
       "      <th>f1 score</th>\n",
       "      <td>0.711936</td>\n",
       "    </tr>\n",
       "  </tbody>\n",
       "</table>\n",
       "</div>"
      ],
      "text/plain": [
       "                      0\n",
       "accuracy       0.626000\n",
       "recall         0.789134\n",
       "precision      0.648495\n",
       "roc_auc_score  0.592276\n",
       "f1 score       0.711936"
      ]
     },
     "execution_count": 234,
     "metadata": {},
     "output_type": "execute_result"
    }
   ],
   "source": [
    "pd.DataFrame(data=[accuracy_score(y_test_u, sgd_preds_u), recall_score(y_test_u, sgd_preds_u),\n",
    "                   precision_score(y_test_u, sgd_preds_u), roc_auc_score(y_test_u, sgd_preds_u), \n",
    "                   f1_score(y_test_u, sgd_preds_u)], \n",
    "             index=[\"accuracy\", \"recall\", \"precision\", \"roc_auc_score\", \"f1 score\"])"
   ]
  },
  {
   "cell_type": "code",
   "execution_count": 235,
   "metadata": {},
   "outputs": [],
   "source": [
    "# Parameter Tuning: RUS sample\n",
    "\n",
    "sgd_pipe2_u = Pipeline([('scaler', StandardScaler()), ('classifier', SGDClassifier())])\n",
    "sgd_grid_params2_u = {'classifier__alpha': 10.0**-np.arange(1,7), \n",
    "                   'classifier__loss': ['log'], \n",
    "                  'classifier__penalty': ['l2', 'l1', 'elasticnet']}\n",
    "sgd_grid2_u = GridSearchCV(sgd_pipe2_u, sgd_grid_params2_u, cv=StratifiedKFold(10, shuffle=True), scoring = 'f1')\n",
    "sgd_fitted2_u = sgd_grid2.fit(X_train_u, y_train_u)\n",
    "sgd_preds2_u = sgd_fitted2.predict(X_test_u)\n"
   ]
  },
  {
   "cell_type": "code",
   "execution_count": 236,
   "metadata": {},
   "outputs": [
    {
     "data": {
      "text/html": [
       "<div>\n",
       "<style scoped>\n",
       "    .dataframe tbody tr th:only-of-type {\n",
       "        vertical-align: middle;\n",
       "    }\n",
       "\n",
       "    .dataframe tbody tr th {\n",
       "        vertical-align: top;\n",
       "    }\n",
       "\n",
       "    .dataframe thead th {\n",
       "        text-align: right;\n",
       "    }\n",
       "</style>\n",
       "<table border=\"1\" class=\"dataframe\">\n",
       "  <thead>\n",
       "    <tr style=\"text-align: right;\">\n",
       "      <th></th>\n",
       "      <th>0</th>\n",
       "    </tr>\n",
       "  </thead>\n",
       "  <tbody>\n",
       "    <tr>\n",
       "      <th>accuracy</th>\n",
       "      <td>0.626000</td>\n",
       "    </tr>\n",
       "    <tr>\n",
       "      <th>recall</th>\n",
       "      <td>0.789134</td>\n",
       "    </tr>\n",
       "    <tr>\n",
       "      <th>precision</th>\n",
       "      <td>0.648495</td>\n",
       "    </tr>\n",
       "    <tr>\n",
       "      <th>roc_auc_score</th>\n",
       "      <td>0.592276</td>\n",
       "    </tr>\n",
       "    <tr>\n",
       "      <th>f1 score</th>\n",
       "      <td>0.711936</td>\n",
       "    </tr>\n",
       "  </tbody>\n",
       "</table>\n",
       "</div>"
      ],
      "text/plain": [
       "                      0\n",
       "accuracy       0.626000\n",
       "recall         0.789134\n",
       "precision      0.648495\n",
       "roc_auc_score  0.592276\n",
       "f1 score       0.711936"
      ]
     },
     "execution_count": 236,
     "metadata": {},
     "output_type": "execute_result"
    }
   ],
   "source": [
    "pd.DataFrame(data=[accuracy_score(y_test_u, sgd_preds_u), recall_score(y_test_u, sgd_preds_u),\n",
    "                   precision_score(y_test_u, sgd_preds_u), roc_auc_score(y_test_u, sgd_preds_u), \n",
    "                   f1_score(y_test_u, sgd_preds_u)], \n",
    "             index=[\"accuracy\", \"recall\", \"precision\", \"roc_auc_score\", \"f1 score\"])"
   ]
  }
 ],
 "metadata": {
  "kernelspec": {
   "display_name": "Python 3",
   "language": "python",
   "name": "python3"
  },
  "language_info": {
   "codemirror_mode": {
    "name": "ipython",
    "version": 3
   },
   "file_extension": ".py",
   "mimetype": "text/x-python",
   "name": "python",
   "nbconvert_exporter": "python",
   "pygments_lexer": "ipython3",
   "version": "3.7.7"
  }
 },
 "nbformat": 4,
 "nbformat_minor": 4
}
