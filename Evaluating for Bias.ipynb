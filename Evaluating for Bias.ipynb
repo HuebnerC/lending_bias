{
 "cells": [
  {
   "cell_type": "markdown",
   "metadata": {},
   "source": [
    "# Hypothesis Testing"
   ]
  },
  {
   "cell_type": "markdown",
   "metadata": {},
   "source": [
    "# Considerations: \n",
    "* Create validation set for race and for ethnicity \n",
    "* Run the model with all samples and print confusion matrix\n",
    "* select only rows where applicant is black, plot a confusion matrix\n",
    "* Repeat with other races, ethnicities\n",
    "* confusion matrix should have the same proportions of type 1 and type 2 errors for all races\n",
    "* Action Taken - 1 is approved. Change column name to Approval"
   ]
  },
  {
   "cell_type": "code",
   "execution_count": null,
   "metadata": {},
   "outputs": [],
   "source": []
  }
 ],
 "metadata": {
  "kernelspec": {
   "display_name": "Python 3",
   "language": "python",
   "name": "python3"
  },
  "language_info": {
   "codemirror_mode": {
    "name": "ipython",
    "version": 3
   },
   "file_extension": ".py",
   "mimetype": "text/x-python",
   "name": "python",
   "nbconvert_exporter": "python",
   "pygments_lexer": "ipython3",
   "version": "3.7.7"
  }
 },
 "nbformat": 4,
 "nbformat_minor": 4
}
