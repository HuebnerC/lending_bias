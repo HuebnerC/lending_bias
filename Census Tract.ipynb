{
 "cells": [
  {
   "cell_type": "code",
   "execution_count": 1,
   "metadata": {},
   "outputs": [],
   "source": [
    "import pandas as pd\n",
    "import numpy as np"
   ]
  },
  {
   "cell_type": "code",
   "execution_count": 10,
   "metadata": {},
   "outputs": [],
   "source": [
    "census = pd.read_excel('data/ruca2010revised.xlsx', header=None)"
   ]
  },
  {
   "cell_type": "code",
   "execution_count": 17,
   "metadata": {},
   "outputs": [],
   "source": [
    "census = census.rename(columns=census.iloc[1])"
   ]
  },
  {
   "cell_type": "code",
   "execution_count": 19,
   "metadata": {},
   "outputs": [],
   "source": [
    "census= census.iloc[2:]"
   ]
  },
  {
   "cell_type": "code",
   "execution_count": 22,
   "metadata": {},
   "outputs": [],
   "source": [
    "census = census.rename(columns={'State-County-Tract FIPS Code (lookup by address at http://www.ffiec.gov/Geocode/)': 'FIPS'})"
   ]
  },
  {
   "cell_type": "code",
   "execution_count": 23,
   "metadata": {},
   "outputs": [
    {
     "data": {
      "text/html": [
       "<div>\n",
       "<style scoped>\n",
       "    .dataframe tbody tr th:only-of-type {\n",
       "        vertical-align: middle;\n",
       "    }\n",
       "\n",
       "    .dataframe tbody tr th {\n",
       "        vertical-align: top;\n",
       "    }\n",
       "\n",
       "    .dataframe thead th {\n",
       "        text-align: right;\n",
       "    }\n",
       "</style>\n",
       "<table border=\"1\" class=\"dataframe\">\n",
       "  <thead>\n",
       "    <tr style=\"text-align: right;\">\n",
       "      <th></th>\n",
       "      <th>State-County FIPS Code</th>\n",
       "      <th>Select State</th>\n",
       "      <th>Select County</th>\n",
       "      <th>FIPS</th>\n",
       "      <th>Primary RUCA Code 2010</th>\n",
       "      <th>Secondary RUCA Code, 2010 (see errata)</th>\n",
       "      <th>Tract Population, 2010</th>\n",
       "      <th>Land Area (square miles), 2010</th>\n",
       "      <th>Population Density (per square mile), 2010</th>\n",
       "    </tr>\n",
       "  </thead>\n",
       "  <tbody>\n",
       "    <tr>\n",
       "      <th>2</th>\n",
       "      <td>01001</td>\n",
       "      <td>AL</td>\n",
       "      <td>Autauga County</td>\n",
       "      <td>01001020100</td>\n",
       "      <td>1</td>\n",
       "      <td>1</td>\n",
       "      <td>1912</td>\n",
       "      <td>3.78764</td>\n",
       "      <td>504.8</td>\n",
       "    </tr>\n",
       "    <tr>\n",
       "      <th>3</th>\n",
       "      <td>01001</td>\n",
       "      <td>AL</td>\n",
       "      <td>Autauga County</td>\n",
       "      <td>01001020200</td>\n",
       "      <td>1</td>\n",
       "      <td>1</td>\n",
       "      <td>2170</td>\n",
       "      <td>1.28978</td>\n",
       "      <td>1682.46</td>\n",
       "    </tr>\n",
       "    <tr>\n",
       "      <th>4</th>\n",
       "      <td>01001</td>\n",
       "      <td>AL</td>\n",
       "      <td>Autauga County</td>\n",
       "      <td>01001020300</td>\n",
       "      <td>1</td>\n",
       "      <td>1</td>\n",
       "      <td>3373</td>\n",
       "      <td>2.06537</td>\n",
       "      <td>1633.12</td>\n",
       "    </tr>\n",
       "    <tr>\n",
       "      <th>5</th>\n",
       "      <td>01001</td>\n",
       "      <td>AL</td>\n",
       "      <td>Autauga County</td>\n",
       "      <td>01001020400</td>\n",
       "      <td>1</td>\n",
       "      <td>1</td>\n",
       "      <td>4386</td>\n",
       "      <td>2.46438</td>\n",
       "      <td>1779.76</td>\n",
       "    </tr>\n",
       "    <tr>\n",
       "      <th>6</th>\n",
       "      <td>01001</td>\n",
       "      <td>AL</td>\n",
       "      <td>Autauga County</td>\n",
       "      <td>01001020500</td>\n",
       "      <td>1</td>\n",
       "      <td>1</td>\n",
       "      <td>10766</td>\n",
       "      <td>4.40069</td>\n",
       "      <td>2446.44</td>\n",
       "    </tr>\n",
       "  </tbody>\n",
       "</table>\n",
       "</div>"
      ],
      "text/plain": [
       "  State-County FIPS Code Select State   Select County         FIPS  \\\n",
       "2                  01001           AL  Autauga County  01001020100   \n",
       "3                  01001           AL  Autauga County  01001020200   \n",
       "4                  01001           AL  Autauga County  01001020300   \n",
       "5                  01001           AL  Autauga County  01001020400   \n",
       "6                  01001           AL  Autauga County  01001020500   \n",
       "\n",
       "  Primary RUCA Code 2010 Secondary RUCA Code, 2010 (see errata)  \\\n",
       "2                      1                                      1   \n",
       "3                      1                                      1   \n",
       "4                      1                                      1   \n",
       "5                      1                                      1   \n",
       "6                      1                                      1   \n",
       "\n",
       "  Tract Population, 2010 Land Area (square miles), 2010  \\\n",
       "2                   1912                        3.78764   \n",
       "3                   2170                        1.28978   \n",
       "4                   3373                        2.06537   \n",
       "5                   4386                        2.46438   \n",
       "6                  10766                        4.40069   \n",
       "\n",
       "  Population Density (per square mile), 2010  \n",
       "2                                      504.8  \n",
       "3                                    1682.46  \n",
       "4                                    1633.12  \n",
       "5                                    1779.76  \n",
       "6                                    2446.44  "
      ]
     },
     "execution_count": 23,
     "metadata": {},
     "output_type": "execute_result"
    }
   ],
   "source": [
    "census.head()"
   ]
  },
  {
   "cell_type": "code",
   "execution_count": 27,
   "metadata": {},
   "outputs": [],
   "source": [
    "# 99: Not coded/not enough demographic info. \n",
    "census = census[['FIPS','Primary RUCA Code 2010']]"
   ]
  },
  {
   "cell_type": "code",
   "execution_count": 31,
   "metadata": {},
   "outputs": [
    {
     "data": {
      "text/plain": [
       "1     52751\n",
       "2      6834\n",
       "4      4261\n",
       "10     3461\n",
       "7      2165\n",
       "5      1972\n",
       "8       827\n",
       "3       653\n",
       "6       411\n",
       "9       343\n",
       "99      324\n",
       "Name: Primary RUCA Code 2010, dtype: int64"
      ]
     },
     "execution_count": 31,
     "metadata": {},
     "output_type": "execute_result"
    }
   ],
   "source": [
    "census['Primary RUCA Code 2010'].value_counts()"
   ]
  },
  {
   "cell_type": "code",
   "execution_count": 33,
   "metadata": {},
   "outputs": [],
   "source": [
    "FIPS_dict = dict(zip(census['FIPS'], census['Primary RUCA Code 2010']))\n"
   ]
  },
  {
   "cell_type": "code",
   "execution_count": 34,
   "metadata": {},
   "outputs": [
    {
     "name": "stdout",
     "output_type": "stream",
     "text": [
      "Stored 'FIPS_dict' (dict)\n"
     ]
    }
   ],
   "source": [
    "%store FIPS_dict"
   ]
  },
  {
   "cell_type": "code",
   "execution_count": null,
   "metadata": {},
   "outputs": [],
   "source": []
  }
 ],
 "metadata": {
  "kernelspec": {
   "display_name": "Python 3",
   "language": "python",
   "name": "python3"
  },
  "language_info": {
   "codemirror_mode": {
    "name": "ipython",
    "version": 3
   },
   "file_extension": ".py",
   "mimetype": "text/x-python",
   "name": "python",
   "nbconvert_exporter": "python",
   "pygments_lexer": "ipython3",
   "version": "3.7.7"
  }
 },
 "nbformat": 4,
 "nbformat_minor": 4
}
